{
  "cells": [
    {
      "cell_type": "markdown",
      "source": [
        "## **Assignment – 771766 Fundamentals of Data Science PROJECT**"
      ],
      "metadata": {
        "id": "ei9c5w_mEoNT"
      }
    },
    {
      "cell_type": "markdown",
      "metadata": {
        "id": "pm4b_-ECikTk"
      },
      "source": [
        "<b>Introduction:</b>\n",
        "This notebook consist of 3 seperate parts:\n",
        "- Reading in the data file\n",
        "- Cleaning the data and ensuring that it is usable\n",
        "- Analyzing and Visualizing the data so that it can be understood easier and used in both the presentation and the report\n"
      ]
    },
    {
      "cell_type": "markdown",
      "metadata": {
        "id": "WU2KcAoLikTl"
      },
      "source": [
        "### **Downloading and importing required libraries**"
      ]
    },
    {
      "cell_type": "code",
      "source": [
        "!pip install word2number"
      ],
      "metadata": {
        "colab": {
          "base_uri": "https://localhost:8080/"
        },
        "id": "3S7v5qnAjDuE",
        "outputId": "421b3b6e-2d86-4d47-8165-446fa4fe6e23"
      },
      "execution_count": null,
      "outputs": [
        {
          "output_type": "stream",
          "name": "stdout",
          "text": [
            "Collecting word2number\n",
            "  Downloading word2number-1.1.zip (9.7 kB)\n",
            "Building wheels for collected packages: word2number\n",
            "  Building wheel for word2number (setup.py) ... \u001b[?25l\u001b[?25hdone\n",
            "  Created wheel for word2number: filename=word2number-1.1-py3-none-any.whl size=5582 sha256=b181aad8ad3ab6ff8af08cbcf752d04baaacc453bf6cc0f4507c0d95abeecbe0\n",
            "  Stored in directory: /root/.cache/pip/wheels/4b/c3/77/a5f48aeb0d3efb7cd5ad61cbd3da30bbf9ffc9662b07c9f879\n",
            "Successfully built word2number\n",
            "Installing collected packages: word2number\n",
            "Successfully installed word2number-1.1\n"
          ]
        }
      ]
    },
    {
      "cell_type": "code",
      "execution_count": null,
      "metadata": {
        "id": "1gzm8Rp1ikTm"
      },
      "outputs": [],
      "source": [
        "import pandas as pd\n",
        "import seaborn as sns\n",
        "import itertools \n",
        "from word2number import w2n \n",
        "import matplotlib.pyplot as plt"
      ]
    },
    {
      "cell_type": "markdown",
      "metadata": {
        "id": "TCwo8QBbikTo"
      },
      "source": [
        "## **Step One - Reading in the data file:**\n",
        "Here the file is read in using pandas and assigned to a variable so that changes are not being made to the file and there is no unecassary opening and closing of the file. "
      ]
    },
    {
      "cell_type": "code",
      "execution_count": null,
      "metadata": {
        "id": "vhoAMRvYikTp",
        "colab": {
          "base_uri": "https://localhost:8080/",
          "height": 206
        },
        "outputId": "e8b35ea9-971d-4db2-aa7c-902d407d4079"
      },
      "outputs": [
        {
          "output_type": "execute_result",
          "data": {
            "text/plain": [
              "  House Number    Street First Name       Surname Age  \\\n",
              "0            1  May Road     Victor  Newton-Smith  44   \n",
              "1            1  May Road      Clare       Bennett  43   \n",
              "2            1  May Road     Sophie  Newton-Smith   7   \n",
              "3            2  May Road    Frances         Singh  43   \n",
              "4            2  May Road       Ruth         Singh  17   \n",
              "\n",
              "  Relationship to Head of House Marital Status  Gender  \\\n",
              "0                          Head         Single    Male   \n",
              "1                       Partner         Single  Female   \n",
              "2                      Daughter            NaN  Female   \n",
              "3                          Head         Single  Female   \n",
              "4                      Daughter            NaN  Female   \n",
              "\n",
              "                           Occupation Infirmity   Religion  \n",
              "0  Public relations account executive      None  Methodist  \n",
              "1                        Sports coach      None       None  \n",
              "2                             Student      None        NaN  \n",
              "3             Agricultural consultant      None  Christian  \n",
              "4                             Student      None        NaN  "
            ],
            "text/html": [
              "\n",
              "  <div id=\"df-11bf5e5c-b1bc-4627-9b6a-74232fa7a1a6\">\n",
              "    <div class=\"colab-df-container\">\n",
              "      <div>\n",
              "<style scoped>\n",
              "    .dataframe tbody tr th:only-of-type {\n",
              "        vertical-align: middle;\n",
              "    }\n",
              "\n",
              "    .dataframe tbody tr th {\n",
              "        vertical-align: top;\n",
              "    }\n",
              "\n",
              "    .dataframe thead th {\n",
              "        text-align: right;\n",
              "    }\n",
              "</style>\n",
              "<table border=\"1\" class=\"dataframe\">\n",
              "  <thead>\n",
              "    <tr style=\"text-align: right;\">\n",
              "      <th></th>\n",
              "      <th>House Number</th>\n",
              "      <th>Street</th>\n",
              "      <th>First Name</th>\n",
              "      <th>Surname</th>\n",
              "      <th>Age</th>\n",
              "      <th>Relationship to Head of House</th>\n",
              "      <th>Marital Status</th>\n",
              "      <th>Gender</th>\n",
              "      <th>Occupation</th>\n",
              "      <th>Infirmity</th>\n",
              "      <th>Religion</th>\n",
              "    </tr>\n",
              "  </thead>\n",
              "  <tbody>\n",
              "    <tr>\n",
              "      <th>0</th>\n",
              "      <td>1</td>\n",
              "      <td>May Road</td>\n",
              "      <td>Victor</td>\n",
              "      <td>Newton-Smith</td>\n",
              "      <td>44</td>\n",
              "      <td>Head</td>\n",
              "      <td>Single</td>\n",
              "      <td>Male</td>\n",
              "      <td>Public relations account executive</td>\n",
              "      <td>None</td>\n",
              "      <td>Methodist</td>\n",
              "    </tr>\n",
              "    <tr>\n",
              "      <th>1</th>\n",
              "      <td>1</td>\n",
              "      <td>May Road</td>\n",
              "      <td>Clare</td>\n",
              "      <td>Bennett</td>\n",
              "      <td>43</td>\n",
              "      <td>Partner</td>\n",
              "      <td>Single</td>\n",
              "      <td>Female</td>\n",
              "      <td>Sports coach</td>\n",
              "      <td>None</td>\n",
              "      <td>None</td>\n",
              "    </tr>\n",
              "    <tr>\n",
              "      <th>2</th>\n",
              "      <td>1</td>\n",
              "      <td>May Road</td>\n",
              "      <td>Sophie</td>\n",
              "      <td>Newton-Smith</td>\n",
              "      <td>7</td>\n",
              "      <td>Daughter</td>\n",
              "      <td>NaN</td>\n",
              "      <td>Female</td>\n",
              "      <td>Student</td>\n",
              "      <td>None</td>\n",
              "      <td>NaN</td>\n",
              "    </tr>\n",
              "    <tr>\n",
              "      <th>3</th>\n",
              "      <td>2</td>\n",
              "      <td>May Road</td>\n",
              "      <td>Frances</td>\n",
              "      <td>Singh</td>\n",
              "      <td>43</td>\n",
              "      <td>Head</td>\n",
              "      <td>Single</td>\n",
              "      <td>Female</td>\n",
              "      <td>Agricultural consultant</td>\n",
              "      <td>None</td>\n",
              "      <td>Christian</td>\n",
              "    </tr>\n",
              "    <tr>\n",
              "      <th>4</th>\n",
              "      <td>2</td>\n",
              "      <td>May Road</td>\n",
              "      <td>Ruth</td>\n",
              "      <td>Singh</td>\n",
              "      <td>17</td>\n",
              "      <td>Daughter</td>\n",
              "      <td>NaN</td>\n",
              "      <td>Female</td>\n",
              "      <td>Student</td>\n",
              "      <td>None</td>\n",
              "      <td>NaN</td>\n",
              "    </tr>\n",
              "  </tbody>\n",
              "</table>\n",
              "</div>\n",
              "      <button class=\"colab-df-convert\" onclick=\"convertToInteractive('df-11bf5e5c-b1bc-4627-9b6a-74232fa7a1a6')\"\n",
              "              title=\"Convert this dataframe to an interactive table.\"\n",
              "              style=\"display:none;\">\n",
              "        \n",
              "  <svg xmlns=\"http://www.w3.org/2000/svg\" height=\"24px\"viewBox=\"0 0 24 24\"\n",
              "       width=\"24px\">\n",
              "    <path d=\"M0 0h24v24H0V0z\" fill=\"none\"/>\n",
              "    <path d=\"M18.56 5.44l.94 2.06.94-2.06 2.06-.94-2.06-.94-.94-2.06-.94 2.06-2.06.94zm-11 1L8.5 8.5l.94-2.06 2.06-.94-2.06-.94L8.5 2.5l-.94 2.06-2.06.94zm10 10l.94 2.06.94-2.06 2.06-.94-2.06-.94-.94-2.06-.94 2.06-2.06.94z\"/><path d=\"M17.41 7.96l-1.37-1.37c-.4-.4-.92-.59-1.43-.59-.52 0-1.04.2-1.43.59L10.3 9.45l-7.72 7.72c-.78.78-.78 2.05 0 2.83L4 21.41c.39.39.9.59 1.41.59.51 0 1.02-.2 1.41-.59l7.78-7.78 2.81-2.81c.8-.78.8-2.07 0-2.86zM5.41 20L4 18.59l7.72-7.72 1.47 1.35L5.41 20z\"/>\n",
              "  </svg>\n",
              "      </button>\n",
              "      \n",
              "  <style>\n",
              "    .colab-df-container {\n",
              "      display:flex;\n",
              "      flex-wrap:wrap;\n",
              "      gap: 12px;\n",
              "    }\n",
              "\n",
              "    .colab-df-convert {\n",
              "      background-color: #E8F0FE;\n",
              "      border: none;\n",
              "      border-radius: 50%;\n",
              "      cursor: pointer;\n",
              "      display: none;\n",
              "      fill: #1967D2;\n",
              "      height: 32px;\n",
              "      padding: 0 0 0 0;\n",
              "      width: 32px;\n",
              "    }\n",
              "\n",
              "    .colab-df-convert:hover {\n",
              "      background-color: #E2EBFA;\n",
              "      box-shadow: 0px 1px 2px rgba(60, 64, 67, 0.3), 0px 1px 3px 1px rgba(60, 64, 67, 0.15);\n",
              "      fill: #174EA6;\n",
              "    }\n",
              "\n",
              "    [theme=dark] .colab-df-convert {\n",
              "      background-color: #3B4455;\n",
              "      fill: #D2E3FC;\n",
              "    }\n",
              "\n",
              "    [theme=dark] .colab-df-convert:hover {\n",
              "      background-color: #434B5C;\n",
              "      box-shadow: 0px 1px 3px 1px rgba(0, 0, 0, 0.15);\n",
              "      filter: drop-shadow(0px 1px 2px rgba(0, 0, 0, 0.3));\n",
              "      fill: #FFFFFF;\n",
              "    }\n",
              "  </style>\n",
              "\n",
              "      <script>\n",
              "        const buttonEl =\n",
              "          document.querySelector('#df-11bf5e5c-b1bc-4627-9b6a-74232fa7a1a6 button.colab-df-convert');\n",
              "        buttonEl.style.display =\n",
              "          google.colab.kernel.accessAllowed ? 'block' : 'none';\n",
              "\n",
              "        async function convertToInteractive(key) {\n",
              "          const element = document.querySelector('#df-11bf5e5c-b1bc-4627-9b6a-74232fa7a1a6');\n",
              "          const dataTable =\n",
              "            await google.colab.kernel.invokeFunction('convertToInteractive',\n",
              "                                                     [key], {});\n",
              "          if (!dataTable) return;\n",
              "\n",
              "          const docLinkHtml = 'Like what you see? Visit the ' +\n",
              "            '<a target=\"_blank\" href=https://colab.research.google.com/notebooks/data_table.ipynb>data table notebook</a>'\n",
              "            + ' to learn more about interactive tables.';\n",
              "          element.innerHTML = '';\n",
              "          dataTable['output_type'] = 'display_data';\n",
              "          await google.colab.output.renderOutput(dataTable, element);\n",
              "          const docLink = document.createElement('div');\n",
              "          docLink.innerHTML = docLinkHtml;\n",
              "          element.appendChild(docLink);\n",
              "        }\n",
              "      </script>\n",
              "    </div>\n",
              "  </div>\n",
              "  "
            ]
          },
          "metadata": {},
          "execution_count": 4
        }
      ],
      "source": [
        "censusData = pd.read_csv('/census_17.csv')\n",
        "censusData.head()"
      ]
    },
    {
      "cell_type": "markdown",
      "metadata": {
        "id": "jlXgbF-aikTr"
      },
      "source": [
        "## **Step Two - Cleaning the Data**\n",
        "This part consists of multiple steps to ensure that the data is usable and valid and there are no missing values and no miss leading data. "
      ]
    },
    {
      "cell_type": "markdown",
      "metadata": {
        "id": "I-aat-WdikTs"
      },
      "source": [
        "It makes sense to first check how many missing values are in the data, so it can be understood what needs to be done."
      ]
    },
    {
      "cell_type": "code",
      "execution_count": null,
      "metadata": {
        "colab": {
          "base_uri": "https://localhost:8080/"
        },
        "id": "WIHdbmvtikTt",
        "outputId": "0992b15c-b71b-49a3-ba82-b36a2872cd20"
      },
      "outputs": [
        {
          "output_type": "execute_result",
          "data": {
            "text/plain": [
              "House Number         2\n",
              "First Name           2\n",
              "Marital Status    2243\n",
              "Religion          2298\n",
              "dtype: int64"
            ]
          },
          "metadata": {},
          "execution_count": 5
        }
      ],
      "source": [
        "#Find any columns with missing and null values, this also includes any filled with NA so this will need to be changed\n",
        "columsWMissing = censusData.columns[censusData.isnull().any()]\n",
        "censusData[columsWMissing].isnull().sum()"
      ]
    },
    {
      "cell_type": "markdown",
      "metadata": {
        "id": "lt7mOCjLikTx"
      },
      "source": [
        "The above cell outputs House Number - 2, First Name - 2,Marital Status - 2243, Religion - 2298<br>\n",
        "Further checks will need to be done on Marital Status and Religion as N/A is a valid answer for this column, so it needs to be checked for values that are incorrect and not N/A. \n",
        "NA is not valid for House Number and First Name so this can be looked at and resolved first. "
      ]
    },
    {
      "cell_type": "markdown",
      "source": [
        "### <b>Class for converting to the correct data types</b>"
      ],
      "metadata": {
        "id": "B5Mr06WQCZcs"
      }
    },
    {
      "cell_type": "code",
      "source": [
        "#Contains functions for converting data to an int, float, string and to lower case\n",
        "class conversion():\n",
        "    def convertToInt(dataFrame, columnName):\n",
        "        for i in range(len(dataFrame)):\n",
        "            try:\n",
        "                #Try and cast to an int\n",
        "                dataFrame[columnName][i] = int(dataFrame[columnName][i])\n",
        "            except:\n",
        "                #if it fails show the row it has failed on so a decision can be made on what to do with it \n",
        "                problematicRows.append(i)\n",
        "                print(f'ERROR IN DATA ON ROW: {i}')\n",
        "                print(f'PROBLEMATIC ROW IS: \\n {dataFrame.iloc[i]}')\n",
        "                \n",
        "                #Check for first and last item in dataframe so not trying to check out of index range\n",
        "                if i == len(dataFrame) -1:\n",
        "                    print(f'NO ROW AFTER THIS, ROW BEFORE IS: \\n {dataFrame.iloc[i-1]}')\n",
        "                if i == 0:\n",
        "                    print(f'NO ROW BEFORE, ROW AFTER IS: \\n {dataFrame.iloc[i+1]}')\n",
        "                else: \n",
        "                    print(f'ROW BEFORE IS: \\n {dataFrame.iloc[i-1]}')\n",
        "                    print(f'ROW AFTER IS: \\n {dataFrame.iloc[i+1]}')\n",
        "        return problematicRows #In case it is need to delete rows or manually update them\n",
        "\n",
        "    #Try to convert to a float\n",
        "    def convertToFloat(dataFrame, columnName):\n",
        "        for i in range(len(dataFrame)):\n",
        "            try:\n",
        "                dataFrame[columnName][i] = float(dataFrame[columnName][i])\n",
        "            except:\n",
        "                problematicRows.append(i)\n",
        "                print(dataFrame.iloc[i])\n",
        "        print(f'NUMBER OF ERRORS: {len(problematicRows)}')\n",
        "        return problematicRows\n",
        "    \n",
        "    #try to convert to a string\n",
        "    def convertToString(dataFrame, columnName):\n",
        "        for i in range (len(dataFrame)):\n",
        "            try:\n",
        "                dataFrame[columnName][i] = str(dataFrame[columnName][i])\n",
        "            except: \n",
        "                problematicRows.append(i)\n",
        "        print(f'NUMBER OF ERRORS: {len(problematicRows)}')\n",
        "        return problematicRows\n",
        "    \n",
        "    #Convert to Lower\n",
        "    def convertToLower(dataFrame, columnName):\n",
        "        for i in range(len(dataFrame)):\n",
        "            dataFrame[columnName][i] = dataFrame[columnName][i].lower()"
      ],
      "metadata": {
        "id": "au_eQM9BCa12"
      },
      "execution_count": null,
      "outputs": []
    },
    {
      "cell_type": "markdown",
      "source": [
        "### <b>Correcting House Number</b>"
      ],
      "metadata": {
        "id": "fl_I2W5NncDR"
      }
    },
    {
      "cell_type": "code",
      "source": [
        "#Try and convert the house numbers to int, also check for missing values\n",
        "problematicRows = []\n",
        "conversion.convertToInt(censusData, 'House Number')"
      ],
      "metadata": {
        "colab": {
          "base_uri": "https://localhost:8080/"
        },
        "id": "ih9YpR0bb8OS",
        "outputId": "c96834c3-04d6-43c9-cb61-6406cc6a6185"
      },
      "execution_count": null,
      "outputs": [
        {
          "output_type": "stream",
          "name": "stdout",
          "text": [
            "ERROR IN DATA ON ROW: 37\n",
            "PROBLEMATIC ROW IS: \n",
            " House Number                                           NaN\n",
            "Street                                            May Road\n",
            "First Name                                          Bethan\n",
            "Surname                                                Lee\n",
            "Age                                                     64\n",
            "Relationship to Head of House                         Wife\n",
            "Marital Status                                     Married\n",
            "Gender                                              Female\n",
            "Occupation                       Conference centre manager\n",
            "Infirmity                                             None\n",
            "Religion                                         Christian\n",
            "Name: 37, dtype: object\n",
            "ROW BEFORE IS: \n",
            " House Number                                            13\n",
            "Street                                            May Road\n",
            "First Name                                           Conor\n",
            "Surname                                                Lee\n",
            "Age                                                     65\n",
            "Relationship to Head of House                         Head\n",
            "Marital Status                                     Married\n",
            "Gender                                                Male\n",
            "Occupation                       Education officer, museum\n",
            "Infirmity                                             None\n",
            "Religion                                         Christian\n",
            "Name: 36, dtype: object\n",
            "ROW AFTER IS: \n",
            " House Number                                     13\n",
            "Street                                     May Road\n",
            "First Name                                 Danielle\n",
            "Surname                                         Lee\n",
            "Age                                              22\n",
            "Relationship to Head of House         Granddaughter\n",
            "Marital Status                             Divorced\n",
            "Gender                                       Female\n",
            "Occupation                       University Student\n",
            "Infirmity                                      None\n",
            "Religion                                       None\n",
            "Name: 38, dtype: object\n",
            "ERROR IN DATA ON ROW: 123\n",
            "PROBLEMATIC ROW IS: \n",
            " House Number                               NaN\n",
            "Street                                May Road\n",
            "First Name                                 Ann\n",
            "Surname                                  Brown\n",
            "Age                                         30\n",
            "Relationship to Head of House             Head\n",
            "Marital Status                        Divorced\n",
            "Gender                                  Female\n",
            "Occupation                       IT consultant\n",
            "Infirmity                                 None\n",
            "Religion                                  None\n",
            "Name: 123, dtype: object\n",
            "ROW BEFORE IS: \n",
            " House Number                           37\n",
            "Street                           May Road\n",
            "First Name                        Richard\n",
            "Surname                             Begum\n",
            "Age                                     5\n",
            "Relationship to Head of House         Son\n",
            "Marital Status                        NaN\n",
            "Gender                               Male\n",
            "Occupation                        Student\n",
            "Infirmity                            None\n",
            "Religion                              NaN\n",
            "Name: 122, dtype: object\n",
            "ROW AFTER IS: \n",
            " House Number                                                39\n",
            "Street                                                May Road\n",
            "First Name                                                Jack\n",
            "Surname                                                   Todd\n",
            "Age                                                         32\n",
            "Relationship to Head of House                             Head\n",
            "Marital Status                                          Single\n",
            "Gender                                                    Male\n",
            "Occupation                       Scientist, research (medical)\n",
            "Infirmity                                    Mental Disability\n",
            "Religion                                                  None\n",
            "Name: 124, dtype: object\n",
            "ERROR IN DATA ON ROW: 135\n",
            "PROBLEMATIC ROW IS: \n",
            " House Number                               Fourty Two\n",
            "Street                                       May Road\n",
            "First Name                                       Jean\n",
            "Surname                                         Lloyd\n",
            "Age                                                68\n",
            "Relationship to Head of House                    Head\n",
            "Marital Status                                Married\n",
            "Gender                                         Female\n",
            "Occupation                       Retired Web designer\n",
            "Infirmity                                        None\n",
            "Religion                                         None\n",
            "Name: 135, dtype: object\n",
            "ROW BEFORE IS: \n",
            " House Number                                   41\n",
            "Street                                   May Road\n",
            "First Name                                    Ann\n",
            "Surname                                      Ward\n",
            "Age                                             3\n",
            "Relationship to Head of House    Adopted Daughter\n",
            "Marital Status                                NaN\n",
            "Gender                                     Female\n",
            "Occupation                                  Child\n",
            "Infirmity                                    None\n",
            "Religion                                      NaN\n",
            "Name: 134, dtype: object\n",
            "ROW AFTER IS: \n",
            " House Number                                       42\n",
            "Street                                       May Road\n",
            "First Name                                       Marc\n",
            "Surname                                         Lloyd\n",
            "Age                                                68\n",
            "Relationship to Head of House                 Husband\n",
            "Marital Status                                Married\n",
            "Gender                                           Male\n",
            "Occupation                       Retired Neurosurgeon\n",
            "Infirmity                                        None\n",
            "Religion                                         None\n",
            "Name: 136, dtype: object\n"
          ]
        },
        {
          "output_type": "execute_result",
          "data": {
            "text/plain": [
              "[37, 123, 135]"
            ]
          },
          "metadata": {},
          "execution_count": 7
        }
      ]
    },
    {
      "cell_type": "markdown",
      "source": [
        "handling the three problementic rows"
      ],
      "metadata": {
        "id": "3jnsdkI-fb9B"
      }
    },
    {
      "cell_type": "code",
      "source": [
        "#Show the records with the missing House Number\n",
        "censusData[censusData['House Number'].isnull()]"
      ],
      "metadata": {
        "colab": {
          "base_uri": "https://localhost:8080/",
          "height": 112
        },
        "id": "N6hpCrsCnbcZ",
        "outputId": "bf276496-5fd2-413c-9bc2-eee36715e84d"
      },
      "execution_count": null,
      "outputs": [
        {
          "output_type": "execute_result",
          "data": {
            "text/plain": [
              "    House Number    Street First Name Surname Age  \\\n",
              "37           NaN  May Road     Bethan     Lee  64   \n",
              "123          NaN  May Road        Ann   Brown  30   \n",
              "\n",
              "    Relationship to Head of House Marital Status  Gender  \\\n",
              "37                           Wife        Married  Female   \n",
              "123                          Head       Divorced  Female   \n",
              "\n",
              "                    Occupation Infirmity   Religion  \n",
              "37   Conference centre manager      None  Christian  \n",
              "123              IT consultant      None       None  "
            ],
            "text/html": [
              "\n",
              "  <div id=\"df-7a8a6abf-8f66-4ed2-8b67-13e3d519e325\">\n",
              "    <div class=\"colab-df-container\">\n",
              "      <div>\n",
              "<style scoped>\n",
              "    .dataframe tbody tr th:only-of-type {\n",
              "        vertical-align: middle;\n",
              "    }\n",
              "\n",
              "    .dataframe tbody tr th {\n",
              "        vertical-align: top;\n",
              "    }\n",
              "\n",
              "    .dataframe thead th {\n",
              "        text-align: right;\n",
              "    }\n",
              "</style>\n",
              "<table border=\"1\" class=\"dataframe\">\n",
              "  <thead>\n",
              "    <tr style=\"text-align: right;\">\n",
              "      <th></th>\n",
              "      <th>House Number</th>\n",
              "      <th>Street</th>\n",
              "      <th>First Name</th>\n",
              "      <th>Surname</th>\n",
              "      <th>Age</th>\n",
              "      <th>Relationship to Head of House</th>\n",
              "      <th>Marital Status</th>\n",
              "      <th>Gender</th>\n",
              "      <th>Occupation</th>\n",
              "      <th>Infirmity</th>\n",
              "      <th>Religion</th>\n",
              "    </tr>\n",
              "  </thead>\n",
              "  <tbody>\n",
              "    <tr>\n",
              "      <th>37</th>\n",
              "      <td>NaN</td>\n",
              "      <td>May Road</td>\n",
              "      <td>Bethan</td>\n",
              "      <td>Lee</td>\n",
              "      <td>64</td>\n",
              "      <td>Wife</td>\n",
              "      <td>Married</td>\n",
              "      <td>Female</td>\n",
              "      <td>Conference centre manager</td>\n",
              "      <td>None</td>\n",
              "      <td>Christian</td>\n",
              "    </tr>\n",
              "    <tr>\n",
              "      <th>123</th>\n",
              "      <td>NaN</td>\n",
              "      <td>May Road</td>\n",
              "      <td>Ann</td>\n",
              "      <td>Brown</td>\n",
              "      <td>30</td>\n",
              "      <td>Head</td>\n",
              "      <td>Divorced</td>\n",
              "      <td>Female</td>\n",
              "      <td>IT consultant</td>\n",
              "      <td>None</td>\n",
              "      <td>None</td>\n",
              "    </tr>\n",
              "  </tbody>\n",
              "</table>\n",
              "</div>\n",
              "      <button class=\"colab-df-convert\" onclick=\"convertToInteractive('df-7a8a6abf-8f66-4ed2-8b67-13e3d519e325')\"\n",
              "              title=\"Convert this dataframe to an interactive table.\"\n",
              "              style=\"display:none;\">\n",
              "        \n",
              "  <svg xmlns=\"http://www.w3.org/2000/svg\" height=\"24px\"viewBox=\"0 0 24 24\"\n",
              "       width=\"24px\">\n",
              "    <path d=\"M0 0h24v24H0V0z\" fill=\"none\"/>\n",
              "    <path d=\"M18.56 5.44l.94 2.06.94-2.06 2.06-.94-2.06-.94-.94-2.06-.94 2.06-2.06.94zm-11 1L8.5 8.5l.94-2.06 2.06-.94-2.06-.94L8.5 2.5l-.94 2.06-2.06.94zm10 10l.94 2.06.94-2.06 2.06-.94-2.06-.94-.94-2.06-.94 2.06-2.06.94z\"/><path d=\"M17.41 7.96l-1.37-1.37c-.4-.4-.92-.59-1.43-.59-.52 0-1.04.2-1.43.59L10.3 9.45l-7.72 7.72c-.78.78-.78 2.05 0 2.83L4 21.41c.39.39.9.59 1.41.59.51 0 1.02-.2 1.41-.59l7.78-7.78 2.81-2.81c.8-.78.8-2.07 0-2.86zM5.41 20L4 18.59l7.72-7.72 1.47 1.35L5.41 20z\"/>\n",
              "  </svg>\n",
              "      </button>\n",
              "      \n",
              "  <style>\n",
              "    .colab-df-container {\n",
              "      display:flex;\n",
              "      flex-wrap:wrap;\n",
              "      gap: 12px;\n",
              "    }\n",
              "\n",
              "    .colab-df-convert {\n",
              "      background-color: #E8F0FE;\n",
              "      border: none;\n",
              "      border-radius: 50%;\n",
              "      cursor: pointer;\n",
              "      display: none;\n",
              "      fill: #1967D2;\n",
              "      height: 32px;\n",
              "      padding: 0 0 0 0;\n",
              "      width: 32px;\n",
              "    }\n",
              "\n",
              "    .colab-df-convert:hover {\n",
              "      background-color: #E2EBFA;\n",
              "      box-shadow: 0px 1px 2px rgba(60, 64, 67, 0.3), 0px 1px 3px 1px rgba(60, 64, 67, 0.15);\n",
              "      fill: #174EA6;\n",
              "    }\n",
              "\n",
              "    [theme=dark] .colab-df-convert {\n",
              "      background-color: #3B4455;\n",
              "      fill: #D2E3FC;\n",
              "    }\n",
              "\n",
              "    [theme=dark] .colab-df-convert:hover {\n",
              "      background-color: #434B5C;\n",
              "      box-shadow: 0px 1px 3px 1px rgba(0, 0, 0, 0.15);\n",
              "      filter: drop-shadow(0px 1px 2px rgba(0, 0, 0, 0.3));\n",
              "      fill: #FFFFFF;\n",
              "    }\n",
              "  </style>\n",
              "\n",
              "      <script>\n",
              "        const buttonEl =\n",
              "          document.querySelector('#df-7a8a6abf-8f66-4ed2-8b67-13e3d519e325 button.colab-df-convert');\n",
              "        buttonEl.style.display =\n",
              "          google.colab.kernel.accessAllowed ? 'block' : 'none';\n",
              "\n",
              "        async function convertToInteractive(key) {\n",
              "          const element = document.querySelector('#df-7a8a6abf-8f66-4ed2-8b67-13e3d519e325');\n",
              "          const dataTable =\n",
              "            await google.colab.kernel.invokeFunction('convertToInteractive',\n",
              "                                                     [key], {});\n",
              "          if (!dataTable) return;\n",
              "\n",
              "          const docLinkHtml = 'Like what you see? Visit the ' +\n",
              "            '<a target=\"_blank\" href=https://colab.research.google.com/notebooks/data_table.ipynb>data table notebook</a>'\n",
              "            + ' to learn more about interactive tables.';\n",
              "          element.innerHTML = '';\n",
              "          dataTable['output_type'] = 'display_data';\n",
              "          await google.colab.output.renderOutput(dataTable, element);\n",
              "          const docLink = document.createElement('div');\n",
              "          docLink.innerHTML = docLinkHtml;\n",
              "          element.appendChild(docLink);\n",
              "        }\n",
              "      </script>\n",
              "    </div>\n",
              "  </div>\n",
              "  "
            ]
          },
          "metadata": {},
          "execution_count": 8
        }
      ]
    },
    {
      "cell_type": "markdown",
      "source": [
        "Let's check if anyone with their surname lives down the same street as them."
      ],
      "metadata": {
        "id": "AM-Wc_Yin0eq"
      }
    },
    {
      "cell_type": "code",
      "source": [
        "#For row 37\n",
        "censusData.loc[(censusData['Surname'] == censusData.iloc[37]['Surname'])&(censusData['Street'] == censusData.iloc[37]['Street'])] # Return rows with same surname and street"
      ],
      "metadata": {
        "colab": {
          "base_uri": "https://localhost:8080/",
          "height": 143
        },
        "id": "h43OFmXGnt4e",
        "outputId": "2ca3af6d-8622-4b6c-bce7-b1aba93d51bc"
      },
      "execution_count": null,
      "outputs": [
        {
          "output_type": "execute_result",
          "data": {
            "text/plain": [
              "   House Number    Street First Name Surname Age  \\\n",
              "36           13  May Road      Conor     Lee  65   \n",
              "37          NaN  May Road     Bethan     Lee  64   \n",
              "38           13  May Road   Danielle     Lee  22   \n",
              "\n",
              "   Relationship to Head of House Marital Status  Gender  \\\n",
              "36                          Head        Married    Male   \n",
              "37                          Wife        Married  Female   \n",
              "38                 Granddaughter       Divorced  Female   \n",
              "\n",
              "                   Occupation Infirmity   Religion  \n",
              "36  Education officer, museum      None  Christian  \n",
              "37  Conference centre manager      None  Christian  \n",
              "38         University Student      None       None  "
            ],
            "text/html": [
              "\n",
              "  <div id=\"df-3d6e9041-0c12-47d4-aea9-f741bf1439ce\">\n",
              "    <div class=\"colab-df-container\">\n",
              "      <div>\n",
              "<style scoped>\n",
              "    .dataframe tbody tr th:only-of-type {\n",
              "        vertical-align: middle;\n",
              "    }\n",
              "\n",
              "    .dataframe tbody tr th {\n",
              "        vertical-align: top;\n",
              "    }\n",
              "\n",
              "    .dataframe thead th {\n",
              "        text-align: right;\n",
              "    }\n",
              "</style>\n",
              "<table border=\"1\" class=\"dataframe\">\n",
              "  <thead>\n",
              "    <tr style=\"text-align: right;\">\n",
              "      <th></th>\n",
              "      <th>House Number</th>\n",
              "      <th>Street</th>\n",
              "      <th>First Name</th>\n",
              "      <th>Surname</th>\n",
              "      <th>Age</th>\n",
              "      <th>Relationship to Head of House</th>\n",
              "      <th>Marital Status</th>\n",
              "      <th>Gender</th>\n",
              "      <th>Occupation</th>\n",
              "      <th>Infirmity</th>\n",
              "      <th>Religion</th>\n",
              "    </tr>\n",
              "  </thead>\n",
              "  <tbody>\n",
              "    <tr>\n",
              "      <th>36</th>\n",
              "      <td>13</td>\n",
              "      <td>May Road</td>\n",
              "      <td>Conor</td>\n",
              "      <td>Lee</td>\n",
              "      <td>65</td>\n",
              "      <td>Head</td>\n",
              "      <td>Married</td>\n",
              "      <td>Male</td>\n",
              "      <td>Education officer, museum</td>\n",
              "      <td>None</td>\n",
              "      <td>Christian</td>\n",
              "    </tr>\n",
              "    <tr>\n",
              "      <th>37</th>\n",
              "      <td>NaN</td>\n",
              "      <td>May Road</td>\n",
              "      <td>Bethan</td>\n",
              "      <td>Lee</td>\n",
              "      <td>64</td>\n",
              "      <td>Wife</td>\n",
              "      <td>Married</td>\n",
              "      <td>Female</td>\n",
              "      <td>Conference centre manager</td>\n",
              "      <td>None</td>\n",
              "      <td>Christian</td>\n",
              "    </tr>\n",
              "    <tr>\n",
              "      <th>38</th>\n",
              "      <td>13</td>\n",
              "      <td>May Road</td>\n",
              "      <td>Danielle</td>\n",
              "      <td>Lee</td>\n",
              "      <td>22</td>\n",
              "      <td>Granddaughter</td>\n",
              "      <td>Divorced</td>\n",
              "      <td>Female</td>\n",
              "      <td>University Student</td>\n",
              "      <td>None</td>\n",
              "      <td>None</td>\n",
              "    </tr>\n",
              "  </tbody>\n",
              "</table>\n",
              "</div>\n",
              "      <button class=\"colab-df-convert\" onclick=\"convertToInteractive('df-3d6e9041-0c12-47d4-aea9-f741bf1439ce')\"\n",
              "              title=\"Convert this dataframe to an interactive table.\"\n",
              "              style=\"display:none;\">\n",
              "        \n",
              "  <svg xmlns=\"http://www.w3.org/2000/svg\" height=\"24px\"viewBox=\"0 0 24 24\"\n",
              "       width=\"24px\">\n",
              "    <path d=\"M0 0h24v24H0V0z\" fill=\"none\"/>\n",
              "    <path d=\"M18.56 5.44l.94 2.06.94-2.06 2.06-.94-2.06-.94-.94-2.06-.94 2.06-2.06.94zm-11 1L8.5 8.5l.94-2.06 2.06-.94-2.06-.94L8.5 2.5l-.94 2.06-2.06.94zm10 10l.94 2.06.94-2.06 2.06-.94-2.06-.94-.94-2.06-.94 2.06-2.06.94z\"/><path d=\"M17.41 7.96l-1.37-1.37c-.4-.4-.92-.59-1.43-.59-.52 0-1.04.2-1.43.59L10.3 9.45l-7.72 7.72c-.78.78-.78 2.05 0 2.83L4 21.41c.39.39.9.59 1.41.59.51 0 1.02-.2 1.41-.59l7.78-7.78 2.81-2.81c.8-.78.8-2.07 0-2.86zM5.41 20L4 18.59l7.72-7.72 1.47 1.35L5.41 20z\"/>\n",
              "  </svg>\n",
              "      </button>\n",
              "      \n",
              "  <style>\n",
              "    .colab-df-container {\n",
              "      display:flex;\n",
              "      flex-wrap:wrap;\n",
              "      gap: 12px;\n",
              "    }\n",
              "\n",
              "    .colab-df-convert {\n",
              "      background-color: #E8F0FE;\n",
              "      border: none;\n",
              "      border-radius: 50%;\n",
              "      cursor: pointer;\n",
              "      display: none;\n",
              "      fill: #1967D2;\n",
              "      height: 32px;\n",
              "      padding: 0 0 0 0;\n",
              "      width: 32px;\n",
              "    }\n",
              "\n",
              "    .colab-df-convert:hover {\n",
              "      background-color: #E2EBFA;\n",
              "      box-shadow: 0px 1px 2px rgba(60, 64, 67, 0.3), 0px 1px 3px 1px rgba(60, 64, 67, 0.15);\n",
              "      fill: #174EA6;\n",
              "    }\n",
              "\n",
              "    [theme=dark] .colab-df-convert {\n",
              "      background-color: #3B4455;\n",
              "      fill: #D2E3FC;\n",
              "    }\n",
              "\n",
              "    [theme=dark] .colab-df-convert:hover {\n",
              "      background-color: #434B5C;\n",
              "      box-shadow: 0px 1px 3px 1px rgba(0, 0, 0, 0.15);\n",
              "      filter: drop-shadow(0px 1px 2px rgba(0, 0, 0, 0.3));\n",
              "      fill: #FFFFFF;\n",
              "    }\n",
              "  </style>\n",
              "\n",
              "      <script>\n",
              "        const buttonEl =\n",
              "          document.querySelector('#df-3d6e9041-0c12-47d4-aea9-f741bf1439ce button.colab-df-convert');\n",
              "        buttonEl.style.display =\n",
              "          google.colab.kernel.accessAllowed ? 'block' : 'none';\n",
              "\n",
              "        async function convertToInteractive(key) {\n",
              "          const element = document.querySelector('#df-3d6e9041-0c12-47d4-aea9-f741bf1439ce');\n",
              "          const dataTable =\n",
              "            await google.colab.kernel.invokeFunction('convertToInteractive',\n",
              "                                                     [key], {});\n",
              "          if (!dataTable) return;\n",
              "\n",
              "          const docLinkHtml = 'Like what you see? Visit the ' +\n",
              "            '<a target=\"_blank\" href=https://colab.research.google.com/notebooks/data_table.ipynb>data table notebook</a>'\n",
              "            + ' to learn more about interactive tables.';\n",
              "          element.innerHTML = '';\n",
              "          dataTable['output_type'] = 'display_data';\n",
              "          await google.colab.output.renderOutput(dataTable, element);\n",
              "          const docLink = document.createElement('div');\n",
              "          docLink.innerHTML = docLinkHtml;\n",
              "          element.appendChild(docLink);\n",
              "        }\n",
              "      </script>\n",
              "    </div>\n",
              "  </div>\n",
              "  "
            ]
          },
          "metadata": {},
          "execution_count": 9
        }
      ]
    },
    {
      "cell_type": "markdown",
      "source": [
        "We can deduce from following information like age, relationship, status that these rows match and fit together , Bethan-Lee is Conors's Wife and lives with him at house 13."
      ],
      "metadata": {
        "id": "EFg-zFVyoch5"
      }
    },
    {
      "cell_type": "code",
      "source": [
        "censusData.at[37, 'House Number'] = '13' # Set to 13"
      ],
      "metadata": {
        "id": "GhbWiZZgnt1Z"
      },
      "execution_count": null,
      "outputs": []
    },
    {
      "cell_type": "code",
      "source": [
        "#checking\n",
        "censusData.loc[(censusData['Surname'] == censusData.iloc[37]['Surname'])&(censusData['Street'] == censusData.iloc[37]['Street'])] # Return rows with same surname and street"
      ],
      "metadata": {
        "colab": {
          "base_uri": "https://localhost:8080/",
          "height": 143
        },
        "id": "_cmdTiR0ntjK",
        "outputId": "b042e0d0-e9c6-4465-e827-14eaa41a4b29"
      },
      "execution_count": null,
      "outputs": [
        {
          "output_type": "execute_result",
          "data": {
            "text/plain": [
              "   House Number    Street First Name Surname Age  \\\n",
              "36           13  May Road      Conor     Lee  65   \n",
              "37           13  May Road     Bethan     Lee  64   \n",
              "38           13  May Road   Danielle     Lee  22   \n",
              "\n",
              "   Relationship to Head of House Marital Status  Gender  \\\n",
              "36                          Head        Married    Male   \n",
              "37                          Wife        Married  Female   \n",
              "38                 Granddaughter       Divorced  Female   \n",
              "\n",
              "                   Occupation Infirmity   Religion  \n",
              "36  Education officer, museum      None  Christian  \n",
              "37  Conference centre manager      None  Christian  \n",
              "38         University Student      None       None  "
            ],
            "text/html": [
              "\n",
              "  <div id=\"df-bf14f098-7117-4c97-8c09-86e7801e8370\">\n",
              "    <div class=\"colab-df-container\">\n",
              "      <div>\n",
              "<style scoped>\n",
              "    .dataframe tbody tr th:only-of-type {\n",
              "        vertical-align: middle;\n",
              "    }\n",
              "\n",
              "    .dataframe tbody tr th {\n",
              "        vertical-align: top;\n",
              "    }\n",
              "\n",
              "    .dataframe thead th {\n",
              "        text-align: right;\n",
              "    }\n",
              "</style>\n",
              "<table border=\"1\" class=\"dataframe\">\n",
              "  <thead>\n",
              "    <tr style=\"text-align: right;\">\n",
              "      <th></th>\n",
              "      <th>House Number</th>\n",
              "      <th>Street</th>\n",
              "      <th>First Name</th>\n",
              "      <th>Surname</th>\n",
              "      <th>Age</th>\n",
              "      <th>Relationship to Head of House</th>\n",
              "      <th>Marital Status</th>\n",
              "      <th>Gender</th>\n",
              "      <th>Occupation</th>\n",
              "      <th>Infirmity</th>\n",
              "      <th>Religion</th>\n",
              "    </tr>\n",
              "  </thead>\n",
              "  <tbody>\n",
              "    <tr>\n",
              "      <th>36</th>\n",
              "      <td>13</td>\n",
              "      <td>May Road</td>\n",
              "      <td>Conor</td>\n",
              "      <td>Lee</td>\n",
              "      <td>65</td>\n",
              "      <td>Head</td>\n",
              "      <td>Married</td>\n",
              "      <td>Male</td>\n",
              "      <td>Education officer, museum</td>\n",
              "      <td>None</td>\n",
              "      <td>Christian</td>\n",
              "    </tr>\n",
              "    <tr>\n",
              "      <th>37</th>\n",
              "      <td>13</td>\n",
              "      <td>May Road</td>\n",
              "      <td>Bethan</td>\n",
              "      <td>Lee</td>\n",
              "      <td>64</td>\n",
              "      <td>Wife</td>\n",
              "      <td>Married</td>\n",
              "      <td>Female</td>\n",
              "      <td>Conference centre manager</td>\n",
              "      <td>None</td>\n",
              "      <td>Christian</td>\n",
              "    </tr>\n",
              "    <tr>\n",
              "      <th>38</th>\n",
              "      <td>13</td>\n",
              "      <td>May Road</td>\n",
              "      <td>Danielle</td>\n",
              "      <td>Lee</td>\n",
              "      <td>22</td>\n",
              "      <td>Granddaughter</td>\n",
              "      <td>Divorced</td>\n",
              "      <td>Female</td>\n",
              "      <td>University Student</td>\n",
              "      <td>None</td>\n",
              "      <td>None</td>\n",
              "    </tr>\n",
              "  </tbody>\n",
              "</table>\n",
              "</div>\n",
              "      <button class=\"colab-df-convert\" onclick=\"convertToInteractive('df-bf14f098-7117-4c97-8c09-86e7801e8370')\"\n",
              "              title=\"Convert this dataframe to an interactive table.\"\n",
              "              style=\"display:none;\">\n",
              "        \n",
              "  <svg xmlns=\"http://www.w3.org/2000/svg\" height=\"24px\"viewBox=\"0 0 24 24\"\n",
              "       width=\"24px\">\n",
              "    <path d=\"M0 0h24v24H0V0z\" fill=\"none\"/>\n",
              "    <path d=\"M18.56 5.44l.94 2.06.94-2.06 2.06-.94-2.06-.94-.94-2.06-.94 2.06-2.06.94zm-11 1L8.5 8.5l.94-2.06 2.06-.94-2.06-.94L8.5 2.5l-.94 2.06-2.06.94zm10 10l.94 2.06.94-2.06 2.06-.94-2.06-.94-.94-2.06-.94 2.06-2.06.94z\"/><path d=\"M17.41 7.96l-1.37-1.37c-.4-.4-.92-.59-1.43-.59-.52 0-1.04.2-1.43.59L10.3 9.45l-7.72 7.72c-.78.78-.78 2.05 0 2.83L4 21.41c.39.39.9.59 1.41.59.51 0 1.02-.2 1.41-.59l7.78-7.78 2.81-2.81c.8-.78.8-2.07 0-2.86zM5.41 20L4 18.59l7.72-7.72 1.47 1.35L5.41 20z\"/>\n",
              "  </svg>\n",
              "      </button>\n",
              "      \n",
              "  <style>\n",
              "    .colab-df-container {\n",
              "      display:flex;\n",
              "      flex-wrap:wrap;\n",
              "      gap: 12px;\n",
              "    }\n",
              "\n",
              "    .colab-df-convert {\n",
              "      background-color: #E8F0FE;\n",
              "      border: none;\n",
              "      border-radius: 50%;\n",
              "      cursor: pointer;\n",
              "      display: none;\n",
              "      fill: #1967D2;\n",
              "      height: 32px;\n",
              "      padding: 0 0 0 0;\n",
              "      width: 32px;\n",
              "    }\n",
              "\n",
              "    .colab-df-convert:hover {\n",
              "      background-color: #E2EBFA;\n",
              "      box-shadow: 0px 1px 2px rgba(60, 64, 67, 0.3), 0px 1px 3px 1px rgba(60, 64, 67, 0.15);\n",
              "      fill: #174EA6;\n",
              "    }\n",
              "\n",
              "    [theme=dark] .colab-df-convert {\n",
              "      background-color: #3B4455;\n",
              "      fill: #D2E3FC;\n",
              "    }\n",
              "\n",
              "    [theme=dark] .colab-df-convert:hover {\n",
              "      background-color: #434B5C;\n",
              "      box-shadow: 0px 1px 3px 1px rgba(0, 0, 0, 0.15);\n",
              "      filter: drop-shadow(0px 1px 2px rgba(0, 0, 0, 0.3));\n",
              "      fill: #FFFFFF;\n",
              "    }\n",
              "  </style>\n",
              "\n",
              "      <script>\n",
              "        const buttonEl =\n",
              "          document.querySelector('#df-bf14f098-7117-4c97-8c09-86e7801e8370 button.colab-df-convert');\n",
              "        buttonEl.style.display =\n",
              "          google.colab.kernel.accessAllowed ? 'block' : 'none';\n",
              "\n",
              "        async function convertToInteractive(key) {\n",
              "          const element = document.querySelector('#df-bf14f098-7117-4c97-8c09-86e7801e8370');\n",
              "          const dataTable =\n",
              "            await google.colab.kernel.invokeFunction('convertToInteractive',\n",
              "                                                     [key], {});\n",
              "          if (!dataTable) return;\n",
              "\n",
              "          const docLinkHtml = 'Like what you see? Visit the ' +\n",
              "            '<a target=\"_blank\" href=https://colab.research.google.com/notebooks/data_table.ipynb>data table notebook</a>'\n",
              "            + ' to learn more about interactive tables.';\n",
              "          element.innerHTML = '';\n",
              "          dataTable['output_type'] = 'display_data';\n",
              "          await google.colab.output.renderOutput(dataTable, element);\n",
              "          const docLink = document.createElement('div');\n",
              "          docLink.innerHTML = docLinkHtml;\n",
              "          element.appendChild(docLink);\n",
              "        }\n",
              "      </script>\n",
              "    </div>\n",
              "  </div>\n",
              "  "
            ]
          },
          "metadata": {},
          "execution_count": 11
        }
      ]
    },
    {
      "cell_type": "code",
      "source": [
        "#For row 123\t\n",
        "censusData.loc[(censusData['Surname'] == censusData.iloc[123]['Surname'])&(censusData['Street'] == censusData.iloc[123]['Street'])] # Return rows with same surname and street"
      ],
      "metadata": {
        "colab": {
          "base_uri": "https://localhost:8080/",
          "height": 81
        },
        "id": "WFsEkJ_Sntgr",
        "outputId": "19118516-d7f8-43ee-8105-6db93438e0c9"
      },
      "execution_count": null,
      "outputs": [
        {
          "output_type": "execute_result",
          "data": {
            "text/plain": [
              "    House Number    Street First Name Surname Age  \\\n",
              "123          NaN  May Road        Ann   Brown  30   \n",
              "\n",
              "    Relationship to Head of House Marital Status  Gender     Occupation  \\\n",
              "123                          Head       Divorced  Female  IT consultant   \n",
              "\n",
              "    Infirmity Religion  \n",
              "123      None     None  "
            ],
            "text/html": [
              "\n",
              "  <div id=\"df-bd1eed1c-505d-46e4-a52f-6d5540ae3fc0\">\n",
              "    <div class=\"colab-df-container\">\n",
              "      <div>\n",
              "<style scoped>\n",
              "    .dataframe tbody tr th:only-of-type {\n",
              "        vertical-align: middle;\n",
              "    }\n",
              "\n",
              "    .dataframe tbody tr th {\n",
              "        vertical-align: top;\n",
              "    }\n",
              "\n",
              "    .dataframe thead th {\n",
              "        text-align: right;\n",
              "    }\n",
              "</style>\n",
              "<table border=\"1\" class=\"dataframe\">\n",
              "  <thead>\n",
              "    <tr style=\"text-align: right;\">\n",
              "      <th></th>\n",
              "      <th>House Number</th>\n",
              "      <th>Street</th>\n",
              "      <th>First Name</th>\n",
              "      <th>Surname</th>\n",
              "      <th>Age</th>\n",
              "      <th>Relationship to Head of House</th>\n",
              "      <th>Marital Status</th>\n",
              "      <th>Gender</th>\n",
              "      <th>Occupation</th>\n",
              "      <th>Infirmity</th>\n",
              "      <th>Religion</th>\n",
              "    </tr>\n",
              "  </thead>\n",
              "  <tbody>\n",
              "    <tr>\n",
              "      <th>123</th>\n",
              "      <td>NaN</td>\n",
              "      <td>May Road</td>\n",
              "      <td>Ann</td>\n",
              "      <td>Brown</td>\n",
              "      <td>30</td>\n",
              "      <td>Head</td>\n",
              "      <td>Divorced</td>\n",
              "      <td>Female</td>\n",
              "      <td>IT consultant</td>\n",
              "      <td>None</td>\n",
              "      <td>None</td>\n",
              "    </tr>\n",
              "  </tbody>\n",
              "</table>\n",
              "</div>\n",
              "      <button class=\"colab-df-convert\" onclick=\"convertToInteractive('df-bd1eed1c-505d-46e4-a52f-6d5540ae3fc0')\"\n",
              "              title=\"Convert this dataframe to an interactive table.\"\n",
              "              style=\"display:none;\">\n",
              "        \n",
              "  <svg xmlns=\"http://www.w3.org/2000/svg\" height=\"24px\"viewBox=\"0 0 24 24\"\n",
              "       width=\"24px\">\n",
              "    <path d=\"M0 0h24v24H0V0z\" fill=\"none\"/>\n",
              "    <path d=\"M18.56 5.44l.94 2.06.94-2.06 2.06-.94-2.06-.94-.94-2.06-.94 2.06-2.06.94zm-11 1L8.5 8.5l.94-2.06 2.06-.94-2.06-.94L8.5 2.5l-.94 2.06-2.06.94zm10 10l.94 2.06.94-2.06 2.06-.94-2.06-.94-.94-2.06-.94 2.06-2.06.94z\"/><path d=\"M17.41 7.96l-1.37-1.37c-.4-.4-.92-.59-1.43-.59-.52 0-1.04.2-1.43.59L10.3 9.45l-7.72 7.72c-.78.78-.78 2.05 0 2.83L4 21.41c.39.39.9.59 1.41.59.51 0 1.02-.2 1.41-.59l7.78-7.78 2.81-2.81c.8-.78.8-2.07 0-2.86zM5.41 20L4 18.59l7.72-7.72 1.47 1.35L5.41 20z\"/>\n",
              "  </svg>\n",
              "      </button>\n",
              "      \n",
              "  <style>\n",
              "    .colab-df-container {\n",
              "      display:flex;\n",
              "      flex-wrap:wrap;\n",
              "      gap: 12px;\n",
              "    }\n",
              "\n",
              "    .colab-df-convert {\n",
              "      background-color: #E8F0FE;\n",
              "      border: none;\n",
              "      border-radius: 50%;\n",
              "      cursor: pointer;\n",
              "      display: none;\n",
              "      fill: #1967D2;\n",
              "      height: 32px;\n",
              "      padding: 0 0 0 0;\n",
              "      width: 32px;\n",
              "    }\n",
              "\n",
              "    .colab-df-convert:hover {\n",
              "      background-color: #E2EBFA;\n",
              "      box-shadow: 0px 1px 2px rgba(60, 64, 67, 0.3), 0px 1px 3px 1px rgba(60, 64, 67, 0.15);\n",
              "      fill: #174EA6;\n",
              "    }\n",
              "\n",
              "    [theme=dark] .colab-df-convert {\n",
              "      background-color: #3B4455;\n",
              "      fill: #D2E3FC;\n",
              "    }\n",
              "\n",
              "    [theme=dark] .colab-df-convert:hover {\n",
              "      background-color: #434B5C;\n",
              "      box-shadow: 0px 1px 3px 1px rgba(0, 0, 0, 0.15);\n",
              "      filter: drop-shadow(0px 1px 2px rgba(0, 0, 0, 0.3));\n",
              "      fill: #FFFFFF;\n",
              "    }\n",
              "  </style>\n",
              "\n",
              "      <script>\n",
              "        const buttonEl =\n",
              "          document.querySelector('#df-bd1eed1c-505d-46e4-a52f-6d5540ae3fc0 button.colab-df-convert');\n",
              "        buttonEl.style.display =\n",
              "          google.colab.kernel.accessAllowed ? 'block' : 'none';\n",
              "\n",
              "        async function convertToInteractive(key) {\n",
              "          const element = document.querySelector('#df-bd1eed1c-505d-46e4-a52f-6d5540ae3fc0');\n",
              "          const dataTable =\n",
              "            await google.colab.kernel.invokeFunction('convertToInteractive',\n",
              "                                                     [key], {});\n",
              "          if (!dataTable) return;\n",
              "\n",
              "          const docLinkHtml = 'Like what you see? Visit the ' +\n",
              "            '<a target=\"_blank\" href=https://colab.research.google.com/notebooks/data_table.ipynb>data table notebook</a>'\n",
              "            + ' to learn more about interactive tables.';\n",
              "          element.innerHTML = '';\n",
              "          dataTable['output_type'] = 'display_data';\n",
              "          await google.colab.output.renderOutput(dataTable, element);\n",
              "          const docLink = document.createElement('div');\n",
              "          docLink.innerHTML = docLinkHtml;\n",
              "          element.appendChild(docLink);\n",
              "        }\n",
              "      </script>\n",
              "    </div>\n",
              "  </div>\n",
              "  "
            ]
          },
          "metadata": {},
          "execution_count": 12
        }
      ]
    },
    {
      "cell_type": "code",
      "source": [
        "#Checking for her daughter or son since she is Divorced\n",
        "censusData.loc[(censusData['Street'] == censusData.iloc[123]['Street'])&(censusData['Relationship to Head of House'] == 'Son')&(censusData['Surname'] == censusData.iloc[123]['Surname'])]"
      ],
      "metadata": {
        "colab": {
          "base_uri": "https://localhost:8080/",
          "height": 49
        },
        "id": "lCsZvMQOnteK",
        "outputId": "835196a2-7f0a-4354-9644-d97aaf536684"
      },
      "execution_count": null,
      "outputs": [
        {
          "output_type": "execute_result",
          "data": {
            "text/plain": [
              "Empty DataFrame\n",
              "Columns: [House Number, Street, First Name, Surname, Age, Relationship to Head of House, Marital Status, Gender, Occupation, Infirmity, Religion]\n",
              "Index: []"
            ],
            "text/html": [
              "\n",
              "  <div id=\"df-a20a97d0-1b37-46d6-981f-8b74e1ec9ee2\">\n",
              "    <div class=\"colab-df-container\">\n",
              "      <div>\n",
              "<style scoped>\n",
              "    .dataframe tbody tr th:only-of-type {\n",
              "        vertical-align: middle;\n",
              "    }\n",
              "\n",
              "    .dataframe tbody tr th {\n",
              "        vertical-align: top;\n",
              "    }\n",
              "\n",
              "    .dataframe thead th {\n",
              "        text-align: right;\n",
              "    }\n",
              "</style>\n",
              "<table border=\"1\" class=\"dataframe\">\n",
              "  <thead>\n",
              "    <tr style=\"text-align: right;\">\n",
              "      <th></th>\n",
              "      <th>House Number</th>\n",
              "      <th>Street</th>\n",
              "      <th>First Name</th>\n",
              "      <th>Surname</th>\n",
              "      <th>Age</th>\n",
              "      <th>Relationship to Head of House</th>\n",
              "      <th>Marital Status</th>\n",
              "      <th>Gender</th>\n",
              "      <th>Occupation</th>\n",
              "      <th>Infirmity</th>\n",
              "      <th>Religion</th>\n",
              "    </tr>\n",
              "  </thead>\n",
              "  <tbody>\n",
              "  </tbody>\n",
              "</table>\n",
              "</div>\n",
              "      <button class=\"colab-df-convert\" onclick=\"convertToInteractive('df-a20a97d0-1b37-46d6-981f-8b74e1ec9ee2')\"\n",
              "              title=\"Convert this dataframe to an interactive table.\"\n",
              "              style=\"display:none;\">\n",
              "        \n",
              "  <svg xmlns=\"http://www.w3.org/2000/svg\" height=\"24px\"viewBox=\"0 0 24 24\"\n",
              "       width=\"24px\">\n",
              "    <path d=\"M0 0h24v24H0V0z\" fill=\"none\"/>\n",
              "    <path d=\"M18.56 5.44l.94 2.06.94-2.06 2.06-.94-2.06-.94-.94-2.06-.94 2.06-2.06.94zm-11 1L8.5 8.5l.94-2.06 2.06-.94-2.06-.94L8.5 2.5l-.94 2.06-2.06.94zm10 10l.94 2.06.94-2.06 2.06-.94-2.06-.94-.94-2.06-.94 2.06-2.06.94z\"/><path d=\"M17.41 7.96l-1.37-1.37c-.4-.4-.92-.59-1.43-.59-.52 0-1.04.2-1.43.59L10.3 9.45l-7.72 7.72c-.78.78-.78 2.05 0 2.83L4 21.41c.39.39.9.59 1.41.59.51 0 1.02-.2 1.41-.59l7.78-7.78 2.81-2.81c.8-.78.8-2.07 0-2.86zM5.41 20L4 18.59l7.72-7.72 1.47 1.35L5.41 20z\"/>\n",
              "  </svg>\n",
              "      </button>\n",
              "      \n",
              "  <style>\n",
              "    .colab-df-container {\n",
              "      display:flex;\n",
              "      flex-wrap:wrap;\n",
              "      gap: 12px;\n",
              "    }\n",
              "\n",
              "    .colab-df-convert {\n",
              "      background-color: #E8F0FE;\n",
              "      border: none;\n",
              "      border-radius: 50%;\n",
              "      cursor: pointer;\n",
              "      display: none;\n",
              "      fill: #1967D2;\n",
              "      height: 32px;\n",
              "      padding: 0 0 0 0;\n",
              "      width: 32px;\n",
              "    }\n",
              "\n",
              "    .colab-df-convert:hover {\n",
              "      background-color: #E2EBFA;\n",
              "      box-shadow: 0px 1px 2px rgba(60, 64, 67, 0.3), 0px 1px 3px 1px rgba(60, 64, 67, 0.15);\n",
              "      fill: #174EA6;\n",
              "    }\n",
              "\n",
              "    [theme=dark] .colab-df-convert {\n",
              "      background-color: #3B4455;\n",
              "      fill: #D2E3FC;\n",
              "    }\n",
              "\n",
              "    [theme=dark] .colab-df-convert:hover {\n",
              "      background-color: #434B5C;\n",
              "      box-shadow: 0px 1px 3px 1px rgba(0, 0, 0, 0.15);\n",
              "      filter: drop-shadow(0px 1px 2px rgba(0, 0, 0, 0.3));\n",
              "      fill: #FFFFFF;\n",
              "    }\n",
              "  </style>\n",
              "\n",
              "      <script>\n",
              "        const buttonEl =\n",
              "          document.querySelector('#df-a20a97d0-1b37-46d6-981f-8b74e1ec9ee2 button.colab-df-convert');\n",
              "        buttonEl.style.display =\n",
              "          google.colab.kernel.accessAllowed ? 'block' : 'none';\n",
              "\n",
              "        async function convertToInteractive(key) {\n",
              "          const element = document.querySelector('#df-a20a97d0-1b37-46d6-981f-8b74e1ec9ee2');\n",
              "          const dataTable =\n",
              "            await google.colab.kernel.invokeFunction('convertToInteractive',\n",
              "                                                     [key], {});\n",
              "          if (!dataTable) return;\n",
              "\n",
              "          const docLinkHtml = 'Like what you see? Visit the ' +\n",
              "            '<a target=\"_blank\" href=https://colab.research.google.com/notebooks/data_table.ipynb>data table notebook</a>'\n",
              "            + ' to learn more about interactive tables.';\n",
              "          element.innerHTML = '';\n",
              "          dataTable['output_type'] = 'display_data';\n",
              "          await google.colab.output.renderOutput(dataTable, element);\n",
              "          const docLink = document.createElement('div');\n",
              "          docLink.innerHTML = docLinkHtml;\n",
              "          element.appendChild(docLink);\n",
              "        }\n",
              "      </script>\n",
              "    </div>\n",
              "  </div>\n",
              "  "
            ]
          },
          "metadata": {},
          "execution_count": 13
        }
      ]
    },
    {
      "cell_type": "markdown",
      "source": [
        "Ann Brown has no family members"
      ],
      "metadata": {
        "id": "HPHZEW0Lqb7g"
      }
    },
    {
      "cell_type": "code",
      "source": [
        "censusData[120:130]"
      ],
      "metadata": {
        "colab": {
          "base_uri": "https://localhost:8080/",
          "height": 363
        },
        "id": "R9cUhByDntcF",
        "outputId": "afd6e3da-adfc-4564-a9d5-20a0d907932c"
      },
      "execution_count": null,
      "outputs": [
        {
          "output_type": "execute_result",
          "data": {
            "text/plain": [
              "    House Number    Street First Name  Surname Age  \\\n",
              "120           37  May Road       Neil    Begum  33   \n",
              "121           37  May Road    Gregory    Begum   9   \n",
              "122           37  May Road    Richard    Begum   5   \n",
              "123          NaN  May Road        Ann    Brown  30   \n",
              "124           39  May Road       Jack     Todd  32   \n",
              "125           39  May Road      Terry   Davies  31   \n",
              "126           39  May Road     Joseph    Sykes  18   \n",
              "127           39  May Road      Ellie   Taylor  18   \n",
              "128           39  May Road       Tina  Gilbert  22   \n",
              "129           40  May Road     Hannah    Mills  41   \n",
              "\n",
              "    Relationship to Head of House Marital Status  Gender  \\\n",
              "120                          Head         Single    Male   \n",
              "121                           Son            NaN    Male   \n",
              "122                           Son            NaN    Male   \n",
              "123                          Head       Divorced  Female   \n",
              "124                          Head         Single    Male   \n",
              "125                          None         Single    Male   \n",
              "126                          None         Single    Male   \n",
              "127                          None         Single  Female   \n",
              "128                          None         Single  Female   \n",
              "129                          Head        Married  Female   \n",
              "\n",
              "                            Occupation          Infirmity   Religion  \n",
              "120                         Unemployed               None   Catholic  \n",
              "121                            Student               None        NaN  \n",
              "122                            Student               None        NaN  \n",
              "123                      IT consultant               None       None  \n",
              "124      Scientist, research (medical)  Mental Disability       None  \n",
              "125  Radiation protection practitioner               None  Christian  \n",
              "126                            Student               None        NaN  \n",
              "127                            Student               None        NaN  \n",
              "128                 University Student               None   Catholic  \n",
              "129           Radiographer, diagnostic               None  Methodist  "
            ],
            "text/html": [
              "\n",
              "  <div id=\"df-7a42f4a5-f811-4966-8b2c-3790cb7febd8\">\n",
              "    <div class=\"colab-df-container\">\n",
              "      <div>\n",
              "<style scoped>\n",
              "    .dataframe tbody tr th:only-of-type {\n",
              "        vertical-align: middle;\n",
              "    }\n",
              "\n",
              "    .dataframe tbody tr th {\n",
              "        vertical-align: top;\n",
              "    }\n",
              "\n",
              "    .dataframe thead th {\n",
              "        text-align: right;\n",
              "    }\n",
              "</style>\n",
              "<table border=\"1\" class=\"dataframe\">\n",
              "  <thead>\n",
              "    <tr style=\"text-align: right;\">\n",
              "      <th></th>\n",
              "      <th>House Number</th>\n",
              "      <th>Street</th>\n",
              "      <th>First Name</th>\n",
              "      <th>Surname</th>\n",
              "      <th>Age</th>\n",
              "      <th>Relationship to Head of House</th>\n",
              "      <th>Marital Status</th>\n",
              "      <th>Gender</th>\n",
              "      <th>Occupation</th>\n",
              "      <th>Infirmity</th>\n",
              "      <th>Religion</th>\n",
              "    </tr>\n",
              "  </thead>\n",
              "  <tbody>\n",
              "    <tr>\n",
              "      <th>120</th>\n",
              "      <td>37</td>\n",
              "      <td>May Road</td>\n",
              "      <td>Neil</td>\n",
              "      <td>Begum</td>\n",
              "      <td>33</td>\n",
              "      <td>Head</td>\n",
              "      <td>Single</td>\n",
              "      <td>Male</td>\n",
              "      <td>Unemployed</td>\n",
              "      <td>None</td>\n",
              "      <td>Catholic</td>\n",
              "    </tr>\n",
              "    <tr>\n",
              "      <th>121</th>\n",
              "      <td>37</td>\n",
              "      <td>May Road</td>\n",
              "      <td>Gregory</td>\n",
              "      <td>Begum</td>\n",
              "      <td>9</td>\n",
              "      <td>Son</td>\n",
              "      <td>NaN</td>\n",
              "      <td>Male</td>\n",
              "      <td>Student</td>\n",
              "      <td>None</td>\n",
              "      <td>NaN</td>\n",
              "    </tr>\n",
              "    <tr>\n",
              "      <th>122</th>\n",
              "      <td>37</td>\n",
              "      <td>May Road</td>\n",
              "      <td>Richard</td>\n",
              "      <td>Begum</td>\n",
              "      <td>5</td>\n",
              "      <td>Son</td>\n",
              "      <td>NaN</td>\n",
              "      <td>Male</td>\n",
              "      <td>Student</td>\n",
              "      <td>None</td>\n",
              "      <td>NaN</td>\n",
              "    </tr>\n",
              "    <tr>\n",
              "      <th>123</th>\n",
              "      <td>NaN</td>\n",
              "      <td>May Road</td>\n",
              "      <td>Ann</td>\n",
              "      <td>Brown</td>\n",
              "      <td>30</td>\n",
              "      <td>Head</td>\n",
              "      <td>Divorced</td>\n",
              "      <td>Female</td>\n",
              "      <td>IT consultant</td>\n",
              "      <td>None</td>\n",
              "      <td>None</td>\n",
              "    </tr>\n",
              "    <tr>\n",
              "      <th>124</th>\n",
              "      <td>39</td>\n",
              "      <td>May Road</td>\n",
              "      <td>Jack</td>\n",
              "      <td>Todd</td>\n",
              "      <td>32</td>\n",
              "      <td>Head</td>\n",
              "      <td>Single</td>\n",
              "      <td>Male</td>\n",
              "      <td>Scientist, research (medical)</td>\n",
              "      <td>Mental Disability</td>\n",
              "      <td>None</td>\n",
              "    </tr>\n",
              "    <tr>\n",
              "      <th>125</th>\n",
              "      <td>39</td>\n",
              "      <td>May Road</td>\n",
              "      <td>Terry</td>\n",
              "      <td>Davies</td>\n",
              "      <td>31</td>\n",
              "      <td>None</td>\n",
              "      <td>Single</td>\n",
              "      <td>Male</td>\n",
              "      <td>Radiation protection practitioner</td>\n",
              "      <td>None</td>\n",
              "      <td>Christian</td>\n",
              "    </tr>\n",
              "    <tr>\n",
              "      <th>126</th>\n",
              "      <td>39</td>\n",
              "      <td>May Road</td>\n",
              "      <td>Joseph</td>\n",
              "      <td>Sykes</td>\n",
              "      <td>18</td>\n",
              "      <td>None</td>\n",
              "      <td>Single</td>\n",
              "      <td>Male</td>\n",
              "      <td>Student</td>\n",
              "      <td>None</td>\n",
              "      <td>NaN</td>\n",
              "    </tr>\n",
              "    <tr>\n",
              "      <th>127</th>\n",
              "      <td>39</td>\n",
              "      <td>May Road</td>\n",
              "      <td>Ellie</td>\n",
              "      <td>Taylor</td>\n",
              "      <td>18</td>\n",
              "      <td>None</td>\n",
              "      <td>Single</td>\n",
              "      <td>Female</td>\n",
              "      <td>Student</td>\n",
              "      <td>None</td>\n",
              "      <td>NaN</td>\n",
              "    </tr>\n",
              "    <tr>\n",
              "      <th>128</th>\n",
              "      <td>39</td>\n",
              "      <td>May Road</td>\n",
              "      <td>Tina</td>\n",
              "      <td>Gilbert</td>\n",
              "      <td>22</td>\n",
              "      <td>None</td>\n",
              "      <td>Single</td>\n",
              "      <td>Female</td>\n",
              "      <td>University Student</td>\n",
              "      <td>None</td>\n",
              "      <td>Catholic</td>\n",
              "    </tr>\n",
              "    <tr>\n",
              "      <th>129</th>\n",
              "      <td>40</td>\n",
              "      <td>May Road</td>\n",
              "      <td>Hannah</td>\n",
              "      <td>Mills</td>\n",
              "      <td>41</td>\n",
              "      <td>Head</td>\n",
              "      <td>Married</td>\n",
              "      <td>Female</td>\n",
              "      <td>Radiographer, diagnostic</td>\n",
              "      <td>None</td>\n",
              "      <td>Methodist</td>\n",
              "    </tr>\n",
              "  </tbody>\n",
              "</table>\n",
              "</div>\n",
              "      <button class=\"colab-df-convert\" onclick=\"convertToInteractive('df-7a42f4a5-f811-4966-8b2c-3790cb7febd8')\"\n",
              "              title=\"Convert this dataframe to an interactive table.\"\n",
              "              style=\"display:none;\">\n",
              "        \n",
              "  <svg xmlns=\"http://www.w3.org/2000/svg\" height=\"24px\"viewBox=\"0 0 24 24\"\n",
              "       width=\"24px\">\n",
              "    <path d=\"M0 0h24v24H0V0z\" fill=\"none\"/>\n",
              "    <path d=\"M18.56 5.44l.94 2.06.94-2.06 2.06-.94-2.06-.94-.94-2.06-.94 2.06-2.06.94zm-11 1L8.5 8.5l.94-2.06 2.06-.94-2.06-.94L8.5 2.5l-.94 2.06-2.06.94zm10 10l.94 2.06.94-2.06 2.06-.94-2.06-.94-.94-2.06-.94 2.06-2.06.94z\"/><path d=\"M17.41 7.96l-1.37-1.37c-.4-.4-.92-.59-1.43-.59-.52 0-1.04.2-1.43.59L10.3 9.45l-7.72 7.72c-.78.78-.78 2.05 0 2.83L4 21.41c.39.39.9.59 1.41.59.51 0 1.02-.2 1.41-.59l7.78-7.78 2.81-2.81c.8-.78.8-2.07 0-2.86zM5.41 20L4 18.59l7.72-7.72 1.47 1.35L5.41 20z\"/>\n",
              "  </svg>\n",
              "      </button>\n",
              "      \n",
              "  <style>\n",
              "    .colab-df-container {\n",
              "      display:flex;\n",
              "      flex-wrap:wrap;\n",
              "      gap: 12px;\n",
              "    }\n",
              "\n",
              "    .colab-df-convert {\n",
              "      background-color: #E8F0FE;\n",
              "      border: none;\n",
              "      border-radius: 50%;\n",
              "      cursor: pointer;\n",
              "      display: none;\n",
              "      fill: #1967D2;\n",
              "      height: 32px;\n",
              "      padding: 0 0 0 0;\n",
              "      width: 32px;\n",
              "    }\n",
              "\n",
              "    .colab-df-convert:hover {\n",
              "      background-color: #E2EBFA;\n",
              "      box-shadow: 0px 1px 2px rgba(60, 64, 67, 0.3), 0px 1px 3px 1px rgba(60, 64, 67, 0.15);\n",
              "      fill: #174EA6;\n",
              "    }\n",
              "\n",
              "    [theme=dark] .colab-df-convert {\n",
              "      background-color: #3B4455;\n",
              "      fill: #D2E3FC;\n",
              "    }\n",
              "\n",
              "    [theme=dark] .colab-df-convert:hover {\n",
              "      background-color: #434B5C;\n",
              "      box-shadow: 0px 1px 3px 1px rgba(0, 0, 0, 0.15);\n",
              "      filter: drop-shadow(0px 1px 2px rgba(0, 0, 0, 0.3));\n",
              "      fill: #FFFFFF;\n",
              "    }\n",
              "  </style>\n",
              "\n",
              "      <script>\n",
              "        const buttonEl =\n",
              "          document.querySelector('#df-7a42f4a5-f811-4966-8b2c-3790cb7febd8 button.colab-df-convert');\n",
              "        buttonEl.style.display =\n",
              "          google.colab.kernel.accessAllowed ? 'block' : 'none';\n",
              "\n",
              "        async function convertToInteractive(key) {\n",
              "          const element = document.querySelector('#df-7a42f4a5-f811-4966-8b2c-3790cb7febd8');\n",
              "          const dataTable =\n",
              "            await google.colab.kernel.invokeFunction('convertToInteractive',\n",
              "                                                     [key], {});\n",
              "          if (!dataTable) return;\n",
              "\n",
              "          const docLinkHtml = 'Like what you see? Visit the ' +\n",
              "            '<a target=\"_blank\" href=https://colab.research.google.com/notebooks/data_table.ipynb>data table notebook</a>'\n",
              "            + ' to learn more about interactive tables.';\n",
              "          element.innerHTML = '';\n",
              "          dataTable['output_type'] = 'display_data';\n",
              "          await google.colab.output.renderOutput(dataTable, element);\n",
              "          const docLink = document.createElement('div');\n",
              "          docLink.innerHTML = docLinkHtml;\n",
              "          element.appendChild(docLink);\n",
              "        }\n",
              "      </script>\n",
              "    </div>\n",
              "  </div>\n",
              "  "
            ]
          },
          "metadata": {},
          "execution_count": 14
        }
      ]
    },
    {
      "cell_type": "markdown",
      "source": [
        "From above table we can conclude that Ann brown house number is 38 since its missing value between 37 and 39 with no other family member as she live alone."
      ],
      "metadata": {
        "id": "lpeYY57FqoCW"
      }
    },
    {
      "cell_type": "code",
      "source": [
        "censusData.at[123, 'House Number'] = '38' # Set to 38"
      ],
      "metadata": {
        "id": "_0osuX44tIZN"
      },
      "execution_count": null,
      "outputs": []
    },
    {
      "cell_type": "code",
      "source": [
        "#checking\n",
        "censusData.loc[(censusData['Surname'] == censusData.iloc[123]['Surname'])&(censusData['Street'] == censusData.iloc[123]['Street'])] # Return rows with same surname and street"
      ],
      "metadata": {
        "colab": {
          "base_uri": "https://localhost:8080/",
          "height": 81
        },
        "id": "kR7INbkrntZJ",
        "outputId": "4a8a1eba-7694-474b-8bee-1004da87e32c"
      },
      "execution_count": null,
      "outputs": [
        {
          "output_type": "execute_result",
          "data": {
            "text/plain": [
              "    House Number    Street First Name Surname Age  \\\n",
              "123           38  May Road        Ann   Brown  30   \n",
              "\n",
              "    Relationship to Head of House Marital Status  Gender     Occupation  \\\n",
              "123                          Head       Divorced  Female  IT consultant   \n",
              "\n",
              "    Infirmity Religion  \n",
              "123      None     None  "
            ],
            "text/html": [
              "\n",
              "  <div id=\"df-351f6e50-5ac9-44ae-98a0-69d73d70a535\">\n",
              "    <div class=\"colab-df-container\">\n",
              "      <div>\n",
              "<style scoped>\n",
              "    .dataframe tbody tr th:only-of-type {\n",
              "        vertical-align: middle;\n",
              "    }\n",
              "\n",
              "    .dataframe tbody tr th {\n",
              "        vertical-align: top;\n",
              "    }\n",
              "\n",
              "    .dataframe thead th {\n",
              "        text-align: right;\n",
              "    }\n",
              "</style>\n",
              "<table border=\"1\" class=\"dataframe\">\n",
              "  <thead>\n",
              "    <tr style=\"text-align: right;\">\n",
              "      <th></th>\n",
              "      <th>House Number</th>\n",
              "      <th>Street</th>\n",
              "      <th>First Name</th>\n",
              "      <th>Surname</th>\n",
              "      <th>Age</th>\n",
              "      <th>Relationship to Head of House</th>\n",
              "      <th>Marital Status</th>\n",
              "      <th>Gender</th>\n",
              "      <th>Occupation</th>\n",
              "      <th>Infirmity</th>\n",
              "      <th>Religion</th>\n",
              "    </tr>\n",
              "  </thead>\n",
              "  <tbody>\n",
              "    <tr>\n",
              "      <th>123</th>\n",
              "      <td>38</td>\n",
              "      <td>May Road</td>\n",
              "      <td>Ann</td>\n",
              "      <td>Brown</td>\n",
              "      <td>30</td>\n",
              "      <td>Head</td>\n",
              "      <td>Divorced</td>\n",
              "      <td>Female</td>\n",
              "      <td>IT consultant</td>\n",
              "      <td>None</td>\n",
              "      <td>None</td>\n",
              "    </tr>\n",
              "  </tbody>\n",
              "</table>\n",
              "</div>\n",
              "      <button class=\"colab-df-convert\" onclick=\"convertToInteractive('df-351f6e50-5ac9-44ae-98a0-69d73d70a535')\"\n",
              "              title=\"Convert this dataframe to an interactive table.\"\n",
              "              style=\"display:none;\">\n",
              "        \n",
              "  <svg xmlns=\"http://www.w3.org/2000/svg\" height=\"24px\"viewBox=\"0 0 24 24\"\n",
              "       width=\"24px\">\n",
              "    <path d=\"M0 0h24v24H0V0z\" fill=\"none\"/>\n",
              "    <path d=\"M18.56 5.44l.94 2.06.94-2.06 2.06-.94-2.06-.94-.94-2.06-.94 2.06-2.06.94zm-11 1L8.5 8.5l.94-2.06 2.06-.94-2.06-.94L8.5 2.5l-.94 2.06-2.06.94zm10 10l.94 2.06.94-2.06 2.06-.94-2.06-.94-.94-2.06-.94 2.06-2.06.94z\"/><path d=\"M17.41 7.96l-1.37-1.37c-.4-.4-.92-.59-1.43-.59-.52 0-1.04.2-1.43.59L10.3 9.45l-7.72 7.72c-.78.78-.78 2.05 0 2.83L4 21.41c.39.39.9.59 1.41.59.51 0 1.02-.2 1.41-.59l7.78-7.78 2.81-2.81c.8-.78.8-2.07 0-2.86zM5.41 20L4 18.59l7.72-7.72 1.47 1.35L5.41 20z\"/>\n",
              "  </svg>\n",
              "      </button>\n",
              "      \n",
              "  <style>\n",
              "    .colab-df-container {\n",
              "      display:flex;\n",
              "      flex-wrap:wrap;\n",
              "      gap: 12px;\n",
              "    }\n",
              "\n",
              "    .colab-df-convert {\n",
              "      background-color: #E8F0FE;\n",
              "      border: none;\n",
              "      border-radius: 50%;\n",
              "      cursor: pointer;\n",
              "      display: none;\n",
              "      fill: #1967D2;\n",
              "      height: 32px;\n",
              "      padding: 0 0 0 0;\n",
              "      width: 32px;\n",
              "    }\n",
              "\n",
              "    .colab-df-convert:hover {\n",
              "      background-color: #E2EBFA;\n",
              "      box-shadow: 0px 1px 2px rgba(60, 64, 67, 0.3), 0px 1px 3px 1px rgba(60, 64, 67, 0.15);\n",
              "      fill: #174EA6;\n",
              "    }\n",
              "\n",
              "    [theme=dark] .colab-df-convert {\n",
              "      background-color: #3B4455;\n",
              "      fill: #D2E3FC;\n",
              "    }\n",
              "\n",
              "    [theme=dark] .colab-df-convert:hover {\n",
              "      background-color: #434B5C;\n",
              "      box-shadow: 0px 1px 3px 1px rgba(0, 0, 0, 0.15);\n",
              "      filter: drop-shadow(0px 1px 2px rgba(0, 0, 0, 0.3));\n",
              "      fill: #FFFFFF;\n",
              "    }\n",
              "  </style>\n",
              "\n",
              "      <script>\n",
              "        const buttonEl =\n",
              "          document.querySelector('#df-351f6e50-5ac9-44ae-98a0-69d73d70a535 button.colab-df-convert');\n",
              "        buttonEl.style.display =\n",
              "          google.colab.kernel.accessAllowed ? 'block' : 'none';\n",
              "\n",
              "        async function convertToInteractive(key) {\n",
              "          const element = document.querySelector('#df-351f6e50-5ac9-44ae-98a0-69d73d70a535');\n",
              "          const dataTable =\n",
              "            await google.colab.kernel.invokeFunction('convertToInteractive',\n",
              "                                                     [key], {});\n",
              "          if (!dataTable) return;\n",
              "\n",
              "          const docLinkHtml = 'Like what you see? Visit the ' +\n",
              "            '<a target=\"_blank\" href=https://colab.research.google.com/notebooks/data_table.ipynb>data table notebook</a>'\n",
              "            + ' to learn more about interactive tables.';\n",
              "          element.innerHTML = '';\n",
              "          dataTable['output_type'] = 'display_data';\n",
              "          await google.colab.output.renderOutput(dataTable, element);\n",
              "          const docLink = document.createElement('div');\n",
              "          docLink.innerHTML = docLinkHtml;\n",
              "          element.appendChild(docLink);\n",
              "        }\n",
              "      </script>\n",
              "    </div>\n",
              "  </div>\n",
              "  "
            ]
          },
          "metadata": {},
          "execution_count": 16
        }
      ]
    },
    {
      "cell_type": "code",
      "source": [
        "#For row 135\n",
        "censusData.loc[censusData['House Number'] == censusData.iloc[135]['House Number']]"
      ],
      "metadata": {
        "id": "lY5g1nN0Cvdc",
        "colab": {
          "base_uri": "https://localhost:8080/",
          "height": 81
        },
        "outputId": "571d86c9-a001-4e5e-cc0e-b63ac74139f7"
      },
      "execution_count": null,
      "outputs": [
        {
          "output_type": "execute_result",
          "data": {
            "text/plain": [
              "    House Number    Street First Name Surname Age  \\\n",
              "135   Fourty Two  May Road       Jean   Lloyd  68   \n",
              "\n",
              "    Relationship to Head of House Marital Status  Gender  \\\n",
              "135                          Head        Married  Female   \n",
              "\n",
              "               Occupation Infirmity Religion  \n",
              "135  Retired Web designer      None     None  "
            ],
            "text/html": [
              "\n",
              "  <div id=\"df-85b2d102-f157-48d0-877f-67e4a7905c28\">\n",
              "    <div class=\"colab-df-container\">\n",
              "      <div>\n",
              "<style scoped>\n",
              "    .dataframe tbody tr th:only-of-type {\n",
              "        vertical-align: middle;\n",
              "    }\n",
              "\n",
              "    .dataframe tbody tr th {\n",
              "        vertical-align: top;\n",
              "    }\n",
              "\n",
              "    .dataframe thead th {\n",
              "        text-align: right;\n",
              "    }\n",
              "</style>\n",
              "<table border=\"1\" class=\"dataframe\">\n",
              "  <thead>\n",
              "    <tr style=\"text-align: right;\">\n",
              "      <th></th>\n",
              "      <th>House Number</th>\n",
              "      <th>Street</th>\n",
              "      <th>First Name</th>\n",
              "      <th>Surname</th>\n",
              "      <th>Age</th>\n",
              "      <th>Relationship to Head of House</th>\n",
              "      <th>Marital Status</th>\n",
              "      <th>Gender</th>\n",
              "      <th>Occupation</th>\n",
              "      <th>Infirmity</th>\n",
              "      <th>Religion</th>\n",
              "    </tr>\n",
              "  </thead>\n",
              "  <tbody>\n",
              "    <tr>\n",
              "      <th>135</th>\n",
              "      <td>Fourty Two</td>\n",
              "      <td>May Road</td>\n",
              "      <td>Jean</td>\n",
              "      <td>Lloyd</td>\n",
              "      <td>68</td>\n",
              "      <td>Head</td>\n",
              "      <td>Married</td>\n",
              "      <td>Female</td>\n",
              "      <td>Retired Web designer</td>\n",
              "      <td>None</td>\n",
              "      <td>None</td>\n",
              "    </tr>\n",
              "  </tbody>\n",
              "</table>\n",
              "</div>\n",
              "      <button class=\"colab-df-convert\" onclick=\"convertToInteractive('df-85b2d102-f157-48d0-877f-67e4a7905c28')\"\n",
              "              title=\"Convert this dataframe to an interactive table.\"\n",
              "              style=\"display:none;\">\n",
              "        \n",
              "  <svg xmlns=\"http://www.w3.org/2000/svg\" height=\"24px\"viewBox=\"0 0 24 24\"\n",
              "       width=\"24px\">\n",
              "    <path d=\"M0 0h24v24H0V0z\" fill=\"none\"/>\n",
              "    <path d=\"M18.56 5.44l.94 2.06.94-2.06 2.06-.94-2.06-.94-.94-2.06-.94 2.06-2.06.94zm-11 1L8.5 8.5l.94-2.06 2.06-.94-2.06-.94L8.5 2.5l-.94 2.06-2.06.94zm10 10l.94 2.06.94-2.06 2.06-.94-2.06-.94-.94-2.06-.94 2.06-2.06.94z\"/><path d=\"M17.41 7.96l-1.37-1.37c-.4-.4-.92-.59-1.43-.59-.52 0-1.04.2-1.43.59L10.3 9.45l-7.72 7.72c-.78.78-.78 2.05 0 2.83L4 21.41c.39.39.9.59 1.41.59.51 0 1.02-.2 1.41-.59l7.78-7.78 2.81-2.81c.8-.78.8-2.07 0-2.86zM5.41 20L4 18.59l7.72-7.72 1.47 1.35L5.41 20z\"/>\n",
              "  </svg>\n",
              "      </button>\n",
              "      \n",
              "  <style>\n",
              "    .colab-df-container {\n",
              "      display:flex;\n",
              "      flex-wrap:wrap;\n",
              "      gap: 12px;\n",
              "    }\n",
              "\n",
              "    .colab-df-convert {\n",
              "      background-color: #E8F0FE;\n",
              "      border: none;\n",
              "      border-radius: 50%;\n",
              "      cursor: pointer;\n",
              "      display: none;\n",
              "      fill: #1967D2;\n",
              "      height: 32px;\n",
              "      padding: 0 0 0 0;\n",
              "      width: 32px;\n",
              "    }\n",
              "\n",
              "    .colab-df-convert:hover {\n",
              "      background-color: #E2EBFA;\n",
              "      box-shadow: 0px 1px 2px rgba(60, 64, 67, 0.3), 0px 1px 3px 1px rgba(60, 64, 67, 0.15);\n",
              "      fill: #174EA6;\n",
              "    }\n",
              "\n",
              "    [theme=dark] .colab-df-convert {\n",
              "      background-color: #3B4455;\n",
              "      fill: #D2E3FC;\n",
              "    }\n",
              "\n",
              "    [theme=dark] .colab-df-convert:hover {\n",
              "      background-color: #434B5C;\n",
              "      box-shadow: 0px 1px 3px 1px rgba(0, 0, 0, 0.15);\n",
              "      filter: drop-shadow(0px 1px 2px rgba(0, 0, 0, 0.3));\n",
              "      fill: #FFFFFF;\n",
              "    }\n",
              "  </style>\n",
              "\n",
              "      <script>\n",
              "        const buttonEl =\n",
              "          document.querySelector('#df-85b2d102-f157-48d0-877f-67e4a7905c28 button.colab-df-convert');\n",
              "        buttonEl.style.display =\n",
              "          google.colab.kernel.accessAllowed ? 'block' : 'none';\n",
              "\n",
              "        async function convertToInteractive(key) {\n",
              "          const element = document.querySelector('#df-85b2d102-f157-48d0-877f-67e4a7905c28');\n",
              "          const dataTable =\n",
              "            await google.colab.kernel.invokeFunction('convertToInteractive',\n",
              "                                                     [key], {});\n",
              "          if (!dataTable) return;\n",
              "\n",
              "          const docLinkHtml = 'Like what you see? Visit the ' +\n",
              "            '<a target=\"_blank\" href=https://colab.research.google.com/notebooks/data_table.ipynb>data table notebook</a>'\n",
              "            + ' to learn more about interactive tables.';\n",
              "          element.innerHTML = '';\n",
              "          dataTable['output_type'] = 'display_data';\n",
              "          await google.colab.output.renderOutput(dataTable, element);\n",
              "          const docLink = document.createElement('div');\n",
              "          docLink.innerHTML = docLinkHtml;\n",
              "          element.appendChild(docLink);\n",
              "        }\n",
              "      </script>\n",
              "    </div>\n",
              "  </div>\n",
              "  "
            ]
          },
          "metadata": {},
          "execution_count": 17
        }
      ]
    },
    {
      "cell_type": "code",
      "source": [
        "#We can manually convert to number\n",
        "censusData['House Number'].replace('Fourty Two', '42', inplace = True)"
      ],
      "metadata": {
        "id": "8a_cPQHKCva8"
      },
      "execution_count": null,
      "outputs": []
    },
    {
      "cell_type": "code",
      "source": [
        "#Try and convert the house numbers and check problementic rows \n",
        "problematicRows = []\n",
        "conversion.convertToInt(censusData, 'House Number')"
      ],
      "metadata": {
        "colab": {
          "base_uri": "https://localhost:8080/"
        },
        "id": "8ftAmOXua_uq",
        "outputId": "0d31a33c-48c4-4bed-f1bb-169e6fb2bb0a"
      },
      "execution_count": null,
      "outputs": [
        {
          "output_type": "execute_result",
          "data": {
            "text/plain": [
              "[]"
            ]
          },
          "metadata": {},
          "execution_count": 19
        }
      ]
    },
    {
      "cell_type": "markdown",
      "metadata": {
        "id": "DrxXo6KHikTy"
      },
      "source": [
        "### <b>Correcting First Name</b>"
      ]
    },
    {
      "cell_type": "code",
      "execution_count": null,
      "metadata": {
        "colab": {
          "base_uri": "https://localhost:8080/",
          "height": 112
        },
        "id": "toXQAjafikTy",
        "outputId": "2a18b211-e967-4487-c734-0e74fa25efe5"
      },
      "outputs": [
        {
          "output_type": "execute_result",
          "data": {
            "text/plain": [
              "     House Number          Street First Name         Surname Age  \\\n",
              "1528           25  Oak Expressway        NaN   Marion Fisher   4   \n",
              "3565          168  Tannery Street        NaN  Timothy Taylor  34   \n",
              "\n",
              "     Relationship to Head of House Marital Status  Gender  \\\n",
              "1528                      Daughter            NaN  Female   \n",
              "3565                        Lodger         Single    Male   \n",
              "\n",
              "                              Occupation Infirmity   Religion  \n",
              "1528                               Child      None        NaN  \n",
              "3565  Surveyor, planning and development      None  Christian  "
            ],
            "text/html": [
              "\n",
              "  <div id=\"df-f5b64099-6b1d-4867-a63a-e5e998c81498\">\n",
              "    <div class=\"colab-df-container\">\n",
              "      <div>\n",
              "<style scoped>\n",
              "    .dataframe tbody tr th:only-of-type {\n",
              "        vertical-align: middle;\n",
              "    }\n",
              "\n",
              "    .dataframe tbody tr th {\n",
              "        vertical-align: top;\n",
              "    }\n",
              "\n",
              "    .dataframe thead th {\n",
              "        text-align: right;\n",
              "    }\n",
              "</style>\n",
              "<table border=\"1\" class=\"dataframe\">\n",
              "  <thead>\n",
              "    <tr style=\"text-align: right;\">\n",
              "      <th></th>\n",
              "      <th>House Number</th>\n",
              "      <th>Street</th>\n",
              "      <th>First Name</th>\n",
              "      <th>Surname</th>\n",
              "      <th>Age</th>\n",
              "      <th>Relationship to Head of House</th>\n",
              "      <th>Marital Status</th>\n",
              "      <th>Gender</th>\n",
              "      <th>Occupation</th>\n",
              "      <th>Infirmity</th>\n",
              "      <th>Religion</th>\n",
              "    </tr>\n",
              "  </thead>\n",
              "  <tbody>\n",
              "    <tr>\n",
              "      <th>1528</th>\n",
              "      <td>25</td>\n",
              "      <td>Oak Expressway</td>\n",
              "      <td>NaN</td>\n",
              "      <td>Marion Fisher</td>\n",
              "      <td>4</td>\n",
              "      <td>Daughter</td>\n",
              "      <td>NaN</td>\n",
              "      <td>Female</td>\n",
              "      <td>Child</td>\n",
              "      <td>None</td>\n",
              "      <td>NaN</td>\n",
              "    </tr>\n",
              "    <tr>\n",
              "      <th>3565</th>\n",
              "      <td>168</td>\n",
              "      <td>Tannery Street</td>\n",
              "      <td>NaN</td>\n",
              "      <td>Timothy Taylor</td>\n",
              "      <td>34</td>\n",
              "      <td>Lodger</td>\n",
              "      <td>Single</td>\n",
              "      <td>Male</td>\n",
              "      <td>Surveyor, planning and development</td>\n",
              "      <td>None</td>\n",
              "      <td>Christian</td>\n",
              "    </tr>\n",
              "  </tbody>\n",
              "</table>\n",
              "</div>\n",
              "      <button class=\"colab-df-convert\" onclick=\"convertToInteractive('df-f5b64099-6b1d-4867-a63a-e5e998c81498')\"\n",
              "              title=\"Convert this dataframe to an interactive table.\"\n",
              "              style=\"display:none;\">\n",
              "        \n",
              "  <svg xmlns=\"http://www.w3.org/2000/svg\" height=\"24px\"viewBox=\"0 0 24 24\"\n",
              "       width=\"24px\">\n",
              "    <path d=\"M0 0h24v24H0V0z\" fill=\"none\"/>\n",
              "    <path d=\"M18.56 5.44l.94 2.06.94-2.06 2.06-.94-2.06-.94-.94-2.06-.94 2.06-2.06.94zm-11 1L8.5 8.5l.94-2.06 2.06-.94-2.06-.94L8.5 2.5l-.94 2.06-2.06.94zm10 10l.94 2.06.94-2.06 2.06-.94-2.06-.94-.94-2.06-.94 2.06-2.06.94z\"/><path d=\"M17.41 7.96l-1.37-1.37c-.4-.4-.92-.59-1.43-.59-.52 0-1.04.2-1.43.59L10.3 9.45l-7.72 7.72c-.78.78-.78 2.05 0 2.83L4 21.41c.39.39.9.59 1.41.59.51 0 1.02-.2 1.41-.59l7.78-7.78 2.81-2.81c.8-.78.8-2.07 0-2.86zM5.41 20L4 18.59l7.72-7.72 1.47 1.35L5.41 20z\"/>\n",
              "  </svg>\n",
              "      </button>\n",
              "      \n",
              "  <style>\n",
              "    .colab-df-container {\n",
              "      display:flex;\n",
              "      flex-wrap:wrap;\n",
              "      gap: 12px;\n",
              "    }\n",
              "\n",
              "    .colab-df-convert {\n",
              "      background-color: #E8F0FE;\n",
              "      border: none;\n",
              "      border-radius: 50%;\n",
              "      cursor: pointer;\n",
              "      display: none;\n",
              "      fill: #1967D2;\n",
              "      height: 32px;\n",
              "      padding: 0 0 0 0;\n",
              "      width: 32px;\n",
              "    }\n",
              "\n",
              "    .colab-df-convert:hover {\n",
              "      background-color: #E2EBFA;\n",
              "      box-shadow: 0px 1px 2px rgba(60, 64, 67, 0.3), 0px 1px 3px 1px rgba(60, 64, 67, 0.15);\n",
              "      fill: #174EA6;\n",
              "    }\n",
              "\n",
              "    [theme=dark] .colab-df-convert {\n",
              "      background-color: #3B4455;\n",
              "      fill: #D2E3FC;\n",
              "    }\n",
              "\n",
              "    [theme=dark] .colab-df-convert:hover {\n",
              "      background-color: #434B5C;\n",
              "      box-shadow: 0px 1px 3px 1px rgba(0, 0, 0, 0.15);\n",
              "      filter: drop-shadow(0px 1px 2px rgba(0, 0, 0, 0.3));\n",
              "      fill: #FFFFFF;\n",
              "    }\n",
              "  </style>\n",
              "\n",
              "      <script>\n",
              "        const buttonEl =\n",
              "          document.querySelector('#df-f5b64099-6b1d-4867-a63a-e5e998c81498 button.colab-df-convert');\n",
              "        buttonEl.style.display =\n",
              "          google.colab.kernel.accessAllowed ? 'block' : 'none';\n",
              "\n",
              "        async function convertToInteractive(key) {\n",
              "          const element = document.querySelector('#df-f5b64099-6b1d-4867-a63a-e5e998c81498');\n",
              "          const dataTable =\n",
              "            await google.colab.kernel.invokeFunction('convertToInteractive',\n",
              "                                                     [key], {});\n",
              "          if (!dataTable) return;\n",
              "\n",
              "          const docLinkHtml = 'Like what you see? Visit the ' +\n",
              "            '<a target=\"_blank\" href=https://colab.research.google.com/notebooks/data_table.ipynb>data table notebook</a>'\n",
              "            + ' to learn more about interactive tables.';\n",
              "          element.innerHTML = '';\n",
              "          dataTable['output_type'] = 'display_data';\n",
              "          await google.colab.output.renderOutput(dataTable, element);\n",
              "          const docLink = document.createElement('div');\n",
              "          docLink.innerHTML = docLinkHtml;\n",
              "          element.appendChild(docLink);\n",
              "        }\n",
              "      </script>\n",
              "    </div>\n",
              "  </div>\n",
              "  "
            ]
          },
          "metadata": {},
          "execution_count": 20
        }
      ],
      "source": [
        "#Show the records with the missing First Name\n",
        "censusData[censusData['First Name'].isnull()]"
      ]
    },
    {
      "cell_type": "markdown",
      "metadata": {
        "id": "CN9uA7NjikTz"
      },
      "source": [
        "First Name is present in the surname box, it is just a case of splitting the string in that column into two parts, storing it in a list and then putting the correct part of the split name into the respective column. "
      ]
    },
    {
      "cell_type": "code",
      "execution_count": null,
      "metadata": {
        "id": "_s3eI5vIikT0"
      },
      "outputs": [],
      "source": [
        "for index, rows in enumerate(censusData[censusData['First Name'].isnull()].iterrows()): #Iterate through\n",
        "    splitNames = rows[1]['Surname'].split() #Split the string in Surname\n",
        "    savedIndex = rows[0]\n",
        "    censusData['First Name'].iloc[savedIndex] = splitNames[0] #Update the value of first name at the first index of incorrect\n",
        "    censusData['Surname'].iloc[savedIndex] = splitNames[1] #Update the surname"
      ]
    },
    {
      "cell_type": "code",
      "source": [
        "#Checking\n",
        "censusData.loc[(censusData['House Number'] == 25) & (censusData['Age'] == '4')] "
      ],
      "metadata": {
        "colab": {
          "base_uri": "https://localhost:8080/",
          "height": 112
        },
        "id": "aiYnJpVgm0x1",
        "outputId": "4a0aaa7d-07be-4af0-a545-6f4106dc571a"
      },
      "execution_count": null,
      "outputs": [
        {
          "output_type": "execute_result",
          "data": {
            "text/plain": [
              "     House Number          Street First Name    Surname Age  \\\n",
              "1528           25  Oak Expressway     Marion     Fisher   4   \n",
              "8593           25     Cannon Lane      Marie  Whittaker   4   \n",
              "\n",
              "     Relationship to Head of House Marital Status  Gender Occupation  \\\n",
              "1528                      Daughter            NaN  Female      Child   \n",
              "8593              Adopted Daughter            NaN  Female      Child   \n",
              "\n",
              "     Infirmity Religion  \n",
              "1528      None      NaN  \n",
              "8593      None      NaN  "
            ],
            "text/html": [
              "\n",
              "  <div id=\"df-86b13823-65f7-455e-ad50-867cdd7ca9aa\">\n",
              "    <div class=\"colab-df-container\">\n",
              "      <div>\n",
              "<style scoped>\n",
              "    .dataframe tbody tr th:only-of-type {\n",
              "        vertical-align: middle;\n",
              "    }\n",
              "\n",
              "    .dataframe tbody tr th {\n",
              "        vertical-align: top;\n",
              "    }\n",
              "\n",
              "    .dataframe thead th {\n",
              "        text-align: right;\n",
              "    }\n",
              "</style>\n",
              "<table border=\"1\" class=\"dataframe\">\n",
              "  <thead>\n",
              "    <tr style=\"text-align: right;\">\n",
              "      <th></th>\n",
              "      <th>House Number</th>\n",
              "      <th>Street</th>\n",
              "      <th>First Name</th>\n",
              "      <th>Surname</th>\n",
              "      <th>Age</th>\n",
              "      <th>Relationship to Head of House</th>\n",
              "      <th>Marital Status</th>\n",
              "      <th>Gender</th>\n",
              "      <th>Occupation</th>\n",
              "      <th>Infirmity</th>\n",
              "      <th>Religion</th>\n",
              "    </tr>\n",
              "  </thead>\n",
              "  <tbody>\n",
              "    <tr>\n",
              "      <th>1528</th>\n",
              "      <td>25</td>\n",
              "      <td>Oak Expressway</td>\n",
              "      <td>Marion</td>\n",
              "      <td>Fisher</td>\n",
              "      <td>4</td>\n",
              "      <td>Daughter</td>\n",
              "      <td>NaN</td>\n",
              "      <td>Female</td>\n",
              "      <td>Child</td>\n",
              "      <td>None</td>\n",
              "      <td>NaN</td>\n",
              "    </tr>\n",
              "    <tr>\n",
              "      <th>8593</th>\n",
              "      <td>25</td>\n",
              "      <td>Cannon Lane</td>\n",
              "      <td>Marie</td>\n",
              "      <td>Whittaker</td>\n",
              "      <td>4</td>\n",
              "      <td>Adopted Daughter</td>\n",
              "      <td>NaN</td>\n",
              "      <td>Female</td>\n",
              "      <td>Child</td>\n",
              "      <td>None</td>\n",
              "      <td>NaN</td>\n",
              "    </tr>\n",
              "  </tbody>\n",
              "</table>\n",
              "</div>\n",
              "      <button class=\"colab-df-convert\" onclick=\"convertToInteractive('df-86b13823-65f7-455e-ad50-867cdd7ca9aa')\"\n",
              "              title=\"Convert this dataframe to an interactive table.\"\n",
              "              style=\"display:none;\">\n",
              "        \n",
              "  <svg xmlns=\"http://www.w3.org/2000/svg\" height=\"24px\"viewBox=\"0 0 24 24\"\n",
              "       width=\"24px\">\n",
              "    <path d=\"M0 0h24v24H0V0z\" fill=\"none\"/>\n",
              "    <path d=\"M18.56 5.44l.94 2.06.94-2.06 2.06-.94-2.06-.94-.94-2.06-.94 2.06-2.06.94zm-11 1L8.5 8.5l.94-2.06 2.06-.94-2.06-.94L8.5 2.5l-.94 2.06-2.06.94zm10 10l.94 2.06.94-2.06 2.06-.94-2.06-.94-.94-2.06-.94 2.06-2.06.94z\"/><path d=\"M17.41 7.96l-1.37-1.37c-.4-.4-.92-.59-1.43-.59-.52 0-1.04.2-1.43.59L10.3 9.45l-7.72 7.72c-.78.78-.78 2.05 0 2.83L4 21.41c.39.39.9.59 1.41.59.51 0 1.02-.2 1.41-.59l7.78-7.78 2.81-2.81c.8-.78.8-2.07 0-2.86zM5.41 20L4 18.59l7.72-7.72 1.47 1.35L5.41 20z\"/>\n",
              "  </svg>\n",
              "      </button>\n",
              "      \n",
              "  <style>\n",
              "    .colab-df-container {\n",
              "      display:flex;\n",
              "      flex-wrap:wrap;\n",
              "      gap: 12px;\n",
              "    }\n",
              "\n",
              "    .colab-df-convert {\n",
              "      background-color: #E8F0FE;\n",
              "      border: none;\n",
              "      border-radius: 50%;\n",
              "      cursor: pointer;\n",
              "      display: none;\n",
              "      fill: #1967D2;\n",
              "      height: 32px;\n",
              "      padding: 0 0 0 0;\n",
              "      width: 32px;\n",
              "    }\n",
              "\n",
              "    .colab-df-convert:hover {\n",
              "      background-color: #E2EBFA;\n",
              "      box-shadow: 0px 1px 2px rgba(60, 64, 67, 0.3), 0px 1px 3px 1px rgba(60, 64, 67, 0.15);\n",
              "      fill: #174EA6;\n",
              "    }\n",
              "\n",
              "    [theme=dark] .colab-df-convert {\n",
              "      background-color: #3B4455;\n",
              "      fill: #D2E3FC;\n",
              "    }\n",
              "\n",
              "    [theme=dark] .colab-df-convert:hover {\n",
              "      background-color: #434B5C;\n",
              "      box-shadow: 0px 1px 3px 1px rgba(0, 0, 0, 0.15);\n",
              "      filter: drop-shadow(0px 1px 2px rgba(0, 0, 0, 0.3));\n",
              "      fill: #FFFFFF;\n",
              "    }\n",
              "  </style>\n",
              "\n",
              "      <script>\n",
              "        const buttonEl =\n",
              "          document.querySelector('#df-86b13823-65f7-455e-ad50-867cdd7ca9aa button.colab-df-convert');\n",
              "        buttonEl.style.display =\n",
              "          google.colab.kernel.accessAllowed ? 'block' : 'none';\n",
              "\n",
              "        async function convertToInteractive(key) {\n",
              "          const element = document.querySelector('#df-86b13823-65f7-455e-ad50-867cdd7ca9aa');\n",
              "          const dataTable =\n",
              "            await google.colab.kernel.invokeFunction('convertToInteractive',\n",
              "                                                     [key], {});\n",
              "          if (!dataTable) return;\n",
              "\n",
              "          const docLinkHtml = 'Like what you see? Visit the ' +\n",
              "            '<a target=\"_blank\" href=https://colab.research.google.com/notebooks/data_table.ipynb>data table notebook</a>'\n",
              "            + ' to learn more about interactive tables.';\n",
              "          element.innerHTML = '';\n",
              "          dataTable['output_type'] = 'display_data';\n",
              "          await google.colab.output.renderOutput(dataTable, element);\n",
              "          const docLink = document.createElement('div');\n",
              "          docLink.innerHTML = docLinkHtml;\n",
              "          element.appendChild(docLink);\n",
              "        }\n",
              "      </script>\n",
              "    </div>\n",
              "  </div>\n",
              "  "
            ]
          },
          "metadata": {},
          "execution_count": 22
        }
      ]
    },
    {
      "cell_type": "code",
      "source": [
        "#Checking\n",
        "censusData.loc[(censusData['House Number'] == 168) & (censusData['Age'] == '34')] "
      ],
      "metadata": {
        "colab": {
          "base_uri": "https://localhost:8080/",
          "height": 81
        },
        "id": "-jBSW29anBmR",
        "outputId": "236f2dcd-b8f2-48d4-cada-e838d572cc4a"
      },
      "execution_count": null,
      "outputs": [
        {
          "output_type": "execute_result",
          "data": {
            "text/plain": [
              "     House Number          Street First Name Surname Age  \\\n",
              "3565          168  Tannery Street    Timothy  Taylor  34   \n",
              "\n",
              "     Relationship to Head of House Marital Status Gender  \\\n",
              "3565                        Lodger         Single   Male   \n",
              "\n",
              "                              Occupation Infirmity   Religion  \n",
              "3565  Surveyor, planning and development      None  Christian  "
            ],
            "text/html": [
              "\n",
              "  <div id=\"df-318931bc-2421-48ab-a1f5-fc49b6b98dca\">\n",
              "    <div class=\"colab-df-container\">\n",
              "      <div>\n",
              "<style scoped>\n",
              "    .dataframe tbody tr th:only-of-type {\n",
              "        vertical-align: middle;\n",
              "    }\n",
              "\n",
              "    .dataframe tbody tr th {\n",
              "        vertical-align: top;\n",
              "    }\n",
              "\n",
              "    .dataframe thead th {\n",
              "        text-align: right;\n",
              "    }\n",
              "</style>\n",
              "<table border=\"1\" class=\"dataframe\">\n",
              "  <thead>\n",
              "    <tr style=\"text-align: right;\">\n",
              "      <th></th>\n",
              "      <th>House Number</th>\n",
              "      <th>Street</th>\n",
              "      <th>First Name</th>\n",
              "      <th>Surname</th>\n",
              "      <th>Age</th>\n",
              "      <th>Relationship to Head of House</th>\n",
              "      <th>Marital Status</th>\n",
              "      <th>Gender</th>\n",
              "      <th>Occupation</th>\n",
              "      <th>Infirmity</th>\n",
              "      <th>Religion</th>\n",
              "    </tr>\n",
              "  </thead>\n",
              "  <tbody>\n",
              "    <tr>\n",
              "      <th>3565</th>\n",
              "      <td>168</td>\n",
              "      <td>Tannery Street</td>\n",
              "      <td>Timothy</td>\n",
              "      <td>Taylor</td>\n",
              "      <td>34</td>\n",
              "      <td>Lodger</td>\n",
              "      <td>Single</td>\n",
              "      <td>Male</td>\n",
              "      <td>Surveyor, planning and development</td>\n",
              "      <td>None</td>\n",
              "      <td>Christian</td>\n",
              "    </tr>\n",
              "  </tbody>\n",
              "</table>\n",
              "</div>\n",
              "      <button class=\"colab-df-convert\" onclick=\"convertToInteractive('df-318931bc-2421-48ab-a1f5-fc49b6b98dca')\"\n",
              "              title=\"Convert this dataframe to an interactive table.\"\n",
              "              style=\"display:none;\">\n",
              "        \n",
              "  <svg xmlns=\"http://www.w3.org/2000/svg\" height=\"24px\"viewBox=\"0 0 24 24\"\n",
              "       width=\"24px\">\n",
              "    <path d=\"M0 0h24v24H0V0z\" fill=\"none\"/>\n",
              "    <path d=\"M18.56 5.44l.94 2.06.94-2.06 2.06-.94-2.06-.94-.94-2.06-.94 2.06-2.06.94zm-11 1L8.5 8.5l.94-2.06 2.06-.94-2.06-.94L8.5 2.5l-.94 2.06-2.06.94zm10 10l.94 2.06.94-2.06 2.06-.94-2.06-.94-.94-2.06-.94 2.06-2.06.94z\"/><path d=\"M17.41 7.96l-1.37-1.37c-.4-.4-.92-.59-1.43-.59-.52 0-1.04.2-1.43.59L10.3 9.45l-7.72 7.72c-.78.78-.78 2.05 0 2.83L4 21.41c.39.39.9.59 1.41.59.51 0 1.02-.2 1.41-.59l7.78-7.78 2.81-2.81c.8-.78.8-2.07 0-2.86zM5.41 20L4 18.59l7.72-7.72 1.47 1.35L5.41 20z\"/>\n",
              "  </svg>\n",
              "      </button>\n",
              "      \n",
              "  <style>\n",
              "    .colab-df-container {\n",
              "      display:flex;\n",
              "      flex-wrap:wrap;\n",
              "      gap: 12px;\n",
              "    }\n",
              "\n",
              "    .colab-df-convert {\n",
              "      background-color: #E8F0FE;\n",
              "      border: none;\n",
              "      border-radius: 50%;\n",
              "      cursor: pointer;\n",
              "      display: none;\n",
              "      fill: #1967D2;\n",
              "      height: 32px;\n",
              "      padding: 0 0 0 0;\n",
              "      width: 32px;\n",
              "    }\n",
              "\n",
              "    .colab-df-convert:hover {\n",
              "      background-color: #E2EBFA;\n",
              "      box-shadow: 0px 1px 2px rgba(60, 64, 67, 0.3), 0px 1px 3px 1px rgba(60, 64, 67, 0.15);\n",
              "      fill: #174EA6;\n",
              "    }\n",
              "\n",
              "    [theme=dark] .colab-df-convert {\n",
              "      background-color: #3B4455;\n",
              "      fill: #D2E3FC;\n",
              "    }\n",
              "\n",
              "    [theme=dark] .colab-df-convert:hover {\n",
              "      background-color: #434B5C;\n",
              "      box-shadow: 0px 1px 3px 1px rgba(0, 0, 0, 0.15);\n",
              "      filter: drop-shadow(0px 1px 2px rgba(0, 0, 0, 0.3));\n",
              "      fill: #FFFFFF;\n",
              "    }\n",
              "  </style>\n",
              "\n",
              "      <script>\n",
              "        const buttonEl =\n",
              "          document.querySelector('#df-318931bc-2421-48ab-a1f5-fc49b6b98dca button.colab-df-convert');\n",
              "        buttonEl.style.display =\n",
              "          google.colab.kernel.accessAllowed ? 'block' : 'none';\n",
              "\n",
              "        async function convertToInteractive(key) {\n",
              "          const element = document.querySelector('#df-318931bc-2421-48ab-a1f5-fc49b6b98dca');\n",
              "          const dataTable =\n",
              "            await google.colab.kernel.invokeFunction('convertToInteractive',\n",
              "                                                     [key], {});\n",
              "          if (!dataTable) return;\n",
              "\n",
              "          const docLinkHtml = 'Like what you see? Visit the ' +\n",
              "            '<a target=\"_blank\" href=https://colab.research.google.com/notebooks/data_table.ipynb>data table notebook</a>'\n",
              "            + ' to learn more about interactive tables.';\n",
              "          element.innerHTML = '';\n",
              "          dataTable['output_type'] = 'display_data';\n",
              "          await google.colab.output.renderOutput(dataTable, element);\n",
              "          const docLink = document.createElement('div');\n",
              "          docLink.innerHTML = docLinkHtml;\n",
              "          element.appendChild(docLink);\n",
              "        }\n",
              "      </script>\n",
              "    </div>\n",
              "  </div>\n",
              "  "
            ]
          },
          "metadata": {},
          "execution_count": 23
        }
      ]
    },
    {
      "cell_type": "code",
      "source": [
        "#Check for empty space\n",
        "censusData[censusData['First Name'] == ' ']"
      ],
      "metadata": {
        "colab": {
          "base_uri": "https://localhost:8080/",
          "height": 112
        },
        "id": "zN7VHOO2CPp4",
        "outputId": "7c575c02-0de1-4fa6-a38f-9b49e1d76752"
      },
      "execution_count": null,
      "outputs": [
        {
          "output_type": "execute_result",
          "data": {
            "text/plain": [
              "     House Number             Street First Name   Surname Age  \\\n",
              "903            22  Hutchinson Spring             Thompson  13   \n",
              "7841           46      Marshall Road              Gardner  52   \n",
              "\n",
              "     Relationship to Head of House Marital Status  Gender          Occupation  \\\n",
              "903                       Daughter            NaN  Female             Student   \n",
              "7841                       Husband        Married    Male  Physicist, medical   \n",
              "\n",
              "     Infirmity   Religion  \n",
              "903       None        NaN  \n",
              "7841      None  Christian  "
            ],
            "text/html": [
              "\n",
              "  <div id=\"df-047a1785-1cbb-4caa-802d-9d99f492b519\">\n",
              "    <div class=\"colab-df-container\">\n",
              "      <div>\n",
              "<style scoped>\n",
              "    .dataframe tbody tr th:only-of-type {\n",
              "        vertical-align: middle;\n",
              "    }\n",
              "\n",
              "    .dataframe tbody tr th {\n",
              "        vertical-align: top;\n",
              "    }\n",
              "\n",
              "    .dataframe thead th {\n",
              "        text-align: right;\n",
              "    }\n",
              "</style>\n",
              "<table border=\"1\" class=\"dataframe\">\n",
              "  <thead>\n",
              "    <tr style=\"text-align: right;\">\n",
              "      <th></th>\n",
              "      <th>House Number</th>\n",
              "      <th>Street</th>\n",
              "      <th>First Name</th>\n",
              "      <th>Surname</th>\n",
              "      <th>Age</th>\n",
              "      <th>Relationship to Head of House</th>\n",
              "      <th>Marital Status</th>\n",
              "      <th>Gender</th>\n",
              "      <th>Occupation</th>\n",
              "      <th>Infirmity</th>\n",
              "      <th>Religion</th>\n",
              "    </tr>\n",
              "  </thead>\n",
              "  <tbody>\n",
              "    <tr>\n",
              "      <th>903</th>\n",
              "      <td>22</td>\n",
              "      <td>Hutchinson Spring</td>\n",
              "      <td></td>\n",
              "      <td>Thompson</td>\n",
              "      <td>13</td>\n",
              "      <td>Daughter</td>\n",
              "      <td>NaN</td>\n",
              "      <td>Female</td>\n",
              "      <td>Student</td>\n",
              "      <td>None</td>\n",
              "      <td>NaN</td>\n",
              "    </tr>\n",
              "    <tr>\n",
              "      <th>7841</th>\n",
              "      <td>46</td>\n",
              "      <td>Marshall Road</td>\n",
              "      <td></td>\n",
              "      <td>Gardner</td>\n",
              "      <td>52</td>\n",
              "      <td>Husband</td>\n",
              "      <td>Married</td>\n",
              "      <td>Male</td>\n",
              "      <td>Physicist, medical</td>\n",
              "      <td>None</td>\n",
              "      <td>Christian</td>\n",
              "    </tr>\n",
              "  </tbody>\n",
              "</table>\n",
              "</div>\n",
              "      <button class=\"colab-df-convert\" onclick=\"convertToInteractive('df-047a1785-1cbb-4caa-802d-9d99f492b519')\"\n",
              "              title=\"Convert this dataframe to an interactive table.\"\n",
              "              style=\"display:none;\">\n",
              "        \n",
              "  <svg xmlns=\"http://www.w3.org/2000/svg\" height=\"24px\"viewBox=\"0 0 24 24\"\n",
              "       width=\"24px\">\n",
              "    <path d=\"M0 0h24v24H0V0z\" fill=\"none\"/>\n",
              "    <path d=\"M18.56 5.44l.94 2.06.94-2.06 2.06-.94-2.06-.94-.94-2.06-.94 2.06-2.06.94zm-11 1L8.5 8.5l.94-2.06 2.06-.94-2.06-.94L8.5 2.5l-.94 2.06-2.06.94zm10 10l.94 2.06.94-2.06 2.06-.94-2.06-.94-.94-2.06-.94 2.06-2.06.94z\"/><path d=\"M17.41 7.96l-1.37-1.37c-.4-.4-.92-.59-1.43-.59-.52 0-1.04.2-1.43.59L10.3 9.45l-7.72 7.72c-.78.78-.78 2.05 0 2.83L4 21.41c.39.39.9.59 1.41.59.51 0 1.02-.2 1.41-.59l7.78-7.78 2.81-2.81c.8-.78.8-2.07 0-2.86zM5.41 20L4 18.59l7.72-7.72 1.47 1.35L5.41 20z\"/>\n",
              "  </svg>\n",
              "      </button>\n",
              "      \n",
              "  <style>\n",
              "    .colab-df-container {\n",
              "      display:flex;\n",
              "      flex-wrap:wrap;\n",
              "      gap: 12px;\n",
              "    }\n",
              "\n",
              "    .colab-df-convert {\n",
              "      background-color: #E8F0FE;\n",
              "      border: none;\n",
              "      border-radius: 50%;\n",
              "      cursor: pointer;\n",
              "      display: none;\n",
              "      fill: #1967D2;\n",
              "      height: 32px;\n",
              "      padding: 0 0 0 0;\n",
              "      width: 32px;\n",
              "    }\n",
              "\n",
              "    .colab-df-convert:hover {\n",
              "      background-color: #E2EBFA;\n",
              "      box-shadow: 0px 1px 2px rgba(60, 64, 67, 0.3), 0px 1px 3px 1px rgba(60, 64, 67, 0.15);\n",
              "      fill: #174EA6;\n",
              "    }\n",
              "\n",
              "    [theme=dark] .colab-df-convert {\n",
              "      background-color: #3B4455;\n",
              "      fill: #D2E3FC;\n",
              "    }\n",
              "\n",
              "    [theme=dark] .colab-df-convert:hover {\n",
              "      background-color: #434B5C;\n",
              "      box-shadow: 0px 1px 3px 1px rgba(0, 0, 0, 0.15);\n",
              "      filter: drop-shadow(0px 1px 2px rgba(0, 0, 0, 0.3));\n",
              "      fill: #FFFFFF;\n",
              "    }\n",
              "  </style>\n",
              "\n",
              "      <script>\n",
              "        const buttonEl =\n",
              "          document.querySelector('#df-047a1785-1cbb-4caa-802d-9d99f492b519 button.colab-df-convert');\n",
              "        buttonEl.style.display =\n",
              "          google.colab.kernel.accessAllowed ? 'block' : 'none';\n",
              "\n",
              "        async function convertToInteractive(key) {\n",
              "          const element = document.querySelector('#df-047a1785-1cbb-4caa-802d-9d99f492b519');\n",
              "          const dataTable =\n",
              "            await google.colab.kernel.invokeFunction('convertToInteractive',\n",
              "                                                     [key], {});\n",
              "          if (!dataTable) return;\n",
              "\n",
              "          const docLinkHtml = 'Like what you see? Visit the ' +\n",
              "            '<a target=\"_blank\" href=https://colab.research.google.com/notebooks/data_table.ipynb>data table notebook</a>'\n",
              "            + ' to learn more about interactive tables.';\n",
              "          element.innerHTML = '';\n",
              "          dataTable['output_type'] = 'display_data';\n",
              "          await google.colab.output.renderOutput(dataTable, element);\n",
              "          const docLink = document.createElement('div');\n",
              "          docLink.innerHTML = docLinkHtml;\n",
              "          element.appendChild(docLink);\n",
              "        }\n",
              "      </script>\n",
              "    </div>\n",
              "  </div>\n",
              "  "
            ]
          },
          "metadata": {},
          "execution_count": 24
        }
      ]
    },
    {
      "cell_type": "code",
      "source": [
        "#Delete empty name records\n",
        "censusData.drop(index = [903, 7841], inplace = True)\n",
        "censusData.reset_index(drop = True, inplace = True)"
      ],
      "metadata": {
        "id": "KCKNF9H-C7xI"
      },
      "execution_count": null,
      "outputs": []
    },
    {
      "cell_type": "code",
      "source": [
        "conversion.convertToLower(censusData, 'First Name')"
      ],
      "metadata": {
        "id": "JGarlgSFgn_V"
      },
      "execution_count": null,
      "outputs": []
    },
    {
      "cell_type": "markdown",
      "metadata": {
        "id": "_3_8HctFikT6"
      },
      "source": [
        "### <b>Age</b>"
      ]
    },
    {
      "cell_type": "code",
      "execution_count": null,
      "metadata": {
        "colab": {
          "base_uri": "https://localhost:8080/"
        },
        "id": "PCilPsdJikT6",
        "outputId": "9a3844af-e32f-4657-c815-fa82bfcfd5de"
      },
      "outputs": [
        {
          "output_type": "stream",
          "name": "stdout",
          "text": [
            "House Number                                119\n",
            "Street                           Oak Expressway\n",
            "First Name                                megan\n",
            "Surname                                     Lee\n",
            "Age                                     Sixteen\n",
            "Relationship to Head of House          Daughter\n",
            "Marital Status                              NaN\n",
            "Gender                                   Female\n",
            "Occupation                              Student\n",
            "Infirmity                                  None\n",
            "Religion                                    NaN\n",
            "Name: 1834, dtype: object\n",
            "House Number                                              36\n",
            "Street                                            Ripon Lane\n",
            "First Name                                       christopher\n",
            "Surname                                              Jackson\n",
            "Age                                               fourty two\n",
            "Relationship to Head of House                           Head\n",
            "Marital Status                                      Divorced\n",
            "Gender                                                  Male\n",
            "Occupation                       Health and safety inspector\n",
            "Infirmity                                               None\n",
            "Religion                                           Christian\n",
            "Name: 2129, dtype: object\n",
            "House Number                                     13\n",
            "Street                               Tannery Street\n",
            "First Name                                  eleanor\n",
            "Surname                                   Greenwood\n",
            "Age                                      twenty one\n",
            "Relationship to Head of House              Daughter\n",
            "Marital Status                               Single\n",
            "Gender                                       Female\n",
            "Occupation                       University Student\n",
            "Infirmity                                      None\n",
            "Religion                                       None\n",
            "Name: 2554, dtype: object\n",
            "NUMBER OF ERRORS: 3\n"
          ]
        }
      ],
      "source": [
        "#Try and convert the age to a float\n",
        "problematicRows = []\n",
        "problematicRows = conversion.convertToFloat(censusData,'Age')"
      ]
    },
    {
      "cell_type": "code",
      "source": [
        "for i in range(len(problematicRows)):\n",
        "    print(censusData.iloc[problematicRows[i]])\n",
        "    #brings up 3 errors that have text as the age instead of a numeric value \n",
        "    #use w2n to convert the ages as words to numberic\n",
        "    censusData['Age'][problematicRows[i]] = w2n.word_to_num(censusData['Age'][problematicRows[i]])"
      ],
      "metadata": {
        "colab": {
          "base_uri": "https://localhost:8080/"
        },
        "id": "lm40IGrsg1UJ",
        "outputId": "3117ec25-3e1d-4560-e2c4-27b9e5f70133"
      },
      "execution_count": null,
      "outputs": [
        {
          "output_type": "stream",
          "name": "stdout",
          "text": [
            "House Number                                119\n",
            "Street                           Oak Expressway\n",
            "First Name                                megan\n",
            "Surname                                     Lee\n",
            "Age                                     Sixteen\n",
            "Relationship to Head of House          Daughter\n",
            "Marital Status                              NaN\n",
            "Gender                                   Female\n",
            "Occupation                              Student\n",
            "Infirmity                                  None\n",
            "Religion                                    NaN\n",
            "Name: 1834, dtype: object\n",
            "House Number                                              36\n",
            "Street                                            Ripon Lane\n",
            "First Name                                       christopher\n",
            "Surname                                              Jackson\n",
            "Age                                               fourty two\n",
            "Relationship to Head of House                           Head\n",
            "Marital Status                                      Divorced\n",
            "Gender                                                  Male\n",
            "Occupation                       Health and safety inspector\n",
            "Infirmity                                               None\n",
            "Religion                                           Christian\n",
            "Name: 2129, dtype: object\n",
            "House Number                                     13\n",
            "Street                               Tannery Street\n",
            "First Name                                  eleanor\n",
            "Surname                                   Greenwood\n",
            "Age                                      twenty one\n",
            "Relationship to Head of House              Daughter\n",
            "Marital Status                               Single\n",
            "Gender                                       Female\n",
            "Occupation                       University Student\n",
            "Infirmity                                      None\n",
            "Religion                                       None\n",
            "Name: 2554, dtype: object\n"
          ]
        }
      ]
    },
    {
      "cell_type": "code",
      "execution_count": null,
      "metadata": {
        "colab": {
          "base_uri": "https://localhost:8080/",
          "height": 98
        },
        "id": "d0v1ZrYgikT7",
        "outputId": "b07d8fab-4e45-4d5e-8689-5e6c045b9567"
      },
      "outputs": [
        {
          "output_type": "stream",
          "name": "stdout",
          "text": [
            "NUMBER OF ERRORS: 0\n"
          ]
        },
        {
          "output_type": "execute_result",
          "data": {
            "text/plain": [
              "   House Number    Street First Name Surname  Age  \\\n",
              "17            7  May Road       jade   Quinn -1.0   \n",
              "\n",
              "   Relationship to Head of House Marital Status  Gender Occupation Infirmity  \\\n",
              "17                      Daughter            NaN  Female      Child      None   \n",
              "\n",
              "   Religion  \n",
              "17      NaN  "
            ],
            "text/html": [
              "\n",
              "  <div id=\"df-c2c551de-b61c-484a-8555-362f0abdb153\">\n",
              "    <div class=\"colab-df-container\">\n",
              "      <div>\n",
              "<style scoped>\n",
              "    .dataframe tbody tr th:only-of-type {\n",
              "        vertical-align: middle;\n",
              "    }\n",
              "\n",
              "    .dataframe tbody tr th {\n",
              "        vertical-align: top;\n",
              "    }\n",
              "\n",
              "    .dataframe thead th {\n",
              "        text-align: right;\n",
              "    }\n",
              "</style>\n",
              "<table border=\"1\" class=\"dataframe\">\n",
              "  <thead>\n",
              "    <tr style=\"text-align: right;\">\n",
              "      <th></th>\n",
              "      <th>House Number</th>\n",
              "      <th>Street</th>\n",
              "      <th>First Name</th>\n",
              "      <th>Surname</th>\n",
              "      <th>Age</th>\n",
              "      <th>Relationship to Head of House</th>\n",
              "      <th>Marital Status</th>\n",
              "      <th>Gender</th>\n",
              "      <th>Occupation</th>\n",
              "      <th>Infirmity</th>\n",
              "      <th>Religion</th>\n",
              "    </tr>\n",
              "  </thead>\n",
              "  <tbody>\n",
              "    <tr>\n",
              "      <th>17</th>\n",
              "      <td>7</td>\n",
              "      <td>May Road</td>\n",
              "      <td>jade</td>\n",
              "      <td>Quinn</td>\n",
              "      <td>-1.0</td>\n",
              "      <td>Daughter</td>\n",
              "      <td>NaN</td>\n",
              "      <td>Female</td>\n",
              "      <td>Child</td>\n",
              "      <td>None</td>\n",
              "      <td>NaN</td>\n",
              "    </tr>\n",
              "  </tbody>\n",
              "</table>\n",
              "</div>\n",
              "      <button class=\"colab-df-convert\" onclick=\"convertToInteractive('df-c2c551de-b61c-484a-8555-362f0abdb153')\"\n",
              "              title=\"Convert this dataframe to an interactive table.\"\n",
              "              style=\"display:none;\">\n",
              "        \n",
              "  <svg xmlns=\"http://www.w3.org/2000/svg\" height=\"24px\"viewBox=\"0 0 24 24\"\n",
              "       width=\"24px\">\n",
              "    <path d=\"M0 0h24v24H0V0z\" fill=\"none\"/>\n",
              "    <path d=\"M18.56 5.44l.94 2.06.94-2.06 2.06-.94-2.06-.94-.94-2.06-.94 2.06-2.06.94zm-11 1L8.5 8.5l.94-2.06 2.06-.94-2.06-.94L8.5 2.5l-.94 2.06-2.06.94zm10 10l.94 2.06.94-2.06 2.06-.94-2.06-.94-.94-2.06-.94 2.06-2.06.94z\"/><path d=\"M17.41 7.96l-1.37-1.37c-.4-.4-.92-.59-1.43-.59-.52 0-1.04.2-1.43.59L10.3 9.45l-7.72 7.72c-.78.78-.78 2.05 0 2.83L4 21.41c.39.39.9.59 1.41.59.51 0 1.02-.2 1.41-.59l7.78-7.78 2.81-2.81c.8-.78.8-2.07 0-2.86zM5.41 20L4 18.59l7.72-7.72 1.47 1.35L5.41 20z\"/>\n",
              "  </svg>\n",
              "      </button>\n",
              "      \n",
              "  <style>\n",
              "    .colab-df-container {\n",
              "      display:flex;\n",
              "      flex-wrap:wrap;\n",
              "      gap: 12px;\n",
              "    }\n",
              "\n",
              "    .colab-df-convert {\n",
              "      background-color: #E8F0FE;\n",
              "      border: none;\n",
              "      border-radius: 50%;\n",
              "      cursor: pointer;\n",
              "      display: none;\n",
              "      fill: #1967D2;\n",
              "      height: 32px;\n",
              "      padding: 0 0 0 0;\n",
              "      width: 32px;\n",
              "    }\n",
              "\n",
              "    .colab-df-convert:hover {\n",
              "      background-color: #E2EBFA;\n",
              "      box-shadow: 0px 1px 2px rgba(60, 64, 67, 0.3), 0px 1px 3px 1px rgba(60, 64, 67, 0.15);\n",
              "      fill: #174EA6;\n",
              "    }\n",
              "\n",
              "    [theme=dark] .colab-df-convert {\n",
              "      background-color: #3B4455;\n",
              "      fill: #D2E3FC;\n",
              "    }\n",
              "\n",
              "    [theme=dark] .colab-df-convert:hover {\n",
              "      background-color: #434B5C;\n",
              "      box-shadow: 0px 1px 3px 1px rgba(0, 0, 0, 0.15);\n",
              "      filter: drop-shadow(0px 1px 2px rgba(0, 0, 0, 0.3));\n",
              "      fill: #FFFFFF;\n",
              "    }\n",
              "  </style>\n",
              "\n",
              "      <script>\n",
              "        const buttonEl =\n",
              "          document.querySelector('#df-c2c551de-b61c-484a-8555-362f0abdb153 button.colab-df-convert');\n",
              "        buttonEl.style.display =\n",
              "          google.colab.kernel.accessAllowed ? 'block' : 'none';\n",
              "\n",
              "        async function convertToInteractive(key) {\n",
              "          const element = document.querySelector('#df-c2c551de-b61c-484a-8555-362f0abdb153');\n",
              "          const dataTable =\n",
              "            await google.colab.kernel.invokeFunction('convertToInteractive',\n",
              "                                                     [key], {});\n",
              "          if (!dataTable) return;\n",
              "\n",
              "          const docLinkHtml = 'Like what you see? Visit the ' +\n",
              "            '<a target=\"_blank\" href=https://colab.research.google.com/notebooks/data_table.ipynb>data table notebook</a>'\n",
              "            + ' to learn more about interactive tables.';\n",
              "          element.innerHTML = '';\n",
              "          dataTable['output_type'] = 'display_data';\n",
              "          await google.colab.output.renderOutput(dataTable, element);\n",
              "          const docLink = document.createElement('div');\n",
              "          docLink.innerHTML = docLinkHtml;\n",
              "          element.appendChild(docLink);\n",
              "        }\n",
              "      </script>\n",
              "    </div>\n",
              "  </div>\n",
              "  "
            ]
          },
          "metadata": {},
          "execution_count": 29
        }
      ],
      "source": [
        "#try and convert again to check the correction has worked\n",
        "problematicRows = []\n",
        "conversion.convertToFloat(censusData, 'Age')\n",
        "#Check age in sensible range\n",
        "censusData[censusData['Age']>=120]\n",
        "censusData[censusData['Age']< 0]"
      ]
    },
    {
      "cell_type": "code",
      "source": [
        "#For row 17\n",
        "\n",
        "#checking for her parents\n",
        "censusData.loc[(censusData['Surname'] == censusData.iloc[17]['Surname'])&(censusData['Street'] == censusData.iloc[17]['Street'])] "
      ],
      "metadata": {
        "colab": {
          "base_uri": "https://localhost:8080/",
          "height": 143
        },
        "id": "unGYLp-qw1Od",
        "outputId": "f246e148-9708-4e62-c19f-636c7e64c458"
      },
      "execution_count": null,
      "outputs": [
        {
          "output_type": "execute_result",
          "data": {
            "text/plain": [
              "   House Number    Street First Name Surname   Age  \\\n",
              "15            7  May Road     joshua   Quinn  37.0   \n",
              "16            7  May Road      grace   Quinn  32.0   \n",
              "17            7  May Road       jade   Quinn  -1.0   \n",
              "\n",
              "   Relationship to Head of House Marital Status  Gender  \\\n",
              "15                          Head        Married    Male   \n",
              "16                          Wife        Married  Female   \n",
              "17                      Daughter            NaN  Female   \n",
              "\n",
              "                         Occupation Infirmity   Religion  \n",
              "15  Engineer, manufacturing systems      None  Christian  \n",
              "16              Electrical engineer      None       None  \n",
              "17                            Child      None        NaN  "
            ],
            "text/html": [
              "\n",
              "  <div id=\"df-d418bbdb-940b-4a05-a53f-97029b2ddce9\">\n",
              "    <div class=\"colab-df-container\">\n",
              "      <div>\n",
              "<style scoped>\n",
              "    .dataframe tbody tr th:only-of-type {\n",
              "        vertical-align: middle;\n",
              "    }\n",
              "\n",
              "    .dataframe tbody tr th {\n",
              "        vertical-align: top;\n",
              "    }\n",
              "\n",
              "    .dataframe thead th {\n",
              "        text-align: right;\n",
              "    }\n",
              "</style>\n",
              "<table border=\"1\" class=\"dataframe\">\n",
              "  <thead>\n",
              "    <tr style=\"text-align: right;\">\n",
              "      <th></th>\n",
              "      <th>House Number</th>\n",
              "      <th>Street</th>\n",
              "      <th>First Name</th>\n",
              "      <th>Surname</th>\n",
              "      <th>Age</th>\n",
              "      <th>Relationship to Head of House</th>\n",
              "      <th>Marital Status</th>\n",
              "      <th>Gender</th>\n",
              "      <th>Occupation</th>\n",
              "      <th>Infirmity</th>\n",
              "      <th>Religion</th>\n",
              "    </tr>\n",
              "  </thead>\n",
              "  <tbody>\n",
              "    <tr>\n",
              "      <th>15</th>\n",
              "      <td>7</td>\n",
              "      <td>May Road</td>\n",
              "      <td>joshua</td>\n",
              "      <td>Quinn</td>\n",
              "      <td>37.0</td>\n",
              "      <td>Head</td>\n",
              "      <td>Married</td>\n",
              "      <td>Male</td>\n",
              "      <td>Engineer, manufacturing systems</td>\n",
              "      <td>None</td>\n",
              "      <td>Christian</td>\n",
              "    </tr>\n",
              "    <tr>\n",
              "      <th>16</th>\n",
              "      <td>7</td>\n",
              "      <td>May Road</td>\n",
              "      <td>grace</td>\n",
              "      <td>Quinn</td>\n",
              "      <td>32.0</td>\n",
              "      <td>Wife</td>\n",
              "      <td>Married</td>\n",
              "      <td>Female</td>\n",
              "      <td>Electrical engineer</td>\n",
              "      <td>None</td>\n",
              "      <td>None</td>\n",
              "    </tr>\n",
              "    <tr>\n",
              "      <th>17</th>\n",
              "      <td>7</td>\n",
              "      <td>May Road</td>\n",
              "      <td>jade</td>\n",
              "      <td>Quinn</td>\n",
              "      <td>-1.0</td>\n",
              "      <td>Daughter</td>\n",
              "      <td>NaN</td>\n",
              "      <td>Female</td>\n",
              "      <td>Child</td>\n",
              "      <td>None</td>\n",
              "      <td>NaN</td>\n",
              "    </tr>\n",
              "  </tbody>\n",
              "</table>\n",
              "</div>\n",
              "      <button class=\"colab-df-convert\" onclick=\"convertToInteractive('df-d418bbdb-940b-4a05-a53f-97029b2ddce9')\"\n",
              "              title=\"Convert this dataframe to an interactive table.\"\n",
              "              style=\"display:none;\">\n",
              "        \n",
              "  <svg xmlns=\"http://www.w3.org/2000/svg\" height=\"24px\"viewBox=\"0 0 24 24\"\n",
              "       width=\"24px\">\n",
              "    <path d=\"M0 0h24v24H0V0z\" fill=\"none\"/>\n",
              "    <path d=\"M18.56 5.44l.94 2.06.94-2.06 2.06-.94-2.06-.94-.94-2.06-.94 2.06-2.06.94zm-11 1L8.5 8.5l.94-2.06 2.06-.94-2.06-.94L8.5 2.5l-.94 2.06-2.06.94zm10 10l.94 2.06.94-2.06 2.06-.94-2.06-.94-.94-2.06-.94 2.06-2.06.94z\"/><path d=\"M17.41 7.96l-1.37-1.37c-.4-.4-.92-.59-1.43-.59-.52 0-1.04.2-1.43.59L10.3 9.45l-7.72 7.72c-.78.78-.78 2.05 0 2.83L4 21.41c.39.39.9.59 1.41.59.51 0 1.02-.2 1.41-.59l7.78-7.78 2.81-2.81c.8-.78.8-2.07 0-2.86zM5.41 20L4 18.59l7.72-7.72 1.47 1.35L5.41 20z\"/>\n",
              "  </svg>\n",
              "      </button>\n",
              "      \n",
              "  <style>\n",
              "    .colab-df-container {\n",
              "      display:flex;\n",
              "      flex-wrap:wrap;\n",
              "      gap: 12px;\n",
              "    }\n",
              "\n",
              "    .colab-df-convert {\n",
              "      background-color: #E8F0FE;\n",
              "      border: none;\n",
              "      border-radius: 50%;\n",
              "      cursor: pointer;\n",
              "      display: none;\n",
              "      fill: #1967D2;\n",
              "      height: 32px;\n",
              "      padding: 0 0 0 0;\n",
              "      width: 32px;\n",
              "    }\n",
              "\n",
              "    .colab-df-convert:hover {\n",
              "      background-color: #E2EBFA;\n",
              "      box-shadow: 0px 1px 2px rgba(60, 64, 67, 0.3), 0px 1px 3px 1px rgba(60, 64, 67, 0.15);\n",
              "      fill: #174EA6;\n",
              "    }\n",
              "\n",
              "    [theme=dark] .colab-df-convert {\n",
              "      background-color: #3B4455;\n",
              "      fill: #D2E3FC;\n",
              "    }\n",
              "\n",
              "    [theme=dark] .colab-df-convert:hover {\n",
              "      background-color: #434B5C;\n",
              "      box-shadow: 0px 1px 3px 1px rgba(0, 0, 0, 0.15);\n",
              "      filter: drop-shadow(0px 1px 2px rgba(0, 0, 0, 0.3));\n",
              "      fill: #FFFFFF;\n",
              "    }\n",
              "  </style>\n",
              "\n",
              "      <script>\n",
              "        const buttonEl =\n",
              "          document.querySelector('#df-d418bbdb-940b-4a05-a53f-97029b2ddce9 button.colab-df-convert');\n",
              "        buttonEl.style.display =\n",
              "          google.colab.kernel.accessAllowed ? 'block' : 'none';\n",
              "\n",
              "        async function convertToInteractive(key) {\n",
              "          const element = document.querySelector('#df-d418bbdb-940b-4a05-a53f-97029b2ddce9');\n",
              "          const dataTable =\n",
              "            await google.colab.kernel.invokeFunction('convertToInteractive',\n",
              "                                                     [key], {});\n",
              "          if (!dataTable) return;\n",
              "\n",
              "          const docLinkHtml = 'Like what you see? Visit the ' +\n",
              "            '<a target=\"_blank\" href=https://colab.research.google.com/notebooks/data_table.ipynb>data table notebook</a>'\n",
              "            + ' to learn more about interactive tables.';\n",
              "          element.innerHTML = '';\n",
              "          dataTable['output_type'] = 'display_data';\n",
              "          await google.colab.output.renderOutput(dataTable, element);\n",
              "          const docLink = document.createElement('div');\n",
              "          docLink.innerHTML = docLinkHtml;\n",
              "          element.appendChild(docLink);\n",
              "        }\n",
              "      </script>\n",
              "    </div>\n",
              "  </div>\n",
              "  "
            ]
          },
          "metadata": {},
          "execution_count": 30
        }
      ]
    },
    {
      "cell_type": "markdown",
      "source": [
        "As age cant be negative, converting age column to absolute positive values"
      ],
      "metadata": {
        "id": "E_eqJqv8xsbl"
      }
    },
    {
      "cell_type": "code",
      "source": [
        "censusData.at[17, 'Age'] = 1.0 # Set to 1.0"
      ],
      "metadata": {
        "id": "4wVu79kkxanK"
      },
      "execution_count": null,
      "outputs": []
    },
    {
      "cell_type": "code",
      "source": [
        "#checking\n",
        "censusData.loc[(censusData['Surname'] == censusData.iloc[17]['Surname'])&(censusData['Street'] == censusData.iloc[17]['Street'])] "
      ],
      "metadata": {
        "colab": {
          "base_uri": "https://localhost:8080/",
          "height": 143
        },
        "id": "hQneudqrxakb",
        "outputId": "5b5df0bc-4ca5-4bea-b53e-11b4c5ea0def"
      },
      "execution_count": null,
      "outputs": [
        {
          "output_type": "execute_result",
          "data": {
            "text/plain": [
              "   House Number    Street First Name Surname   Age  \\\n",
              "15            7  May Road     joshua   Quinn  37.0   \n",
              "16            7  May Road      grace   Quinn  32.0   \n",
              "17            7  May Road       jade   Quinn   1.0   \n",
              "\n",
              "   Relationship to Head of House Marital Status  Gender  \\\n",
              "15                          Head        Married    Male   \n",
              "16                          Wife        Married  Female   \n",
              "17                      Daughter            NaN  Female   \n",
              "\n",
              "                         Occupation Infirmity   Religion  \n",
              "15  Engineer, manufacturing systems      None  Christian  \n",
              "16              Electrical engineer      None       None  \n",
              "17                            Child      None        NaN  "
            ],
            "text/html": [
              "\n",
              "  <div id=\"df-6a2b2a3a-f46f-49ca-941e-b1d849aef540\">\n",
              "    <div class=\"colab-df-container\">\n",
              "      <div>\n",
              "<style scoped>\n",
              "    .dataframe tbody tr th:only-of-type {\n",
              "        vertical-align: middle;\n",
              "    }\n",
              "\n",
              "    .dataframe tbody tr th {\n",
              "        vertical-align: top;\n",
              "    }\n",
              "\n",
              "    .dataframe thead th {\n",
              "        text-align: right;\n",
              "    }\n",
              "</style>\n",
              "<table border=\"1\" class=\"dataframe\">\n",
              "  <thead>\n",
              "    <tr style=\"text-align: right;\">\n",
              "      <th></th>\n",
              "      <th>House Number</th>\n",
              "      <th>Street</th>\n",
              "      <th>First Name</th>\n",
              "      <th>Surname</th>\n",
              "      <th>Age</th>\n",
              "      <th>Relationship to Head of House</th>\n",
              "      <th>Marital Status</th>\n",
              "      <th>Gender</th>\n",
              "      <th>Occupation</th>\n",
              "      <th>Infirmity</th>\n",
              "      <th>Religion</th>\n",
              "    </tr>\n",
              "  </thead>\n",
              "  <tbody>\n",
              "    <tr>\n",
              "      <th>15</th>\n",
              "      <td>7</td>\n",
              "      <td>May Road</td>\n",
              "      <td>joshua</td>\n",
              "      <td>Quinn</td>\n",
              "      <td>37.0</td>\n",
              "      <td>Head</td>\n",
              "      <td>Married</td>\n",
              "      <td>Male</td>\n",
              "      <td>Engineer, manufacturing systems</td>\n",
              "      <td>None</td>\n",
              "      <td>Christian</td>\n",
              "    </tr>\n",
              "    <tr>\n",
              "      <th>16</th>\n",
              "      <td>7</td>\n",
              "      <td>May Road</td>\n",
              "      <td>grace</td>\n",
              "      <td>Quinn</td>\n",
              "      <td>32.0</td>\n",
              "      <td>Wife</td>\n",
              "      <td>Married</td>\n",
              "      <td>Female</td>\n",
              "      <td>Electrical engineer</td>\n",
              "      <td>None</td>\n",
              "      <td>None</td>\n",
              "    </tr>\n",
              "    <tr>\n",
              "      <th>17</th>\n",
              "      <td>7</td>\n",
              "      <td>May Road</td>\n",
              "      <td>jade</td>\n",
              "      <td>Quinn</td>\n",
              "      <td>1.0</td>\n",
              "      <td>Daughter</td>\n",
              "      <td>NaN</td>\n",
              "      <td>Female</td>\n",
              "      <td>Child</td>\n",
              "      <td>None</td>\n",
              "      <td>NaN</td>\n",
              "    </tr>\n",
              "  </tbody>\n",
              "</table>\n",
              "</div>\n",
              "      <button class=\"colab-df-convert\" onclick=\"convertToInteractive('df-6a2b2a3a-f46f-49ca-941e-b1d849aef540')\"\n",
              "              title=\"Convert this dataframe to an interactive table.\"\n",
              "              style=\"display:none;\">\n",
              "        \n",
              "  <svg xmlns=\"http://www.w3.org/2000/svg\" height=\"24px\"viewBox=\"0 0 24 24\"\n",
              "       width=\"24px\">\n",
              "    <path d=\"M0 0h24v24H0V0z\" fill=\"none\"/>\n",
              "    <path d=\"M18.56 5.44l.94 2.06.94-2.06 2.06-.94-2.06-.94-.94-2.06-.94 2.06-2.06.94zm-11 1L8.5 8.5l.94-2.06 2.06-.94-2.06-.94L8.5 2.5l-.94 2.06-2.06.94zm10 10l.94 2.06.94-2.06 2.06-.94-2.06-.94-.94-2.06-.94 2.06-2.06.94z\"/><path d=\"M17.41 7.96l-1.37-1.37c-.4-.4-.92-.59-1.43-.59-.52 0-1.04.2-1.43.59L10.3 9.45l-7.72 7.72c-.78.78-.78 2.05 0 2.83L4 21.41c.39.39.9.59 1.41.59.51 0 1.02-.2 1.41-.59l7.78-7.78 2.81-2.81c.8-.78.8-2.07 0-2.86zM5.41 20L4 18.59l7.72-7.72 1.47 1.35L5.41 20z\"/>\n",
              "  </svg>\n",
              "      </button>\n",
              "      \n",
              "  <style>\n",
              "    .colab-df-container {\n",
              "      display:flex;\n",
              "      flex-wrap:wrap;\n",
              "      gap: 12px;\n",
              "    }\n",
              "\n",
              "    .colab-df-convert {\n",
              "      background-color: #E8F0FE;\n",
              "      border: none;\n",
              "      border-radius: 50%;\n",
              "      cursor: pointer;\n",
              "      display: none;\n",
              "      fill: #1967D2;\n",
              "      height: 32px;\n",
              "      padding: 0 0 0 0;\n",
              "      width: 32px;\n",
              "    }\n",
              "\n",
              "    .colab-df-convert:hover {\n",
              "      background-color: #E2EBFA;\n",
              "      box-shadow: 0px 1px 2px rgba(60, 64, 67, 0.3), 0px 1px 3px 1px rgba(60, 64, 67, 0.15);\n",
              "      fill: #174EA6;\n",
              "    }\n",
              "\n",
              "    [theme=dark] .colab-df-convert {\n",
              "      background-color: #3B4455;\n",
              "      fill: #D2E3FC;\n",
              "    }\n",
              "\n",
              "    [theme=dark] .colab-df-convert:hover {\n",
              "      background-color: #434B5C;\n",
              "      box-shadow: 0px 1px 3px 1px rgba(0, 0, 0, 0.15);\n",
              "      filter: drop-shadow(0px 1px 2px rgba(0, 0, 0, 0.3));\n",
              "      fill: #FFFFFF;\n",
              "    }\n",
              "  </style>\n",
              "\n",
              "      <script>\n",
              "        const buttonEl =\n",
              "          document.querySelector('#df-6a2b2a3a-f46f-49ca-941e-b1d849aef540 button.colab-df-convert');\n",
              "        buttonEl.style.display =\n",
              "          google.colab.kernel.accessAllowed ? 'block' : 'none';\n",
              "\n",
              "        async function convertToInteractive(key) {\n",
              "          const element = document.querySelector('#df-6a2b2a3a-f46f-49ca-941e-b1d849aef540');\n",
              "          const dataTable =\n",
              "            await google.colab.kernel.invokeFunction('convertToInteractive',\n",
              "                                                     [key], {});\n",
              "          if (!dataTable) return;\n",
              "\n",
              "          const docLinkHtml = 'Like what you see? Visit the ' +\n",
              "            '<a target=\"_blank\" href=https://colab.research.google.com/notebooks/data_table.ipynb>data table notebook</a>'\n",
              "            + ' to learn more about interactive tables.';\n",
              "          element.innerHTML = '';\n",
              "          dataTable['output_type'] = 'display_data';\n",
              "          await google.colab.output.renderOutput(dataTable, element);\n",
              "          const docLink = document.createElement('div');\n",
              "          docLink.innerHTML = docLinkHtml;\n",
              "          element.appendChild(docLink);\n",
              "        }\n",
              "      </script>\n",
              "    </div>\n",
              "  </div>\n",
              "  "
            ]
          },
          "metadata": {},
          "execution_count": 32
        }
      ]
    },
    {
      "cell_type": "markdown",
      "metadata": {
        "id": "TY093qGtikT7"
      },
      "source": [
        "### <b>Marital Status</b>"
      ]
    },
    {
      "cell_type": "code",
      "source": [
        "#Show the records with the missing Marital Status\n",
        "censusData[censusData['Marital Status'].isnull()]"
      ],
      "metadata": {
        "colab": {
          "base_uri": "https://localhost:8080/",
          "height": 424
        },
        "id": "TVBrFiPez7d1",
        "outputId": "3cf81a31-c23f-48e5-efc5-ffe277a9c28d"
      },
      "execution_count": null,
      "outputs": [
        {
          "output_type": "execute_result",
          "data": {
            "text/plain": [
              "     House Number            Street First Name        Surname   Age  \\\n",
              "2               1          May Road     sophie   Newton-Smith   7.0   \n",
              "4               2          May Road       ruth          Singh  17.0   \n",
              "12              6          May Road    phillip         Dobson  11.0   \n",
              "13              6          May Road      jodie           Owen   9.0   \n",
              "14              6          May Road      joyce           Owen   5.0   \n",
              "...           ...               ...        ...            ...   ...   \n",
              "9913            1       Glory Folly     justin      Whittaker   0.0   \n",
              "9915            1        Wood Folly    maurice  Iqbal-Leonard   4.0   \n",
              "9916            1        Wood Folly      naomi  Iqbal-Leonard   0.0   \n",
              "9933            1  Williams Rectory      bruce        Hussain  13.0   \n",
              "9934            1  Williams Rectory     joseph        Hussain  13.0   \n",
              "\n",
              "     Relationship to Head of House Marital Status  Gender Occupation  \\\n",
              "2                         Daughter            NaN  Female    Student   \n",
              "4                         Daughter            NaN  Female    Student   \n",
              "12                        Grandson            NaN    Male    Student   \n",
              "13                   Granddaughter            NaN  Female    Student   \n",
              "14                   Granddaughter            NaN  Female    Student   \n",
              "...                            ...            ...     ...        ...   \n",
              "9913                           Son            NaN    Male      Child   \n",
              "9915                           Son            NaN    Male      Child   \n",
              "9916                      Daughter            NaN  Female      Child   \n",
              "9933                           Son            NaN    Male    Student   \n",
              "9934                           Son            NaN    Male    Student   \n",
              "\n",
              "     Infirmity Religion  \n",
              "2         None      NaN  \n",
              "4         None      NaN  \n",
              "12        None      NaN  \n",
              "13        None      NaN  \n",
              "14        None      NaN  \n",
              "...        ...      ...  \n",
              "9913      None      NaN  \n",
              "9915      None      NaN  \n",
              "9916      None      NaN  \n",
              "9933      None      NaN  \n",
              "9934      None      NaN  \n",
              "\n",
              "[2242 rows x 11 columns]"
            ],
            "text/html": [
              "\n",
              "  <div id=\"df-126b48b5-de12-43be-a1d1-6cba30a185c6\">\n",
              "    <div class=\"colab-df-container\">\n",
              "      <div>\n",
              "<style scoped>\n",
              "    .dataframe tbody tr th:only-of-type {\n",
              "        vertical-align: middle;\n",
              "    }\n",
              "\n",
              "    .dataframe tbody tr th {\n",
              "        vertical-align: top;\n",
              "    }\n",
              "\n",
              "    .dataframe thead th {\n",
              "        text-align: right;\n",
              "    }\n",
              "</style>\n",
              "<table border=\"1\" class=\"dataframe\">\n",
              "  <thead>\n",
              "    <tr style=\"text-align: right;\">\n",
              "      <th></th>\n",
              "      <th>House Number</th>\n",
              "      <th>Street</th>\n",
              "      <th>First Name</th>\n",
              "      <th>Surname</th>\n",
              "      <th>Age</th>\n",
              "      <th>Relationship to Head of House</th>\n",
              "      <th>Marital Status</th>\n",
              "      <th>Gender</th>\n",
              "      <th>Occupation</th>\n",
              "      <th>Infirmity</th>\n",
              "      <th>Religion</th>\n",
              "    </tr>\n",
              "  </thead>\n",
              "  <tbody>\n",
              "    <tr>\n",
              "      <th>2</th>\n",
              "      <td>1</td>\n",
              "      <td>May Road</td>\n",
              "      <td>sophie</td>\n",
              "      <td>Newton-Smith</td>\n",
              "      <td>7.0</td>\n",
              "      <td>Daughter</td>\n",
              "      <td>NaN</td>\n",
              "      <td>Female</td>\n",
              "      <td>Student</td>\n",
              "      <td>None</td>\n",
              "      <td>NaN</td>\n",
              "    </tr>\n",
              "    <tr>\n",
              "      <th>4</th>\n",
              "      <td>2</td>\n",
              "      <td>May Road</td>\n",
              "      <td>ruth</td>\n",
              "      <td>Singh</td>\n",
              "      <td>17.0</td>\n",
              "      <td>Daughter</td>\n",
              "      <td>NaN</td>\n",
              "      <td>Female</td>\n",
              "      <td>Student</td>\n",
              "      <td>None</td>\n",
              "      <td>NaN</td>\n",
              "    </tr>\n",
              "    <tr>\n",
              "      <th>12</th>\n",
              "      <td>6</td>\n",
              "      <td>May Road</td>\n",
              "      <td>phillip</td>\n",
              "      <td>Dobson</td>\n",
              "      <td>11.0</td>\n",
              "      <td>Grandson</td>\n",
              "      <td>NaN</td>\n",
              "      <td>Male</td>\n",
              "      <td>Student</td>\n",
              "      <td>None</td>\n",
              "      <td>NaN</td>\n",
              "    </tr>\n",
              "    <tr>\n",
              "      <th>13</th>\n",
              "      <td>6</td>\n",
              "      <td>May Road</td>\n",
              "      <td>jodie</td>\n",
              "      <td>Owen</td>\n",
              "      <td>9.0</td>\n",
              "      <td>Granddaughter</td>\n",
              "      <td>NaN</td>\n",
              "      <td>Female</td>\n",
              "      <td>Student</td>\n",
              "      <td>None</td>\n",
              "      <td>NaN</td>\n",
              "    </tr>\n",
              "    <tr>\n",
              "      <th>14</th>\n",
              "      <td>6</td>\n",
              "      <td>May Road</td>\n",
              "      <td>joyce</td>\n",
              "      <td>Owen</td>\n",
              "      <td>5.0</td>\n",
              "      <td>Granddaughter</td>\n",
              "      <td>NaN</td>\n",
              "      <td>Female</td>\n",
              "      <td>Student</td>\n",
              "      <td>None</td>\n",
              "      <td>NaN</td>\n",
              "    </tr>\n",
              "    <tr>\n",
              "      <th>...</th>\n",
              "      <td>...</td>\n",
              "      <td>...</td>\n",
              "      <td>...</td>\n",
              "      <td>...</td>\n",
              "      <td>...</td>\n",
              "      <td>...</td>\n",
              "      <td>...</td>\n",
              "      <td>...</td>\n",
              "      <td>...</td>\n",
              "      <td>...</td>\n",
              "      <td>...</td>\n",
              "    </tr>\n",
              "    <tr>\n",
              "      <th>9913</th>\n",
              "      <td>1</td>\n",
              "      <td>Glory Folly</td>\n",
              "      <td>justin</td>\n",
              "      <td>Whittaker</td>\n",
              "      <td>0.0</td>\n",
              "      <td>Son</td>\n",
              "      <td>NaN</td>\n",
              "      <td>Male</td>\n",
              "      <td>Child</td>\n",
              "      <td>None</td>\n",
              "      <td>NaN</td>\n",
              "    </tr>\n",
              "    <tr>\n",
              "      <th>9915</th>\n",
              "      <td>1</td>\n",
              "      <td>Wood Folly</td>\n",
              "      <td>maurice</td>\n",
              "      <td>Iqbal-Leonard</td>\n",
              "      <td>4.0</td>\n",
              "      <td>Son</td>\n",
              "      <td>NaN</td>\n",
              "      <td>Male</td>\n",
              "      <td>Child</td>\n",
              "      <td>None</td>\n",
              "      <td>NaN</td>\n",
              "    </tr>\n",
              "    <tr>\n",
              "      <th>9916</th>\n",
              "      <td>1</td>\n",
              "      <td>Wood Folly</td>\n",
              "      <td>naomi</td>\n",
              "      <td>Iqbal-Leonard</td>\n",
              "      <td>0.0</td>\n",
              "      <td>Daughter</td>\n",
              "      <td>NaN</td>\n",
              "      <td>Female</td>\n",
              "      <td>Child</td>\n",
              "      <td>None</td>\n",
              "      <td>NaN</td>\n",
              "    </tr>\n",
              "    <tr>\n",
              "      <th>9933</th>\n",
              "      <td>1</td>\n",
              "      <td>Williams Rectory</td>\n",
              "      <td>bruce</td>\n",
              "      <td>Hussain</td>\n",
              "      <td>13.0</td>\n",
              "      <td>Son</td>\n",
              "      <td>NaN</td>\n",
              "      <td>Male</td>\n",
              "      <td>Student</td>\n",
              "      <td>None</td>\n",
              "      <td>NaN</td>\n",
              "    </tr>\n",
              "    <tr>\n",
              "      <th>9934</th>\n",
              "      <td>1</td>\n",
              "      <td>Williams Rectory</td>\n",
              "      <td>joseph</td>\n",
              "      <td>Hussain</td>\n",
              "      <td>13.0</td>\n",
              "      <td>Son</td>\n",
              "      <td>NaN</td>\n",
              "      <td>Male</td>\n",
              "      <td>Student</td>\n",
              "      <td>None</td>\n",
              "      <td>NaN</td>\n",
              "    </tr>\n",
              "  </tbody>\n",
              "</table>\n",
              "<p>2242 rows × 11 columns</p>\n",
              "</div>\n",
              "      <button class=\"colab-df-convert\" onclick=\"convertToInteractive('df-126b48b5-de12-43be-a1d1-6cba30a185c6')\"\n",
              "              title=\"Convert this dataframe to an interactive table.\"\n",
              "              style=\"display:none;\">\n",
              "        \n",
              "  <svg xmlns=\"http://www.w3.org/2000/svg\" height=\"24px\"viewBox=\"0 0 24 24\"\n",
              "       width=\"24px\">\n",
              "    <path d=\"M0 0h24v24H0V0z\" fill=\"none\"/>\n",
              "    <path d=\"M18.56 5.44l.94 2.06.94-2.06 2.06-.94-2.06-.94-.94-2.06-.94 2.06-2.06.94zm-11 1L8.5 8.5l.94-2.06 2.06-.94-2.06-.94L8.5 2.5l-.94 2.06-2.06.94zm10 10l.94 2.06.94-2.06 2.06-.94-2.06-.94-.94-2.06-.94 2.06-2.06.94z\"/><path d=\"M17.41 7.96l-1.37-1.37c-.4-.4-.92-.59-1.43-.59-.52 0-1.04.2-1.43.59L10.3 9.45l-7.72 7.72c-.78.78-.78 2.05 0 2.83L4 21.41c.39.39.9.59 1.41.59.51 0 1.02-.2 1.41-.59l7.78-7.78 2.81-2.81c.8-.78.8-2.07 0-2.86zM5.41 20L4 18.59l7.72-7.72 1.47 1.35L5.41 20z\"/>\n",
              "  </svg>\n",
              "      </button>\n",
              "      \n",
              "  <style>\n",
              "    .colab-df-container {\n",
              "      display:flex;\n",
              "      flex-wrap:wrap;\n",
              "      gap: 12px;\n",
              "    }\n",
              "\n",
              "    .colab-df-convert {\n",
              "      background-color: #E8F0FE;\n",
              "      border: none;\n",
              "      border-radius: 50%;\n",
              "      cursor: pointer;\n",
              "      display: none;\n",
              "      fill: #1967D2;\n",
              "      height: 32px;\n",
              "      padding: 0 0 0 0;\n",
              "      width: 32px;\n",
              "    }\n",
              "\n",
              "    .colab-df-convert:hover {\n",
              "      background-color: #E2EBFA;\n",
              "      box-shadow: 0px 1px 2px rgba(60, 64, 67, 0.3), 0px 1px 3px 1px rgba(60, 64, 67, 0.15);\n",
              "      fill: #174EA6;\n",
              "    }\n",
              "\n",
              "    [theme=dark] .colab-df-convert {\n",
              "      background-color: #3B4455;\n",
              "      fill: #D2E3FC;\n",
              "    }\n",
              "\n",
              "    [theme=dark] .colab-df-convert:hover {\n",
              "      background-color: #434B5C;\n",
              "      box-shadow: 0px 1px 3px 1px rgba(0, 0, 0, 0.15);\n",
              "      filter: drop-shadow(0px 1px 2px rgba(0, 0, 0, 0.3));\n",
              "      fill: #FFFFFF;\n",
              "    }\n",
              "  </style>\n",
              "\n",
              "      <script>\n",
              "        const buttonEl =\n",
              "          document.querySelector('#df-126b48b5-de12-43be-a1d1-6cba30a185c6 button.colab-df-convert');\n",
              "        buttonEl.style.display =\n",
              "          google.colab.kernel.accessAllowed ? 'block' : 'none';\n",
              "\n",
              "        async function convertToInteractive(key) {\n",
              "          const element = document.querySelector('#df-126b48b5-de12-43be-a1d1-6cba30a185c6');\n",
              "          const dataTable =\n",
              "            await google.colab.kernel.invokeFunction('convertToInteractive',\n",
              "                                                     [key], {});\n",
              "          if (!dataTable) return;\n",
              "\n",
              "          const docLinkHtml = 'Like what you see? Visit the ' +\n",
              "            '<a target=\"_blank\" href=https://colab.research.google.com/notebooks/data_table.ipynb>data table notebook</a>'\n",
              "            + ' to learn more about interactive tables.';\n",
              "          element.innerHTML = '';\n",
              "          dataTable['output_type'] = 'display_data';\n",
              "          await google.colab.output.renderOutput(dataTable, element);\n",
              "          const docLink = document.createElement('div');\n",
              "          docLink.innerHTML = docLinkHtml;\n",
              "          element.appendChild(docLink);\n",
              "        }\n",
              "      </script>\n",
              "    </div>\n",
              "  </div>\n",
              "  "
            ]
          },
          "metadata": {},
          "execution_count": 33
        }
      ]
    },
    {
      "cell_type": "code",
      "source": [
        "#Fill NA values with Not Applicable so they are not read as NaN\n",
        "censusData['Marital Status'].fillna(\"Not Applicable\", inplace = True)\n",
        "#Create a 'Before' graph for presentation \n",
        "maritalBefore = sns.displot(censusData, x = 'Marital Status')"
      ],
      "metadata": {
        "colab": {
          "base_uri": "https://localhost:8080/",
          "height": 369
        },
        "id": "A0-M6lz_0HoY",
        "outputId": "9c55792e-0031-4d66-ae68-f307df000d6b"
      },
      "execution_count": null,
      "outputs": [
        {
          "output_type": "display_data",
          "data": {
            "text/plain": [
              "<Figure size 360x360 with 1 Axes>"
            ],
            "image/png": "[encoded data removed]"
          },
          "metadata": {
            "needs_background": "light"
          }
        }
      ]
    },
    {
      "cell_type": "code",
      "source": [
        "#Check for empty strings\n",
        "censusData[censusData['Marital Status'] =='']\n",
        "censusData[censusData['Marital Status'] ==' ']"
      ],
      "metadata": {
        "colab": {
          "base_uri": "https://localhost:8080/",
          "height": 49
        },
        "id": "l0m72kVg0QjN",
        "outputId": "6fb24b9d-df57-4fbb-a21c-ea0af38a635c"
      },
      "execution_count": null,
      "outputs": [
        {
          "output_type": "execute_result",
          "data": {
            "text/plain": [
              "Empty DataFrame\n",
              "Columns: [House Number, Street, First Name, Surname, Age, Relationship to Head of House, Marital Status, Gender, Occupation, Infirmity, Religion]\n",
              "Index: []"
            ],
            "text/html": [
              "\n",
              "  <div id=\"df-30857eb1-0385-49ff-8c9c-63e6f29eb08f\">\n",
              "    <div class=\"colab-df-container\">\n",
              "      <div>\n",
              "<style scoped>\n",
              "    .dataframe tbody tr th:only-of-type {\n",
              "        vertical-align: middle;\n",
              "    }\n",
              "\n",
              "    .dataframe tbody tr th {\n",
              "        vertical-align: top;\n",
              "    }\n",
              "\n",
              "    .dataframe thead th {\n",
              "        text-align: right;\n",
              "    }\n",
              "</style>\n",
              "<table border=\"1\" class=\"dataframe\">\n",
              "  <thead>\n",
              "    <tr style=\"text-align: right;\">\n",
              "      <th></th>\n",
              "      <th>House Number</th>\n",
              "      <th>Street</th>\n",
              "      <th>First Name</th>\n",
              "      <th>Surname</th>\n",
              "      <th>Age</th>\n",
              "      <th>Relationship to Head of House</th>\n",
              "      <th>Marital Status</th>\n",
              "      <th>Gender</th>\n",
              "      <th>Occupation</th>\n",
              "      <th>Infirmity</th>\n",
              "      <th>Religion</th>\n",
              "    </tr>\n",
              "  </thead>\n",
              "  <tbody>\n",
              "  </tbody>\n",
              "</table>\n",
              "</div>\n",
              "      <button class=\"colab-df-convert\" onclick=\"convertToInteractive('df-30857eb1-0385-49ff-8c9c-63e6f29eb08f')\"\n",
              "              title=\"Convert this dataframe to an interactive table.\"\n",
              "              style=\"display:none;\">\n",
              "        \n",
              "  <svg xmlns=\"http://www.w3.org/2000/svg\" height=\"24px\"viewBox=\"0 0 24 24\"\n",
              "       width=\"24px\">\n",
              "    <path d=\"M0 0h24v24H0V0z\" fill=\"none\"/>\n",
              "    <path d=\"M18.56 5.44l.94 2.06.94-2.06 2.06-.94-2.06-.94-.94-2.06-.94 2.06-2.06.94zm-11 1L8.5 8.5l.94-2.06 2.06-.94-2.06-.94L8.5 2.5l-.94 2.06-2.06.94zm10 10l.94 2.06.94-2.06 2.06-.94-2.06-.94-.94-2.06-.94 2.06-2.06.94z\"/><path d=\"M17.41 7.96l-1.37-1.37c-.4-.4-.92-.59-1.43-.59-.52 0-1.04.2-1.43.59L10.3 9.45l-7.72 7.72c-.78.78-.78 2.05 0 2.83L4 21.41c.39.39.9.59 1.41.59.51 0 1.02-.2 1.41-.59l7.78-7.78 2.81-2.81c.8-.78.8-2.07 0-2.86zM5.41 20L4 18.59l7.72-7.72 1.47 1.35L5.41 20z\"/>\n",
              "  </svg>\n",
              "      </button>\n",
              "      \n",
              "  <style>\n",
              "    .colab-df-container {\n",
              "      display:flex;\n",
              "      flex-wrap:wrap;\n",
              "      gap: 12px;\n",
              "    }\n",
              "\n",
              "    .colab-df-convert {\n",
              "      background-color: #E8F0FE;\n",
              "      border: none;\n",
              "      border-radius: 50%;\n",
              "      cursor: pointer;\n",
              "      display: none;\n",
              "      fill: #1967D2;\n",
              "      height: 32px;\n",
              "      padding: 0 0 0 0;\n",
              "      width: 32px;\n",
              "    }\n",
              "\n",
              "    .colab-df-convert:hover {\n",
              "      background-color: #E2EBFA;\n",
              "      box-shadow: 0px 1px 2px rgba(60, 64, 67, 0.3), 0px 1px 3px 1px rgba(60, 64, 67, 0.15);\n",
              "      fill: #174EA6;\n",
              "    }\n",
              "\n",
              "    [theme=dark] .colab-df-convert {\n",
              "      background-color: #3B4455;\n",
              "      fill: #D2E3FC;\n",
              "    }\n",
              "\n",
              "    [theme=dark] .colab-df-convert:hover {\n",
              "      background-color: #434B5C;\n",
              "      box-shadow: 0px 1px 3px 1px rgba(0, 0, 0, 0.15);\n",
              "      filter: drop-shadow(0px 1px 2px rgba(0, 0, 0, 0.3));\n",
              "      fill: #FFFFFF;\n",
              "    }\n",
              "  </style>\n",
              "\n",
              "      <script>\n",
              "        const buttonEl =\n",
              "          document.querySelector('#df-30857eb1-0385-49ff-8c9c-63e6f29eb08f button.colab-df-convert');\n",
              "        buttonEl.style.display =\n",
              "          google.colab.kernel.accessAllowed ? 'block' : 'none';\n",
              "\n",
              "        async function convertToInteractive(key) {\n",
              "          const element = document.querySelector('#df-30857eb1-0385-49ff-8c9c-63e6f29eb08f');\n",
              "          const dataTable =\n",
              "            await google.colab.kernel.invokeFunction('convertToInteractive',\n",
              "                                                     [key], {});\n",
              "          if (!dataTable) return;\n",
              "\n",
              "          const docLinkHtml = 'Like what you see? Visit the ' +\n",
              "            '<a target=\"_blank\" href=https://colab.research.google.com/notebooks/data_table.ipynb>data table notebook</a>'\n",
              "            + ' to learn more about interactive tables.';\n",
              "          element.innerHTML = '';\n",
              "          dataTable['output_type'] = 'display_data';\n",
              "          await google.colab.output.renderOutput(dataTable, element);\n",
              "          const docLink = document.createElement('div');\n",
              "          docLink.innerHTML = docLinkHtml;\n",
              "          element.appendChild(docLink);\n",
              "        }\n",
              "      </script>\n",
              "    </div>\n",
              "  </div>\n",
              "  "
            ]
          },
          "metadata": {},
          "execution_count": 35
        }
      ]
    },
    {
      "cell_type": "code",
      "source": [
        "#Check that the marital status are reasonable\n",
        "print(censusData['Marital Status'].unique()) #multiple forms has to be occured which needs to be handled"
      ],
      "metadata": {
        "colab": {
          "base_uri": "https://localhost:8080/"
        },
        "id": "RcXKNZ1KiLqN",
        "outputId": "65b8439b-1cbf-48cb-b8fc-83d6f30a3a19"
      },
      "execution_count": null,
      "outputs": [
        {
          "output_type": "stream",
          "name": "stdout",
          "text": [
            "['Single' 'Not Applicable' 'Married' 'Divorced' 'Widowed' 'widowed'\n",
            " 'MARRIED' 'Di-vorced' 'single']\n"
          ]
        }
      ]
    },
    {
      "cell_type": "code",
      "source": [
        "#Correct MaritalStatus \n",
        "censusData['Marital Status'].replace('Di-vorced', 'Divorced', inplace = True)\n",
        "censusData['Marital Status'].replace('widowed', 'Widowed', inplace = True)\n",
        "censusData['Marital Status'].replace('single', 'Single', inplace = True)\n",
        "censusData['Marital Status'].replace('MARRIED', 'Married', inplace = True)"
      ],
      "metadata": {
        "id": "1yMUZu_siLnl"
      },
      "execution_count": null,
      "outputs": []
    },
    {
      "cell_type": "code",
      "source": [
        "#Next check if everyone under the age of 18 has not applicable as their marital status\n",
        "maritalStatusNotNA = censusData[~censusData['Marital Status'].str.contains('Not Applicable')]\n",
        "maritalStatusNotNA[maritalStatusNotNA['Age'] < 16]"
      ],
      "metadata": {
        "colab": {
          "base_uri": "https://localhost:8080/",
          "height": 81
        },
        "id": "ZNwwMT090S9Y",
        "outputId": "ae01f1a6-b6bc-42cc-fefc-703537b5cdbb"
      },
      "execution_count": null,
      "outputs": [
        {
          "output_type": "execute_result",
          "data": {
            "text/plain": [
              "     House Number      Street   First Name  Surname  Age  \\\n",
              "2129           36  Ripon Lane  christopher  Jackson  2.0   \n",
              "\n",
              "     Relationship to Head of House Marital Status Gender  \\\n",
              "2129                          Head       Divorced   Male   \n",
              "\n",
              "                       Occupation Infirmity   Religion  \n",
              "2129  Health and safety inspector      None  Christian  "
            ],
            "text/html": [
              "\n",
              "  <div id=\"df-57091c61-48dd-406a-bcee-599a85da4d64\">\n",
              "    <div class=\"colab-df-container\">\n",
              "      <div>\n",
              "<style scoped>\n",
              "    .dataframe tbody tr th:only-of-type {\n",
              "        vertical-align: middle;\n",
              "    }\n",
              "\n",
              "    .dataframe tbody tr th {\n",
              "        vertical-align: top;\n",
              "    }\n",
              "\n",
              "    .dataframe thead th {\n",
              "        text-align: right;\n",
              "    }\n",
              "</style>\n",
              "<table border=\"1\" class=\"dataframe\">\n",
              "  <thead>\n",
              "    <tr style=\"text-align: right;\">\n",
              "      <th></th>\n",
              "      <th>House Number</th>\n",
              "      <th>Street</th>\n",
              "      <th>First Name</th>\n",
              "      <th>Surname</th>\n",
              "      <th>Age</th>\n",
              "      <th>Relationship to Head of House</th>\n",
              "      <th>Marital Status</th>\n",
              "      <th>Gender</th>\n",
              "      <th>Occupation</th>\n",
              "      <th>Infirmity</th>\n",
              "      <th>Religion</th>\n",
              "    </tr>\n",
              "  </thead>\n",
              "  <tbody>\n",
              "    <tr>\n",
              "      <th>2129</th>\n",
              "      <td>36</td>\n",
              "      <td>Ripon Lane</td>\n",
              "      <td>christopher</td>\n",
              "      <td>Jackson</td>\n",
              "      <td>2.0</td>\n",
              "      <td>Head</td>\n",
              "      <td>Divorced</td>\n",
              "      <td>Male</td>\n",
              "      <td>Health and safety inspector</td>\n",
              "      <td>None</td>\n",
              "      <td>Christian</td>\n",
              "    </tr>\n",
              "  </tbody>\n",
              "</table>\n",
              "</div>\n",
              "      <button class=\"colab-df-convert\" onclick=\"convertToInteractive('df-57091c61-48dd-406a-bcee-599a85da4d64')\"\n",
              "              title=\"Convert this dataframe to an interactive table.\"\n",
              "              style=\"display:none;\">\n",
              "        \n",
              "  <svg xmlns=\"http://www.w3.org/2000/svg\" height=\"24px\"viewBox=\"0 0 24 24\"\n",
              "       width=\"24px\">\n",
              "    <path d=\"M0 0h24v24H0V0z\" fill=\"none\"/>\n",
              "    <path d=\"M18.56 5.44l.94 2.06.94-2.06 2.06-.94-2.06-.94-.94-2.06-.94 2.06-2.06.94zm-11 1L8.5 8.5l.94-2.06 2.06-.94-2.06-.94L8.5 2.5l-.94 2.06-2.06.94zm10 10l.94 2.06.94-2.06 2.06-.94-2.06-.94-.94-2.06-.94 2.06-2.06.94z\"/><path d=\"M17.41 7.96l-1.37-1.37c-.4-.4-.92-.59-1.43-.59-.52 0-1.04.2-1.43.59L10.3 9.45l-7.72 7.72c-.78.78-.78 2.05 0 2.83L4 21.41c.39.39.9.59 1.41.59.51 0 1.02-.2 1.41-.59l7.78-7.78 2.81-2.81c.8-.78.8-2.07 0-2.86zM5.41 20L4 18.59l7.72-7.72 1.47 1.35L5.41 20z\"/>\n",
              "  </svg>\n",
              "      </button>\n",
              "      \n",
              "  <style>\n",
              "    .colab-df-container {\n",
              "      display:flex;\n",
              "      flex-wrap:wrap;\n",
              "      gap: 12px;\n",
              "    }\n",
              "\n",
              "    .colab-df-convert {\n",
              "      background-color: #E8F0FE;\n",
              "      border: none;\n",
              "      border-radius: 50%;\n",
              "      cursor: pointer;\n",
              "      display: none;\n",
              "      fill: #1967D2;\n",
              "      height: 32px;\n",
              "      padding: 0 0 0 0;\n",
              "      width: 32px;\n",
              "    }\n",
              "\n",
              "    .colab-df-convert:hover {\n",
              "      background-color: #E2EBFA;\n",
              "      box-shadow: 0px 1px 2px rgba(60, 64, 67, 0.3), 0px 1px 3px 1px rgba(60, 64, 67, 0.15);\n",
              "      fill: #174EA6;\n",
              "    }\n",
              "\n",
              "    [theme=dark] .colab-df-convert {\n",
              "      background-color: #3B4455;\n",
              "      fill: #D2E3FC;\n",
              "    }\n",
              "\n",
              "    [theme=dark] .colab-df-convert:hover {\n",
              "      background-color: #434B5C;\n",
              "      box-shadow: 0px 1px 3px 1px rgba(0, 0, 0, 0.15);\n",
              "      filter: drop-shadow(0px 1px 2px rgba(0, 0, 0, 0.3));\n",
              "      fill: #FFFFFF;\n",
              "    }\n",
              "  </style>\n",
              "\n",
              "      <script>\n",
              "        const buttonEl =\n",
              "          document.querySelector('#df-57091c61-48dd-406a-bcee-599a85da4d64 button.colab-df-convert');\n",
              "        buttonEl.style.display =\n",
              "          google.colab.kernel.accessAllowed ? 'block' : 'none';\n",
              "\n",
              "        async function convertToInteractive(key) {\n",
              "          const element = document.querySelector('#df-57091c61-48dd-406a-bcee-599a85da4d64');\n",
              "          const dataTable =\n",
              "            await google.colab.kernel.invokeFunction('convertToInteractive',\n",
              "                                                     [key], {});\n",
              "          if (!dataTable) return;\n",
              "\n",
              "          const docLinkHtml = 'Like what you see? Visit the ' +\n",
              "            '<a target=\"_blank\" href=https://colab.research.google.com/notebooks/data_table.ipynb>data table notebook</a>'\n",
              "            + ' to learn more about interactive tables.';\n",
              "          element.innerHTML = '';\n",
              "          dataTable['output_type'] = 'display_data';\n",
              "          await google.colab.output.renderOutput(dataTable, element);\n",
              "          const docLink = document.createElement('div');\n",
              "          docLink.innerHTML = docLinkHtml;\n",
              "          element.appendChild(docLink);\n",
              "        }\n",
              "      </script>\n",
              "    </div>\n",
              "  </div>\n",
              "  "
            ]
          },
          "metadata": {},
          "execution_count": 38
        }
      ]
    },
    {
      "cell_type": "markdown",
      "source": [
        "Since under at age of 2 no one can be divorced, its look like Martial status is wrong, but if we look at his occupation we can conclude that his age is wrongly inputted not his martial status."
      ],
      "metadata": {
        "id": "pqKY1NPnhYHO"
      }
    },
    {
      "cell_type": "code",
      "source": [
        "#For row 2129\n",
        "censusData.groupby(['Marital Status'])['Age'].mean() #checking mean age of divorced individuals"
      ],
      "metadata": {
        "colab": {
          "base_uri": "https://localhost:8080/"
        },
        "id": "ufz8scDnh3t7",
        "outputId": "8fde4ba8-c13a-42d1-a251-740c6c9d9bd1"
      },
      "execution_count": null,
      "outputs": [
        {
          "output_type": "execute_result",
          "data": {
            "text/plain": [
              "Marital Status\n",
              "Divorced          43.593750\n",
              "Married           50.568252\n",
              "Not Applicable     8.851695\n",
              "Single            38.181205\n",
              "Widowed           65.641723\n",
              "Name: Age, dtype: float64"
            ]
          },
          "metadata": {},
          "execution_count": 39
        }
      ]
    },
    {
      "cell_type": "code",
      "source": [
        "#setting with mean Divorced age\n",
        "censusData.at[2129, 'Age'] = 43.59 # Set to "
      ],
      "metadata": {
        "id": "i3qfzkejKt69"
      },
      "execution_count": null,
      "outputs": []
    },
    {
      "cell_type": "code",
      "source": [
        "#checking\n",
        "print(censusData['Marital Status'].unique())"
      ],
      "metadata": {
        "colab": {
          "base_uri": "https://localhost:8080/"
        },
        "id": "AurWMEZ41Tns",
        "outputId": "9c5d595b-ad9a-4a5c-83a8-6e5da008afa3"
      },
      "execution_count": null,
      "outputs": [
        {
          "output_type": "stream",
          "name": "stdout",
          "text": [
            "['Single' 'Not Applicable' 'Married' 'Divorced' 'Widowed']\n"
          ]
        }
      ]
    },
    {
      "cell_type": "code",
      "execution_count": null,
      "metadata": {
        "colab": {
          "base_uri": "https://localhost:8080/",
          "height": 369
        },
        "id": "yw9Hm7szikT8",
        "outputId": "59a4df59-de8f-4422-f1de-b673467ce5a9"
      },
      "outputs": [
        {
          "output_type": "display_data",
          "data": {
            "text/plain": [
              "<Figure size 360x360 with 1 Axes>"
            ],
            "image/png": "[encoded data removed]"
          },
          "metadata": {
            "needs_background": "light"
          }
        }
      ],
      "source": [
        "conversion.convertToLower(censusData, 'Marital Status')\n",
        "\n",
        "maritalAfter = sns.displot(censusData, x = 'Marital Status')"
      ]
    },
    {
      "cell_type": "markdown",
      "metadata": {
        "id": "gIDJG1VzikT9"
      },
      "source": [
        "### <b>Gender</b>"
      ]
    },
    {
      "cell_type": "code",
      "source": [
        "#convert to lower case to avoid issues with Male MALE male and whatnot\n",
        "conversion.convertToLower(censusData, 'Gender')\n",
        "\n",
        "#Check the unique values are reasonable\n",
        "print(censusData['Gender'].unique()) #multiple forms has to be occured which needs to be handled"
      ],
      "metadata": {
        "colab": {
          "base_uri": "https://localhost:8080/"
        },
        "id": "ML3uKakUw5e4",
        "outputId": "83620e0c-b93c-4e5a-a6b1-358b8afc82c6"
      },
      "execution_count": null,
      "outputs": [
        {
          "output_type": "stream",
          "name": "stdout",
          "text": [
            "['male' 'female' ' ' 'fe-male' 'mal e' 'fema le' 'fem-ale']\n"
          ]
        }
      ]
    },
    {
      "cell_type": "code",
      "source": [
        "censusData['Gender'].replace('fema le', 'female', inplace = True)\n",
        "censusData['Gender'].replace('fem-ale', 'female', inplace = True)\n",
        "censusData['Gender'].replace('fe-male', 'female', inplace = True)\n",
        "censusData['Gender'].replace('mal e', 'male', inplace = True)"
      ],
      "metadata": {
        "id": "9xayVsANtfAV"
      },
      "execution_count": null,
      "outputs": []
    },
    {
      "cell_type": "code",
      "source": [
        "#Now check if any data is missing from the Gender column\n",
        "censusData[~censusData['Gender'].str.contains('male|female')]"
      ],
      "metadata": {
        "colab": {
          "base_uri": "https://localhost:8080/",
          "height": 81
        },
        "id": "bv1BZ4AVt1WZ",
        "outputId": "8e058baf-c383-4c6b-8829-07ac04ac9b2d"
      },
      "execution_count": null,
      "outputs": [
        {
          "output_type": "execute_result",
          "data": {
            "text/plain": [
              "   House Number    Street First Name  Surname   Age  \\\n",
              "77           25  May Road    vincent  Edwards  54.0   \n",
              "\n",
              "   Relationship to Head of House Marital Status Gender             Occupation  \\\n",
              "77                       Husband        married         Management consultant   \n",
              "\n",
              "   Infirmity  Religion  \n",
              "77      None  Catholic  "
            ],
            "text/html": [
              "\n",
              "  <div id=\"df-0339b632-2218-440d-9416-0ff719a0b79d\">\n",
              "    <div class=\"colab-df-container\">\n",
              "      <div>\n",
              "<style scoped>\n",
              "    .dataframe tbody tr th:only-of-type {\n",
              "        vertical-align: middle;\n",
              "    }\n",
              "\n",
              "    .dataframe tbody tr th {\n",
              "        vertical-align: top;\n",
              "    }\n",
              "\n",
              "    .dataframe thead th {\n",
              "        text-align: right;\n",
              "    }\n",
              "</style>\n",
              "<table border=\"1\" class=\"dataframe\">\n",
              "  <thead>\n",
              "    <tr style=\"text-align: right;\">\n",
              "      <th></th>\n",
              "      <th>House Number</th>\n",
              "      <th>Street</th>\n",
              "      <th>First Name</th>\n",
              "      <th>Surname</th>\n",
              "      <th>Age</th>\n",
              "      <th>Relationship to Head of House</th>\n",
              "      <th>Marital Status</th>\n",
              "      <th>Gender</th>\n",
              "      <th>Occupation</th>\n",
              "      <th>Infirmity</th>\n",
              "      <th>Religion</th>\n",
              "    </tr>\n",
              "  </thead>\n",
              "  <tbody>\n",
              "    <tr>\n",
              "      <th>77</th>\n",
              "      <td>25</td>\n",
              "      <td>May Road</td>\n",
              "      <td>vincent</td>\n",
              "      <td>Edwards</td>\n",
              "      <td>54.0</td>\n",
              "      <td>Husband</td>\n",
              "      <td>married</td>\n",
              "      <td></td>\n",
              "      <td>Management consultant</td>\n",
              "      <td>None</td>\n",
              "      <td>Catholic</td>\n",
              "    </tr>\n",
              "  </tbody>\n",
              "</table>\n",
              "</div>\n",
              "      <button class=\"colab-df-convert\" onclick=\"convertToInteractive('df-0339b632-2218-440d-9416-0ff719a0b79d')\"\n",
              "              title=\"Convert this dataframe to an interactive table.\"\n",
              "              style=\"display:none;\">\n",
              "        \n",
              "  <svg xmlns=\"http://www.w3.org/2000/svg\" height=\"24px\"viewBox=\"0 0 24 24\"\n",
              "       width=\"24px\">\n",
              "    <path d=\"M0 0h24v24H0V0z\" fill=\"none\"/>\n",
              "    <path d=\"M18.56 5.44l.94 2.06.94-2.06 2.06-.94-2.06-.94-.94-2.06-.94 2.06-2.06.94zm-11 1L8.5 8.5l.94-2.06 2.06-.94-2.06-.94L8.5 2.5l-.94 2.06-2.06.94zm10 10l.94 2.06.94-2.06 2.06-.94-2.06-.94-.94-2.06-.94 2.06-2.06.94z\"/><path d=\"M17.41 7.96l-1.37-1.37c-.4-.4-.92-.59-1.43-.59-.52 0-1.04.2-1.43.59L10.3 9.45l-7.72 7.72c-.78.78-.78 2.05 0 2.83L4 21.41c.39.39.9.59 1.41.59.51 0 1.02-.2 1.41-.59l7.78-7.78 2.81-2.81c.8-.78.8-2.07 0-2.86zM5.41 20L4 18.59l7.72-7.72 1.47 1.35L5.41 20z\"/>\n",
              "  </svg>\n",
              "      </button>\n",
              "      \n",
              "  <style>\n",
              "    .colab-df-container {\n",
              "      display:flex;\n",
              "      flex-wrap:wrap;\n",
              "      gap: 12px;\n",
              "    }\n",
              "\n",
              "    .colab-df-convert {\n",
              "      background-color: #E8F0FE;\n",
              "      border: none;\n",
              "      border-radius: 50%;\n",
              "      cursor: pointer;\n",
              "      display: none;\n",
              "      fill: #1967D2;\n",
              "      height: 32px;\n",
              "      padding: 0 0 0 0;\n",
              "      width: 32px;\n",
              "    }\n",
              "\n",
              "    .colab-df-convert:hover {\n",
              "      background-color: #E2EBFA;\n",
              "      box-shadow: 0px 1px 2px rgba(60, 64, 67, 0.3), 0px 1px 3px 1px rgba(60, 64, 67, 0.15);\n",
              "      fill: #174EA6;\n",
              "    }\n",
              "\n",
              "    [theme=dark] .colab-df-convert {\n",
              "      background-color: #3B4455;\n",
              "      fill: #D2E3FC;\n",
              "    }\n",
              "\n",
              "    [theme=dark] .colab-df-convert:hover {\n",
              "      background-color: #434B5C;\n",
              "      box-shadow: 0px 1px 3px 1px rgba(0, 0, 0, 0.15);\n",
              "      filter: drop-shadow(0px 1px 2px rgba(0, 0, 0, 0.3));\n",
              "      fill: #FFFFFF;\n",
              "    }\n",
              "  </style>\n",
              "\n",
              "      <script>\n",
              "        const buttonEl =\n",
              "          document.querySelector('#df-0339b632-2218-440d-9416-0ff719a0b79d button.colab-df-convert');\n",
              "        buttonEl.style.display =\n",
              "          google.colab.kernel.accessAllowed ? 'block' : 'none';\n",
              "\n",
              "        async function convertToInteractive(key) {\n",
              "          const element = document.querySelector('#df-0339b632-2218-440d-9416-0ff719a0b79d');\n",
              "          const dataTable =\n",
              "            await google.colab.kernel.invokeFunction('convertToInteractive',\n",
              "                                                     [key], {});\n",
              "          if (!dataTable) return;\n",
              "\n",
              "          const docLinkHtml = 'Like what you see? Visit the ' +\n",
              "            '<a target=\"_blank\" href=https://colab.research.google.com/notebooks/data_table.ipynb>data table notebook</a>'\n",
              "            + ' to learn more about interactive tables.';\n",
              "          element.innerHTML = '';\n",
              "          dataTable['output_type'] = 'display_data';\n",
              "          await google.colab.output.renderOutput(dataTable, element);\n",
              "          const docLink = document.createElement('div');\n",
              "          docLink.innerHTML = docLinkHtml;\n",
              "          element.appendChild(docLink);\n",
              "        }\n",
              "      </script>\n",
              "    </div>\n",
              "  </div>\n",
              "  "
            ]
          },
          "metadata": {},
          "execution_count": 45
        }
      ]
    },
    {
      "cell_type": "markdown",
      "source": [
        "Relationship to head of house on record with no gender is Husband so can assume Vincent is male"
      ],
      "metadata": {
        "id": "eTe3SiSjjMJS"
      }
    },
    {
      "cell_type": "code",
      "source": [
        "#For row 77\n",
        "\n",
        "censusData['Gender'][77] = 'male'\n",
        "censusData.iloc[77] #Check that is corrected"
      ],
      "metadata": {
        "colab": {
          "base_uri": "https://localhost:8080/"
        },
        "id": "1B8aMTzwyFal",
        "outputId": "45a76000-9f82-42f2-831c-0a680f3846a5"
      },
      "execution_count": null,
      "outputs": [
        {
          "output_type": "execute_result",
          "data": {
            "text/plain": [
              "House Number                                        25\n",
              "Street                                        May Road\n",
              "First Name                                     vincent\n",
              "Surname                                        Edwards\n",
              "Age                                               54.0\n",
              "Relationship to Head of House                  Husband\n",
              "Marital Status                                 married\n",
              "Gender                                            male\n",
              "Occupation                       Management consultant\n",
              "Infirmity                                         None\n",
              "Religion                                      Catholic\n",
              "Name: 77, dtype: object"
            ]
          },
          "metadata": {},
          "execution_count": 46
        }
      ]
    },
    {
      "cell_type": "code",
      "source": [
        "#Looks good, convert the column to string now\n",
        "conversion.convertToString(censusData, 'Gender')"
      ],
      "metadata": {
        "colab": {
          "base_uri": "https://localhost:8080/"
        },
        "id": "17R5_Xmp1Wa1",
        "outputId": "03221ac0-9de5-45b2-daa6-c82e342cea07"
      },
      "execution_count": null,
      "outputs": [
        {
          "output_type": "stream",
          "name": "stdout",
          "text": [
            "NUMBER OF ERRORS: 0\n"
          ]
        },
        {
          "output_type": "execute_result",
          "data": {
            "text/plain": [
              "[]"
            ]
          },
          "metadata": {},
          "execution_count": 47
        }
      ]
    },
    {
      "cell_type": "markdown",
      "metadata": {
        "id": "zjvkg0_1ikT-"
      },
      "source": [
        "<b>Religion</b>"
      ]
    },
    {
      "cell_type": "code",
      "source": [
        "#Corrct NA Values to Not Applicable as reasonable answer\n",
        "censusData['Religion'].fillna(\"Not Applicable\", inplace = True) #Correct the prev missing values.\n",
        "\n",
        "#Convert to lower\n",
        "conversion.convertToLower(censusData, 'Religion')"
      ],
      "metadata": {
        "id": "IEJ8VR7pzDNo"
      },
      "execution_count": null,
      "outputs": []
    },
    {
      "cell_type": "code",
      "source": [
        "#Check unique values for religion are reasonable\n",
        "print(censusData['Religion'].unique()) #no multiple forms found"
      ],
      "metadata": {
        "colab": {
          "base_uri": "https://localhost:8080/"
        },
        "id": "DuOH3WtozqJ5",
        "outputId": "f7301cfd-2b80-49a0-d262-14c70575a91a"
      },
      "execution_count": null,
      "outputs": [
        {
          "output_type": "stream",
          "name": "stdout",
          "text": [
            "['methodist' 'none' 'not applicable' 'christian' 'catholic' 'jewish'\n",
            " 'muslim' 'sikh' ' ' 'private' 'sith' 'jedi' 'housekeeper' 'quaker'\n",
            " 'pagan']\n"
          ]
        }
      ]
    },
    {
      "cell_type": "code",
      "source": [
        "#It seems like the best options here are to use most occuring or Not Applicable \n",
        "#If they are going to fill it out with silly values then its likely religion is not applicable\n",
        "censusData['Religion'].replace(\"housekeeper\", 'not applicable', inplace = True)\n",
        "print(censusData['Religion'].unique())"
      ],
      "metadata": {
        "colab": {
          "base_uri": "https://localhost:8080/"
        },
        "id": "OSZxC1l1jXVJ",
        "outputId": "2c5a8b33-2744-4534-9d0a-6116beb05e8c"
      },
      "execution_count": null,
      "outputs": [
        {
          "output_type": "stream",
          "name": "stdout",
          "text": [
            "['methodist' 'none' 'not applicable' 'christian' 'catholic' 'jewish'\n",
            " 'muslim' 'sikh' ' ' 'private' 'sith' 'jedi' 'quaker' 'pagan']\n"
          ]
        }
      ]
    },
    {
      "cell_type": "code",
      "source": [
        "#Check for blank spaces\n",
        "censusData[censusData['Religion'] == ' ']"
      ],
      "metadata": {
        "colab": {
          "base_uri": "https://localhost:8080/",
          "height": 143
        },
        "id": "kq54ZNPUzxmA",
        "outputId": "c6dd6eb2-a08b-40c4-a8b8-6b400ea791be"
      },
      "execution_count": null,
      "outputs": [
        {
          "output_type": "execute_result",
          "data": {
            "text/plain": [
              "     House Number            Street First Name  Surname   Age  \\\n",
              "514            22  Corporation Lane      peter    Ellis  50.0   \n",
              "8993          141      Slater Drive     elaine   Taylor  37.0   \n",
              "9431            6        Shaw Union        tom  Johnson  40.0   \n",
              "\n",
              "     Relationship to Head of House Marital Status  Gender  \\\n",
              "514                           Head         single    male   \n",
              "8993                          Head        married  female   \n",
              "9431                       Husband        married    male   \n",
              "\n",
              "                         Occupation Infirmity Religion  \n",
              "514              Wellsite geologist      None           \n",
              "8993                     Unemployed      None           \n",
              "9431  Speech and language therapist      None           "
            ],
            "text/html": [
              "\n",
              "  <div id=\"df-0f188307-8c6d-4858-beb9-5e93db6678b9\">\n",
              "    <div class=\"colab-df-container\">\n",
              "      <div>\n",
              "<style scoped>\n",
              "    .dataframe tbody tr th:only-of-type {\n",
              "        vertical-align: middle;\n",
              "    }\n",
              "\n",
              "    .dataframe tbody tr th {\n",
              "        vertical-align: top;\n",
              "    }\n",
              "\n",
              "    .dataframe thead th {\n",
              "        text-align: right;\n",
              "    }\n",
              "</style>\n",
              "<table border=\"1\" class=\"dataframe\">\n",
              "  <thead>\n",
              "    <tr style=\"text-align: right;\">\n",
              "      <th></th>\n",
              "      <th>House Number</th>\n",
              "      <th>Street</th>\n",
              "      <th>First Name</th>\n",
              "      <th>Surname</th>\n",
              "      <th>Age</th>\n",
              "      <th>Relationship to Head of House</th>\n",
              "      <th>Marital Status</th>\n",
              "      <th>Gender</th>\n",
              "      <th>Occupation</th>\n",
              "      <th>Infirmity</th>\n",
              "      <th>Religion</th>\n",
              "    </tr>\n",
              "  </thead>\n",
              "  <tbody>\n",
              "    <tr>\n",
              "      <th>514</th>\n",
              "      <td>22</td>\n",
              "      <td>Corporation Lane</td>\n",
              "      <td>peter</td>\n",
              "      <td>Ellis</td>\n",
              "      <td>50.0</td>\n",
              "      <td>Head</td>\n",
              "      <td>single</td>\n",
              "      <td>male</td>\n",
              "      <td>Wellsite geologist</td>\n",
              "      <td>None</td>\n",
              "      <td></td>\n",
              "    </tr>\n",
              "    <tr>\n",
              "      <th>8993</th>\n",
              "      <td>141</td>\n",
              "      <td>Slater Drive</td>\n",
              "      <td>elaine</td>\n",
              "      <td>Taylor</td>\n",
              "      <td>37.0</td>\n",
              "      <td>Head</td>\n",
              "      <td>married</td>\n",
              "      <td>female</td>\n",
              "      <td>Unemployed</td>\n",
              "      <td>None</td>\n",
              "      <td></td>\n",
              "    </tr>\n",
              "    <tr>\n",
              "      <th>9431</th>\n",
              "      <td>6</td>\n",
              "      <td>Shaw Union</td>\n",
              "      <td>tom</td>\n",
              "      <td>Johnson</td>\n",
              "      <td>40.0</td>\n",
              "      <td>Husband</td>\n",
              "      <td>married</td>\n",
              "      <td>male</td>\n",
              "      <td>Speech and language therapist</td>\n",
              "      <td>None</td>\n",
              "      <td></td>\n",
              "    </tr>\n",
              "  </tbody>\n",
              "</table>\n",
              "</div>\n",
              "      <button class=\"colab-df-convert\" onclick=\"convertToInteractive('df-0f188307-8c6d-4858-beb9-5e93db6678b9')\"\n",
              "              title=\"Convert this dataframe to an interactive table.\"\n",
              "              style=\"display:none;\">\n",
              "        \n",
              "  <svg xmlns=\"http://www.w3.org/2000/svg\" height=\"24px\"viewBox=\"0 0 24 24\"\n",
              "       width=\"24px\">\n",
              "    <path d=\"M0 0h24v24H0V0z\" fill=\"none\"/>\n",
              "    <path d=\"M18.56 5.44l.94 2.06.94-2.06 2.06-.94-2.06-.94-.94-2.06-.94 2.06-2.06.94zm-11 1L8.5 8.5l.94-2.06 2.06-.94-2.06-.94L8.5 2.5l-.94 2.06-2.06.94zm10 10l.94 2.06.94-2.06 2.06-.94-2.06-.94-.94-2.06-.94 2.06-2.06.94z\"/><path d=\"M17.41 7.96l-1.37-1.37c-.4-.4-.92-.59-1.43-.59-.52 0-1.04.2-1.43.59L10.3 9.45l-7.72 7.72c-.78.78-.78 2.05 0 2.83L4 21.41c.39.39.9.59 1.41.59.51 0 1.02-.2 1.41-.59l7.78-7.78 2.81-2.81c.8-.78.8-2.07 0-2.86zM5.41 20L4 18.59l7.72-7.72 1.47 1.35L5.41 20z\"/>\n",
              "  </svg>\n",
              "      </button>\n",
              "      \n",
              "  <style>\n",
              "    .colab-df-container {\n",
              "      display:flex;\n",
              "      flex-wrap:wrap;\n",
              "      gap: 12px;\n",
              "    }\n",
              "\n",
              "    .colab-df-convert {\n",
              "      background-color: #E8F0FE;\n",
              "      border: none;\n",
              "      border-radius: 50%;\n",
              "      cursor: pointer;\n",
              "      display: none;\n",
              "      fill: #1967D2;\n",
              "      height: 32px;\n",
              "      padding: 0 0 0 0;\n",
              "      width: 32px;\n",
              "    }\n",
              "\n",
              "    .colab-df-convert:hover {\n",
              "      background-color: #E2EBFA;\n",
              "      box-shadow: 0px 1px 2px rgba(60, 64, 67, 0.3), 0px 1px 3px 1px rgba(60, 64, 67, 0.15);\n",
              "      fill: #174EA6;\n",
              "    }\n",
              "\n",
              "    [theme=dark] .colab-df-convert {\n",
              "      background-color: #3B4455;\n",
              "      fill: #D2E3FC;\n",
              "    }\n",
              "\n",
              "    [theme=dark] .colab-df-convert:hover {\n",
              "      background-color: #434B5C;\n",
              "      box-shadow: 0px 1px 3px 1px rgba(0, 0, 0, 0.15);\n",
              "      filter: drop-shadow(0px 1px 2px rgba(0, 0, 0, 0.3));\n",
              "      fill: #FFFFFF;\n",
              "    }\n",
              "  </style>\n",
              "\n",
              "      <script>\n",
              "        const buttonEl =\n",
              "          document.querySelector('#df-0f188307-8c6d-4858-beb9-5e93db6678b9 button.colab-df-convert');\n",
              "        buttonEl.style.display =\n",
              "          google.colab.kernel.accessAllowed ? 'block' : 'none';\n",
              "\n",
              "        async function convertToInteractive(key) {\n",
              "          const element = document.querySelector('#df-0f188307-8c6d-4858-beb9-5e93db6678b9');\n",
              "          const dataTable =\n",
              "            await google.colab.kernel.invokeFunction('convertToInteractive',\n",
              "                                                     [key], {});\n",
              "          if (!dataTable) return;\n",
              "\n",
              "          const docLinkHtml = 'Like what you see? Visit the ' +\n",
              "            '<a target=\"_blank\" href=https://colab.research.google.com/notebooks/data_table.ipynb>data table notebook</a>'\n",
              "            + ' to learn more about interactive tables.';\n",
              "          element.innerHTML = '';\n",
              "          dataTable['output_type'] = 'display_data';\n",
              "          await google.colab.output.renderOutput(dataTable, element);\n",
              "          const docLink = document.createElement('div');\n",
              "          docLink.innerHTML = docLinkHtml;\n",
              "          element.appendChild(docLink);\n",
              "        }\n",
              "      </script>\n",
              "    </div>\n",
              "  </div>\n",
              "  "
            ]
          },
          "metadata": {},
          "execution_count": 51
        }
      ]
    },
    {
      "cell_type": "code",
      "execution_count": null,
      "metadata": {
        "id": "l9sA0oSsikT-"
      },
      "outputs": [],
      "source": [
        "#It seems like the best options here are to use Not Applicable since all of them are above 18\n",
        "censusData['Religion'].replace(' ' , 'not applicable', inplace = True)"
      ]
    },
    {
      "cell_type": "markdown",
      "metadata": {
        "id": "DYxPvVcyikT_"
      },
      "source": [
        "### <b>Infirmity</b>"
      ]
    },
    {
      "cell_type": "code",
      "source": [
        "#Check unique values for religion are reasonable\n",
        "print(censusData['Infirmity'].unique()) #no multiple forms found"
      ],
      "metadata": {
        "colab": {
          "base_uri": "https://localhost:8080/"
        },
        "id": "g2-2iSQzjiGe",
        "outputId": "fbf2096b-b7ad-4406-fe4b-50039c6823b3"
      },
      "execution_count": null,
      "outputs": [
        {
          "output_type": "stream",
          "name": "stdout",
          "text": [
            "['None' 'Mental Disability' ' ' 'Blind' 'Disabled' 'Physical Disability'\n",
            " 'Deaf' 'Unknown Infection']\n"
          ]
        }
      ]
    },
    {
      "cell_type": "code",
      "source": [
        "#Check for blank space\n",
        "censusData[censusData['Infirmity'] == ' ']"
      ],
      "metadata": {
        "colab": {
          "base_uri": "https://localhost:8080/",
          "height": 520
        },
        "id": "Uklbsj7VJLzi",
        "outputId": "4bbf1826-11de-425a-f0c1-075ca61d1c96"
      },
      "execution_count": null,
      "outputs": [
        {
          "output_type": "execute_result",
          "data": {
            "text/plain": [
              "     House Number              Street First Name    Surname   Age  \\\n",
              "259            10    Corporation Road    dominic      Allen  42.0   \n",
              "907            24   Hutchinson Spring     sandra     Miller  55.0   \n",
              "2011            1           Long Port  catherine    Johnson  79.0   \n",
              "2524            9      Tannery Street      hazel      Evans   9.0   \n",
              "2605           18      Tannery Street      harry   Johnston  41.0   \n",
              "2717           37      Tannery Street    dorothy  Robertson  14.0   \n",
              "3100           98      Tannery Street       jade    Bradley  34.0   \n",
              "3241          120      Tannery Street      bryan     Fisher  47.0   \n",
              "3606          175      Tannery Street    vanessa      Lloyd   3.0   \n",
              "4286            9  Sheffield Parkways   margaret     Howell  22.0   \n",
              "4795           17       Sheppard Well   jennifer     Murray  82.0   \n",
              "6224          173         Hale Street     nicole    Johnson  63.0   \n",
              "7597           87         Hazel Creek       owen      Adams  49.0   \n",
              "8861           86        Slater Drive       luke     Burton   8.0   \n",
              "9183           15         Khan Street      glenn    Wallace  35.0   \n",
              "\n",
              "     Relationship to Head of House  Marital Status  Gender  \\\n",
              "259                           Head          single    male   \n",
              "907                           Head        divorced  female   \n",
              "2011                          Wife         married  female   \n",
              "2524                      Daughter  not applicable  female   \n",
              "2605                           Son          single    male   \n",
              "2717                      Daughter  not applicable  female   \n",
              "3100                          Head         married  female   \n",
              "3241                           Son          single    male   \n",
              "3606                      Daughter  not applicable  female   \n",
              "4286                          None          single  female   \n",
              "4795                          Head         widowed  female   \n",
              "6224                          Head        divorced  female   \n",
              "7597                          None          single    male   \n",
              "8861                           Son  not applicable    male   \n",
              "9183                        Lodger          single    male   \n",
              "\n",
              "                                      Occupation Infirmity        Religion  \n",
              "259                         Financial controller                      none  \n",
              "907                                   Unemployed                 christian  \n",
              "2011                      Retired Radio producer                      none  \n",
              "2524                                     Student            not applicable  \n",
              "2605                              Science writer                  catholic  \n",
              "2717                                     Student            not applicable  \n",
              "3100             Engineer, manufacturing systems                 methodist  \n",
              "3241                 Information systems manager                      none  \n",
              "3606                                       Child            not applicable  \n",
              "4286                          University Student                      none  \n",
              "4795  Retired Research scientist (life sciences)                      none  \n",
              "6224                                  Unemployed                      none  \n",
              "7597                                 Music tutor                      none  \n",
              "8861                                     Student            not applicable  \n",
              "9183                                Chiropractor                  catholic  "
            ],
            "text/html": [
              "\n",
              "  <div id=\"df-f304eeb9-e54a-4a26-89bf-12abe4bc7011\">\n",
              "    <div class=\"colab-df-container\">\n",
              "      <div>\n",
              "<style scoped>\n",
              "    .dataframe tbody tr th:only-of-type {\n",
              "        vertical-align: middle;\n",
              "    }\n",
              "\n",
              "    .dataframe tbody tr th {\n",
              "        vertical-align: top;\n",
              "    }\n",
              "\n",
              "    .dataframe thead th {\n",
              "        text-align: right;\n",
              "    }\n",
              "</style>\n",
              "<table border=\"1\" class=\"dataframe\">\n",
              "  <thead>\n",
              "    <tr style=\"text-align: right;\">\n",
              "      <th></th>\n",
              "      <th>House Number</th>\n",
              "      <th>Street</th>\n",
              "      <th>First Name</th>\n",
              "      <th>Surname</th>\n",
              "      <th>Age</th>\n",
              "      <th>Relationship to Head of House</th>\n",
              "      <th>Marital Status</th>\n",
              "      <th>Gender</th>\n",
              "      <th>Occupation</th>\n",
              "      <th>Infirmity</th>\n",
              "      <th>Religion</th>\n",
              "    </tr>\n",
              "  </thead>\n",
              "  <tbody>\n",
              "    <tr>\n",
              "      <th>259</th>\n",
              "      <td>10</td>\n",
              "      <td>Corporation Road</td>\n",
              "      <td>dominic</td>\n",
              "      <td>Allen</td>\n",
              "      <td>42.0</td>\n",
              "      <td>Head</td>\n",
              "      <td>single</td>\n",
              "      <td>male</td>\n",
              "      <td>Financial controller</td>\n",
              "      <td></td>\n",
              "      <td>none</td>\n",
              "    </tr>\n",
              "    <tr>\n",
              "      <th>907</th>\n",
              "      <td>24</td>\n",
              "      <td>Hutchinson Spring</td>\n",
              "      <td>sandra</td>\n",
              "      <td>Miller</td>\n",
              "      <td>55.0</td>\n",
              "      <td>Head</td>\n",
              "      <td>divorced</td>\n",
              "      <td>female</td>\n",
              "      <td>Unemployed</td>\n",
              "      <td></td>\n",
              "      <td>christian</td>\n",
              "    </tr>\n",
              "    <tr>\n",
              "      <th>2011</th>\n",
              "      <td>1</td>\n",
              "      <td>Long Port</td>\n",
              "      <td>catherine</td>\n",
              "      <td>Johnson</td>\n",
              "      <td>79.0</td>\n",
              "      <td>Wife</td>\n",
              "      <td>married</td>\n",
              "      <td>female</td>\n",
              "      <td>Retired Radio producer</td>\n",
              "      <td></td>\n",
              "      <td>none</td>\n",
              "    </tr>\n",
              "    <tr>\n",
              "      <th>2524</th>\n",
              "      <td>9</td>\n",
              "      <td>Tannery Street</td>\n",
              "      <td>hazel</td>\n",
              "      <td>Evans</td>\n",
              "      <td>9.0</td>\n",
              "      <td>Daughter</td>\n",
              "      <td>not applicable</td>\n",
              "      <td>female</td>\n",
              "      <td>Student</td>\n",
              "      <td></td>\n",
              "      <td>not applicable</td>\n",
              "    </tr>\n",
              "    <tr>\n",
              "      <th>2605</th>\n",
              "      <td>18</td>\n",
              "      <td>Tannery Street</td>\n",
              "      <td>harry</td>\n",
              "      <td>Johnston</td>\n",
              "      <td>41.0</td>\n",
              "      <td>Son</td>\n",
              "      <td>single</td>\n",
              "      <td>male</td>\n",
              "      <td>Science writer</td>\n",
              "      <td></td>\n",
              "      <td>catholic</td>\n",
              "    </tr>\n",
              "    <tr>\n",
              "      <th>2717</th>\n",
              "      <td>37</td>\n",
              "      <td>Tannery Street</td>\n",
              "      <td>dorothy</td>\n",
              "      <td>Robertson</td>\n",
              "      <td>14.0</td>\n",
              "      <td>Daughter</td>\n",
              "      <td>not applicable</td>\n",
              "      <td>female</td>\n",
              "      <td>Student</td>\n",
              "      <td></td>\n",
              "      <td>not applicable</td>\n",
              "    </tr>\n",
              "    <tr>\n",
              "      <th>3100</th>\n",
              "      <td>98</td>\n",
              "      <td>Tannery Street</td>\n",
              "      <td>jade</td>\n",
              "      <td>Bradley</td>\n",
              "      <td>34.0</td>\n",
              "      <td>Head</td>\n",
              "      <td>married</td>\n",
              "      <td>female</td>\n",
              "      <td>Engineer, manufacturing systems</td>\n",
              "      <td></td>\n",
              "      <td>methodist</td>\n",
              "    </tr>\n",
              "    <tr>\n",
              "      <th>3241</th>\n",
              "      <td>120</td>\n",
              "      <td>Tannery Street</td>\n",
              "      <td>bryan</td>\n",
              "      <td>Fisher</td>\n",
              "      <td>47.0</td>\n",
              "      <td>Son</td>\n",
              "      <td>single</td>\n",
              "      <td>male</td>\n",
              "      <td>Information systems manager</td>\n",
              "      <td></td>\n",
              "      <td>none</td>\n",
              "    </tr>\n",
              "    <tr>\n",
              "      <th>3606</th>\n",
              "      <td>175</td>\n",
              "      <td>Tannery Street</td>\n",
              "      <td>vanessa</td>\n",
              "      <td>Lloyd</td>\n",
              "      <td>3.0</td>\n",
              "      <td>Daughter</td>\n",
              "      <td>not applicable</td>\n",
              "      <td>female</td>\n",
              "      <td>Child</td>\n",
              "      <td></td>\n",
              "      <td>not applicable</td>\n",
              "    </tr>\n",
              "    <tr>\n",
              "      <th>4286</th>\n",
              "      <td>9</td>\n",
              "      <td>Sheffield Parkways</td>\n",
              "      <td>margaret</td>\n",
              "      <td>Howell</td>\n",
              "      <td>22.0</td>\n",
              "      <td>None</td>\n",
              "      <td>single</td>\n",
              "      <td>female</td>\n",
              "      <td>University Student</td>\n",
              "      <td></td>\n",
              "      <td>none</td>\n",
              "    </tr>\n",
              "    <tr>\n",
              "      <th>4795</th>\n",
              "      <td>17</td>\n",
              "      <td>Sheppard Well</td>\n",
              "      <td>jennifer</td>\n",
              "      <td>Murray</td>\n",
              "      <td>82.0</td>\n",
              "      <td>Head</td>\n",
              "      <td>widowed</td>\n",
              "      <td>female</td>\n",
              "      <td>Retired Research scientist (life sciences)</td>\n",
              "      <td></td>\n",
              "      <td>none</td>\n",
              "    </tr>\n",
              "    <tr>\n",
              "      <th>6224</th>\n",
              "      <td>173</td>\n",
              "      <td>Hale Street</td>\n",
              "      <td>nicole</td>\n",
              "      <td>Johnson</td>\n",
              "      <td>63.0</td>\n",
              "      <td>Head</td>\n",
              "      <td>divorced</td>\n",
              "      <td>female</td>\n",
              "      <td>Unemployed</td>\n",
              "      <td></td>\n",
              "      <td>none</td>\n",
              "    </tr>\n",
              "    <tr>\n",
              "      <th>7597</th>\n",
              "      <td>87</td>\n",
              "      <td>Hazel Creek</td>\n",
              "      <td>owen</td>\n",
              "      <td>Adams</td>\n",
              "      <td>49.0</td>\n",
              "      <td>None</td>\n",
              "      <td>single</td>\n",
              "      <td>male</td>\n",
              "      <td>Music tutor</td>\n",
              "      <td></td>\n",
              "      <td>none</td>\n",
              "    </tr>\n",
              "    <tr>\n",
              "      <th>8861</th>\n",
              "      <td>86</td>\n",
              "      <td>Slater Drive</td>\n",
              "      <td>luke</td>\n",
              "      <td>Burton</td>\n",
              "      <td>8.0</td>\n",
              "      <td>Son</td>\n",
              "      <td>not applicable</td>\n",
              "      <td>male</td>\n",
              "      <td>Student</td>\n",
              "      <td></td>\n",
              "      <td>not applicable</td>\n",
              "    </tr>\n",
              "    <tr>\n",
              "      <th>9183</th>\n",
              "      <td>15</td>\n",
              "      <td>Khan Street</td>\n",
              "      <td>glenn</td>\n",
              "      <td>Wallace</td>\n",
              "      <td>35.0</td>\n",
              "      <td>Lodger</td>\n",
              "      <td>single</td>\n",
              "      <td>male</td>\n",
              "      <td>Chiropractor</td>\n",
              "      <td></td>\n",
              "      <td>catholic</td>\n",
              "    </tr>\n",
              "  </tbody>\n",
              "</table>\n",
              "</div>\n",
              "      <button class=\"colab-df-convert\" onclick=\"convertToInteractive('df-f304eeb9-e54a-4a26-89bf-12abe4bc7011')\"\n",
              "              title=\"Convert this dataframe to an interactive table.\"\n",
              "              style=\"display:none;\">\n",
              "        \n",
              "  <svg xmlns=\"http://www.w3.org/2000/svg\" height=\"24px\"viewBox=\"0 0 24 24\"\n",
              "       width=\"24px\">\n",
              "    <path d=\"M0 0h24v24H0V0z\" fill=\"none\"/>\n",
              "    <path d=\"M18.56 5.44l.94 2.06.94-2.06 2.06-.94-2.06-.94-.94-2.06-.94 2.06-2.06.94zm-11 1L8.5 8.5l.94-2.06 2.06-.94-2.06-.94L8.5 2.5l-.94 2.06-2.06.94zm10 10l.94 2.06.94-2.06 2.06-.94-2.06-.94-.94-2.06-.94 2.06-2.06.94z\"/><path d=\"M17.41 7.96l-1.37-1.37c-.4-.4-.92-.59-1.43-.59-.52 0-1.04.2-1.43.59L10.3 9.45l-7.72 7.72c-.78.78-.78 2.05 0 2.83L4 21.41c.39.39.9.59 1.41.59.51 0 1.02-.2 1.41-.59l7.78-7.78 2.81-2.81c.8-.78.8-2.07 0-2.86zM5.41 20L4 18.59l7.72-7.72 1.47 1.35L5.41 20z\"/>\n",
              "  </svg>\n",
              "      </button>\n",
              "      \n",
              "  <style>\n",
              "    .colab-df-container {\n",
              "      display:flex;\n",
              "      flex-wrap:wrap;\n",
              "      gap: 12px;\n",
              "    }\n",
              "\n",
              "    .colab-df-convert {\n",
              "      background-color: #E8F0FE;\n",
              "      border: none;\n",
              "      border-radius: 50%;\n",
              "      cursor: pointer;\n",
              "      display: none;\n",
              "      fill: #1967D2;\n",
              "      height: 32px;\n",
              "      padding: 0 0 0 0;\n",
              "      width: 32px;\n",
              "    }\n",
              "\n",
              "    .colab-df-convert:hover {\n",
              "      background-color: #E2EBFA;\n",
              "      box-shadow: 0px 1px 2px rgba(60, 64, 67, 0.3), 0px 1px 3px 1px rgba(60, 64, 67, 0.15);\n",
              "      fill: #174EA6;\n",
              "    }\n",
              "\n",
              "    [theme=dark] .colab-df-convert {\n",
              "      background-color: #3B4455;\n",
              "      fill: #D2E3FC;\n",
              "    }\n",
              "\n",
              "    [theme=dark] .colab-df-convert:hover {\n",
              "      background-color: #434B5C;\n",
              "      box-shadow: 0px 1px 3px 1px rgba(0, 0, 0, 0.15);\n",
              "      filter: drop-shadow(0px 1px 2px rgba(0, 0, 0, 0.3));\n",
              "      fill: #FFFFFF;\n",
              "    }\n",
              "  </style>\n",
              "\n",
              "      <script>\n",
              "        const buttonEl =\n",
              "          document.querySelector('#df-f304eeb9-e54a-4a26-89bf-12abe4bc7011 button.colab-df-convert');\n",
              "        buttonEl.style.display =\n",
              "          google.colab.kernel.accessAllowed ? 'block' : 'none';\n",
              "\n",
              "        async function convertToInteractive(key) {\n",
              "          const element = document.querySelector('#df-f304eeb9-e54a-4a26-89bf-12abe4bc7011');\n",
              "          const dataTable =\n",
              "            await google.colab.kernel.invokeFunction('convertToInteractive',\n",
              "                                                     [key], {});\n",
              "          if (!dataTable) return;\n",
              "\n",
              "          const docLinkHtml = 'Like what you see? Visit the ' +\n",
              "            '<a target=\"_blank\" href=https://colab.research.google.com/notebooks/data_table.ipynb>data table notebook</a>'\n",
              "            + ' to learn more about interactive tables.';\n",
              "          element.innerHTML = '';\n",
              "          dataTable['output_type'] = 'display_data';\n",
              "          await google.colab.output.renderOutput(dataTable, element);\n",
              "          const docLink = document.createElement('div');\n",
              "          docLink.innerHTML = docLinkHtml;\n",
              "          element.appendChild(docLink);\n",
              "        }\n",
              "      </script>\n",
              "    </div>\n",
              "  </div>\n",
              "  "
            ]
          },
          "metadata": {},
          "execution_count": 54
        }
      ]
    },
    {
      "cell_type": "code",
      "source": [
        "#Fill missing values for Infirmity with Not Specified \n",
        "censusData['Infirmity'].replace(' ', 'Not Specified', inplace = True)"
      ],
      "metadata": {
        "id": "uHml9Elo2Lbr"
      },
      "execution_count": null,
      "outputs": []
    },
    {
      "cell_type": "code",
      "execution_count": null,
      "metadata": {
        "id": "7wS43PnWikT_"
      },
      "outputs": [],
      "source": [
        "#Convert to lower\n",
        "conversion.convertToLower(censusData, 'Infirmity')"
      ]
    },
    {
      "cell_type": "markdown",
      "metadata": {
        "id": "rPy8aUE1ikUA"
      },
      "source": [
        "### <b>Relationship to Head of House</b>"
      ]
    },
    {
      "cell_type": "code",
      "source": [
        "#Check for reasonable answers\n",
        "print(censusData['Relationship to Head of House'].unique()) #no multiple forms found"
      ],
      "metadata": {
        "colab": {
          "base_uri": "https://localhost:8080/"
        },
        "id": "d2VkERaE2k0T",
        "outputId": "da81e0b0-47e0-4637-e571-3ae469cf9d1e"
      },
      "execution_count": null,
      "outputs": [
        {
          "output_type": "stream",
          "name": "stdout",
          "text": [
            "['Head' 'Partner' 'Daughter' 'Wife' 'Husband' 'Grandson' 'Granddaughter'\n",
            " 'Sibling' 'Lodger' 'Son' 'None' 'Adopted Daughter' 'Cousin'\n",
            " 'Step-Daughter' 'Visitor' 'Step-Son' 'Adopted Son' 'Nephew' ' ' 'Neice'\n",
            " 'Adopted Grandson']\n"
          ]
        }
      ]
    },
    {
      "cell_type": "code",
      "execution_count": null,
      "metadata": {
        "colab": {
          "base_uri": "https://localhost:8080/",
          "height": 143
        },
        "id": "Q4fQ5EfzikUA",
        "outputId": "7ea09d8f-e9ec-40a7-f06e-00b6a3138194"
      },
      "outputs": [
        {
          "output_type": "execute_result",
          "data": {
            "text/plain": [
              "     House Number          Street First Name Surname   Age  \\\n",
              "2723           38  Tannery Street       eric  Barnes   5.0   \n",
              "4717           72  Capricorn Road      joyce  Mellor  34.0   \n",
              "9007          146    Slater Drive      helen    King  13.0   \n",
              "\n",
              "     Relationship to Head of House  Marital Status  Gender  \\\n",
              "2723                                not applicable    male   \n",
              "4717                                        single  female   \n",
              "9007                                not applicable  female   \n",
              "\n",
              "                   Occupation Infirmity        Religion  \n",
              "2723                  Student      none  not applicable  \n",
              "4717  Horticulturist, amenity      none            none  \n",
              "9007                  Student      none  not applicable  "
            ],
            "text/html": [
              "\n",
              "  <div id=\"df-8cf3f64a-9031-4af1-a543-1c9b3044f747\">\n",
              "    <div class=\"colab-df-container\">\n",
              "      <div>\n",
              "<style scoped>\n",
              "    .dataframe tbody tr th:only-of-type {\n",
              "        vertical-align: middle;\n",
              "    }\n",
              "\n",
              "    .dataframe tbody tr th {\n",
              "        vertical-align: top;\n",
              "    }\n",
              "\n",
              "    .dataframe thead th {\n",
              "        text-align: right;\n",
              "    }\n",
              "</style>\n",
              "<table border=\"1\" class=\"dataframe\">\n",
              "  <thead>\n",
              "    <tr style=\"text-align: right;\">\n",
              "      <th></th>\n",
              "      <th>House Number</th>\n",
              "      <th>Street</th>\n",
              "      <th>First Name</th>\n",
              "      <th>Surname</th>\n",
              "      <th>Age</th>\n",
              "      <th>Relationship to Head of House</th>\n",
              "      <th>Marital Status</th>\n",
              "      <th>Gender</th>\n",
              "      <th>Occupation</th>\n",
              "      <th>Infirmity</th>\n",
              "      <th>Religion</th>\n",
              "    </tr>\n",
              "  </thead>\n",
              "  <tbody>\n",
              "    <tr>\n",
              "      <th>2723</th>\n",
              "      <td>38</td>\n",
              "      <td>Tannery Street</td>\n",
              "      <td>eric</td>\n",
              "      <td>Barnes</td>\n",
              "      <td>5.0</td>\n",
              "      <td></td>\n",
              "      <td>not applicable</td>\n",
              "      <td>male</td>\n",
              "      <td>Student</td>\n",
              "      <td>none</td>\n",
              "      <td>not applicable</td>\n",
              "    </tr>\n",
              "    <tr>\n",
              "      <th>4717</th>\n",
              "      <td>72</td>\n",
              "      <td>Capricorn Road</td>\n",
              "      <td>joyce</td>\n",
              "      <td>Mellor</td>\n",
              "      <td>34.0</td>\n",
              "      <td></td>\n",
              "      <td>single</td>\n",
              "      <td>female</td>\n",
              "      <td>Horticulturist, amenity</td>\n",
              "      <td>none</td>\n",
              "      <td>none</td>\n",
              "    </tr>\n",
              "    <tr>\n",
              "      <th>9007</th>\n",
              "      <td>146</td>\n",
              "      <td>Slater Drive</td>\n",
              "      <td>helen</td>\n",
              "      <td>King</td>\n",
              "      <td>13.0</td>\n",
              "      <td></td>\n",
              "      <td>not applicable</td>\n",
              "      <td>female</td>\n",
              "      <td>Student</td>\n",
              "      <td>none</td>\n",
              "      <td>not applicable</td>\n",
              "    </tr>\n",
              "  </tbody>\n",
              "</table>\n",
              "</div>\n",
              "      <button class=\"colab-df-convert\" onclick=\"convertToInteractive('df-8cf3f64a-9031-4af1-a543-1c9b3044f747')\"\n",
              "              title=\"Convert this dataframe to an interactive table.\"\n",
              "              style=\"display:none;\">\n",
              "        \n",
              "  <svg xmlns=\"http://www.w3.org/2000/svg\" height=\"24px\"viewBox=\"0 0 24 24\"\n",
              "       width=\"24px\">\n",
              "    <path d=\"M0 0h24v24H0V0z\" fill=\"none\"/>\n",
              "    <path d=\"M18.56 5.44l.94 2.06.94-2.06 2.06-.94-2.06-.94-.94-2.06-.94 2.06-2.06.94zm-11 1L8.5 8.5l.94-2.06 2.06-.94-2.06-.94L8.5 2.5l-.94 2.06-2.06.94zm10 10l.94 2.06.94-2.06 2.06-.94-2.06-.94-.94-2.06-.94 2.06-2.06.94z\"/><path d=\"M17.41 7.96l-1.37-1.37c-.4-.4-.92-.59-1.43-.59-.52 0-1.04.2-1.43.59L10.3 9.45l-7.72 7.72c-.78.78-.78 2.05 0 2.83L4 21.41c.39.39.9.59 1.41.59.51 0 1.02-.2 1.41-.59l7.78-7.78 2.81-2.81c.8-.78.8-2.07 0-2.86zM5.41 20L4 18.59l7.72-7.72 1.47 1.35L5.41 20z\"/>\n",
              "  </svg>\n",
              "      </button>\n",
              "      \n",
              "  <style>\n",
              "    .colab-df-container {\n",
              "      display:flex;\n",
              "      flex-wrap:wrap;\n",
              "      gap: 12px;\n",
              "    }\n",
              "\n",
              "    .colab-df-convert {\n",
              "      background-color: #E8F0FE;\n",
              "      border: none;\n",
              "      border-radius: 50%;\n",
              "      cursor: pointer;\n",
              "      display: none;\n",
              "      fill: #1967D2;\n",
              "      height: 32px;\n",
              "      padding: 0 0 0 0;\n",
              "      width: 32px;\n",
              "    }\n",
              "\n",
              "    .colab-df-convert:hover {\n",
              "      background-color: #E2EBFA;\n",
              "      box-shadow: 0px 1px 2px rgba(60, 64, 67, 0.3), 0px 1px 3px 1px rgba(60, 64, 67, 0.15);\n",
              "      fill: #174EA6;\n",
              "    }\n",
              "\n",
              "    [theme=dark] .colab-df-convert {\n",
              "      background-color: #3B4455;\n",
              "      fill: #D2E3FC;\n",
              "    }\n",
              "\n",
              "    [theme=dark] .colab-df-convert:hover {\n",
              "      background-color: #434B5C;\n",
              "      box-shadow: 0px 1px 3px 1px rgba(0, 0, 0, 0.15);\n",
              "      filter: drop-shadow(0px 1px 2px rgba(0, 0, 0, 0.3));\n",
              "      fill: #FFFFFF;\n",
              "    }\n",
              "  </style>\n",
              "\n",
              "      <script>\n",
              "        const buttonEl =\n",
              "          document.querySelector('#df-8cf3f64a-9031-4af1-a543-1c9b3044f747 button.colab-df-convert');\n",
              "        buttonEl.style.display =\n",
              "          google.colab.kernel.accessAllowed ? 'block' : 'none';\n",
              "\n",
              "        async function convertToInteractive(key) {\n",
              "          const element = document.querySelector('#df-8cf3f64a-9031-4af1-a543-1c9b3044f747');\n",
              "          const dataTable =\n",
              "            await google.colab.kernel.invokeFunction('convertToInteractive',\n",
              "                                                     [key], {});\n",
              "          if (!dataTable) return;\n",
              "\n",
              "          const docLinkHtml = 'Like what you see? Visit the ' +\n",
              "            '<a target=\"_blank\" href=https://colab.research.google.com/notebooks/data_table.ipynb>data table notebook</a>'\n",
              "            + ' to learn more about interactive tables.';\n",
              "          element.innerHTML = '';\n",
              "          dataTable['output_type'] = 'display_data';\n",
              "          await google.colab.output.renderOutput(dataTable, element);\n",
              "          const docLink = document.createElement('div');\n",
              "          docLink.innerHTML = docLinkHtml;\n",
              "          element.appendChild(docLink);\n",
              "        }\n",
              "      </script>\n",
              "    </div>\n",
              "  </div>\n",
              "  "
            ]
          },
          "metadata": {},
          "execution_count": 58
        }
      ],
      "source": [
        "#Convert to lower\n",
        "conversion.convertToLower(censusData, 'Relationship to Head of House')\n",
        "\n",
        "#Check for blank space\n",
        "censusData[censusData['Relationship to Head of House'] == ' ']"
      ]
    },
    {
      "cell_type": "code",
      "source": [
        "#For row 2723\n",
        "censusData.loc[(censusData['House Number'] == 38) & (censusData['Street'] == 'Tannery Street')]"
      ],
      "metadata": {
        "colab": {
          "base_uri": "https://localhost:8080/",
          "height": 206
        },
        "id": "uAgLLdcDsKz_",
        "outputId": "84ae21f6-a876-4306-8cd6-b67d620acddd"
      },
      "execution_count": null,
      "outputs": [
        {
          "output_type": "execute_result",
          "data": {
            "text/plain": [
              "     House Number          Street First Name Surname   Age  \\\n",
              "2720           38  Tannery Street   kayleigh  Barnes  36.0   \n",
              "2721           38  Tannery Street       rita  Barnes   9.0   \n",
              "2722           38  Tannery Street    carolyn  Barnes   7.0   \n",
              "2723           38  Tannery Street       eric  Barnes   5.0   \n",
              "2724           38  Tannery Street     janice  Barnes   1.0   \n",
              "\n",
              "     Relationship to Head of House  Marital Status  Gender  \\\n",
              "2720                          head        divorced  female   \n",
              "2721                      daughter  not applicable  female   \n",
              "2722                      daughter  not applicable  female   \n",
              "2723                                not applicable    male   \n",
              "2724                      daughter  not applicable  female   \n",
              "\n",
              "                        Occupation Infirmity        Religion  \n",
              "2720  Designer, exhibition/display      none       christian  \n",
              "2721                       Student      none  not applicable  \n",
              "2722                       Student      none  not applicable  \n",
              "2723                       Student      none  not applicable  \n",
              "2724                         Child      none  not applicable  "
            ],
            "text/html": [
              "\n",
              "  <div id=\"df-63a7a045-b9f3-4f76-aee2-015f6e54ea68\">\n",
              "    <div class=\"colab-df-container\">\n",
              "      <div>\n",
              "<style scoped>\n",
              "    .dataframe tbody tr th:only-of-type {\n",
              "        vertical-align: middle;\n",
              "    }\n",
              "\n",
              "    .dataframe tbody tr th {\n",
              "        vertical-align: top;\n",
              "    }\n",
              "\n",
              "    .dataframe thead th {\n",
              "        text-align: right;\n",
              "    }\n",
              "</style>\n",
              "<table border=\"1\" class=\"dataframe\">\n",
              "  <thead>\n",
              "    <tr style=\"text-align: right;\">\n",
              "      <th></th>\n",
              "      <th>House Number</th>\n",
              "      <th>Street</th>\n",
              "      <th>First Name</th>\n",
              "      <th>Surname</th>\n",
              "      <th>Age</th>\n",
              "      <th>Relationship to Head of House</th>\n",
              "      <th>Marital Status</th>\n",
              "      <th>Gender</th>\n",
              "      <th>Occupation</th>\n",
              "      <th>Infirmity</th>\n",
              "      <th>Religion</th>\n",
              "    </tr>\n",
              "  </thead>\n",
              "  <tbody>\n",
              "    <tr>\n",
              "      <th>2720</th>\n",
              "      <td>38</td>\n",
              "      <td>Tannery Street</td>\n",
              "      <td>kayleigh</td>\n",
              "      <td>Barnes</td>\n",
              "      <td>36.0</td>\n",
              "      <td>head</td>\n",
              "      <td>divorced</td>\n",
              "      <td>female</td>\n",
              "      <td>Designer, exhibition/display</td>\n",
              "      <td>none</td>\n",
              "      <td>christian</td>\n",
              "    </tr>\n",
              "    <tr>\n",
              "      <th>2721</th>\n",
              "      <td>38</td>\n",
              "      <td>Tannery Street</td>\n",
              "      <td>rita</td>\n",
              "      <td>Barnes</td>\n",
              "      <td>9.0</td>\n",
              "      <td>daughter</td>\n",
              "      <td>not applicable</td>\n",
              "      <td>female</td>\n",
              "      <td>Student</td>\n",
              "      <td>none</td>\n",
              "      <td>not applicable</td>\n",
              "    </tr>\n",
              "    <tr>\n",
              "      <th>2722</th>\n",
              "      <td>38</td>\n",
              "      <td>Tannery Street</td>\n",
              "      <td>carolyn</td>\n",
              "      <td>Barnes</td>\n",
              "      <td>7.0</td>\n",
              "      <td>daughter</td>\n",
              "      <td>not applicable</td>\n",
              "      <td>female</td>\n",
              "      <td>Student</td>\n",
              "      <td>none</td>\n",
              "      <td>not applicable</td>\n",
              "    </tr>\n",
              "    <tr>\n",
              "      <th>2723</th>\n",
              "      <td>38</td>\n",
              "      <td>Tannery Street</td>\n",
              "      <td>eric</td>\n",
              "      <td>Barnes</td>\n",
              "      <td>5.0</td>\n",
              "      <td></td>\n",
              "      <td>not applicable</td>\n",
              "      <td>male</td>\n",
              "      <td>Student</td>\n",
              "      <td>none</td>\n",
              "      <td>not applicable</td>\n",
              "    </tr>\n",
              "    <tr>\n",
              "      <th>2724</th>\n",
              "      <td>38</td>\n",
              "      <td>Tannery Street</td>\n",
              "      <td>janice</td>\n",
              "      <td>Barnes</td>\n",
              "      <td>1.0</td>\n",
              "      <td>daughter</td>\n",
              "      <td>not applicable</td>\n",
              "      <td>female</td>\n",
              "      <td>Child</td>\n",
              "      <td>none</td>\n",
              "      <td>not applicable</td>\n",
              "    </tr>\n",
              "  </tbody>\n",
              "</table>\n",
              "</div>\n",
              "      <button class=\"colab-df-convert\" onclick=\"convertToInteractive('df-63a7a045-b9f3-4f76-aee2-015f6e54ea68')\"\n",
              "              title=\"Convert this dataframe to an interactive table.\"\n",
              "              style=\"display:none;\">\n",
              "        \n",
              "  <svg xmlns=\"http://www.w3.org/2000/svg\" height=\"24px\"viewBox=\"0 0 24 24\"\n",
              "       width=\"24px\">\n",
              "    <path d=\"M0 0h24v24H0V0z\" fill=\"none\"/>\n",
              "    <path d=\"M18.56 5.44l.94 2.06.94-2.06 2.06-.94-2.06-.94-.94-2.06-.94 2.06-2.06.94zm-11 1L8.5 8.5l.94-2.06 2.06-.94-2.06-.94L8.5 2.5l-.94 2.06-2.06.94zm10 10l.94 2.06.94-2.06 2.06-.94-2.06-.94-.94-2.06-.94 2.06-2.06.94z\"/><path d=\"M17.41 7.96l-1.37-1.37c-.4-.4-.92-.59-1.43-.59-.52 0-1.04.2-1.43.59L10.3 9.45l-7.72 7.72c-.78.78-.78 2.05 0 2.83L4 21.41c.39.39.9.59 1.41.59.51 0 1.02-.2 1.41-.59l7.78-7.78 2.81-2.81c.8-.78.8-2.07 0-2.86zM5.41 20L4 18.59l7.72-7.72 1.47 1.35L5.41 20z\"/>\n",
              "  </svg>\n",
              "      </button>\n",
              "      \n",
              "  <style>\n",
              "    .colab-df-container {\n",
              "      display:flex;\n",
              "      flex-wrap:wrap;\n",
              "      gap: 12px;\n",
              "    }\n",
              "\n",
              "    .colab-df-convert {\n",
              "      background-color: #E8F0FE;\n",
              "      border: none;\n",
              "      border-radius: 50%;\n",
              "      cursor: pointer;\n",
              "      display: none;\n",
              "      fill: #1967D2;\n",
              "      height: 32px;\n",
              "      padding: 0 0 0 0;\n",
              "      width: 32px;\n",
              "    }\n",
              "\n",
              "    .colab-df-convert:hover {\n",
              "      background-color: #E2EBFA;\n",
              "      box-shadow: 0px 1px 2px rgba(60, 64, 67, 0.3), 0px 1px 3px 1px rgba(60, 64, 67, 0.15);\n",
              "      fill: #174EA6;\n",
              "    }\n",
              "\n",
              "    [theme=dark] .colab-df-convert {\n",
              "      background-color: #3B4455;\n",
              "      fill: #D2E3FC;\n",
              "    }\n",
              "\n",
              "    [theme=dark] .colab-df-convert:hover {\n",
              "      background-color: #434B5C;\n",
              "      box-shadow: 0px 1px 3px 1px rgba(0, 0, 0, 0.15);\n",
              "      filter: drop-shadow(0px 1px 2px rgba(0, 0, 0, 0.3));\n",
              "      fill: #FFFFFF;\n",
              "    }\n",
              "  </style>\n",
              "\n",
              "      <script>\n",
              "        const buttonEl =\n",
              "          document.querySelector('#df-63a7a045-b9f3-4f76-aee2-015f6e54ea68 button.colab-df-convert');\n",
              "        buttonEl.style.display =\n",
              "          google.colab.kernel.accessAllowed ? 'block' : 'none';\n",
              "\n",
              "        async function convertToInteractive(key) {\n",
              "          const element = document.querySelector('#df-63a7a045-b9f3-4f76-aee2-015f6e54ea68');\n",
              "          const dataTable =\n",
              "            await google.colab.kernel.invokeFunction('convertToInteractive',\n",
              "                                                     [key], {});\n",
              "          if (!dataTable) return;\n",
              "\n",
              "          const docLinkHtml = 'Like what you see? Visit the ' +\n",
              "            '<a target=\"_blank\" href=https://colab.research.google.com/notebooks/data_table.ipynb>data table notebook</a>'\n",
              "            + ' to learn more about interactive tables.';\n",
              "          element.innerHTML = '';\n",
              "          dataTable['output_type'] = 'display_data';\n",
              "          await google.colab.output.renderOutput(dataTable, element);\n",
              "          const docLink = document.createElement('div');\n",
              "          docLink.innerHTML = docLinkHtml;\n",
              "          element.appendChild(docLink);\n",
              "        }\n",
              "      </script>\n",
              "    </div>\n",
              "  </div>\n",
              "  "
            ]
          },
          "metadata": {},
          "execution_count": 59
        }
      ]
    },
    {
      "cell_type": "code",
      "source": [
        "#3 other people who have relationship with Kayleigh are daughters, so judging from gender Eric is the son\n",
        "censusData.at[2724, 'Relationship to Head of House'] = 'son' # Set to son"
      ],
      "metadata": {
        "id": "5QJ7KHBZsS1P"
      },
      "execution_count": null,
      "outputs": []
    },
    {
      "cell_type": "code",
      "source": [
        "#For row 4718\n",
        "censusData.loc[(censusData['House Number'] == 72) & (censusData['Street'] == 'Capricorn Road')]"
      ],
      "metadata": {
        "colab": {
          "base_uri": "https://localhost:8080/",
          "height": 112
        },
        "id": "UdTCqcpu3YWV",
        "outputId": "7267e98f-fb52-447f-d217-2b8599e0379e"
      },
      "execution_count": null,
      "outputs": [
        {
          "output_type": "execute_result",
          "data": {
            "text/plain": [
              "     House Number          Street First Name Surname   Age  \\\n",
              "4716           72  Capricorn Road       toby   Walsh  38.0   \n",
              "4717           72  Capricorn Road      joyce  Mellor  34.0   \n",
              "\n",
              "     Relationship to Head of House Marital Status  Gender  \\\n",
              "4716                          head         single    male   \n",
              "4717                                       single  female   \n",
              "\n",
              "                                         Occupation Infirmity  Religion  \n",
              "4716  Programme researcher, broadcasting/film/video      none  catholic  \n",
              "4717                        Horticulturist, amenity      none      none  "
            ],
            "text/html": [
              "\n",
              "  <div id=\"df-d49e34b1-765b-4013-9829-c8120329a927\">\n",
              "    <div class=\"colab-df-container\">\n",
              "      <div>\n",
              "<style scoped>\n",
              "    .dataframe tbody tr th:only-of-type {\n",
              "        vertical-align: middle;\n",
              "    }\n",
              "\n",
              "    .dataframe tbody tr th {\n",
              "        vertical-align: top;\n",
              "    }\n",
              "\n",
              "    .dataframe thead th {\n",
              "        text-align: right;\n",
              "    }\n",
              "</style>\n",
              "<table border=\"1\" class=\"dataframe\">\n",
              "  <thead>\n",
              "    <tr style=\"text-align: right;\">\n",
              "      <th></th>\n",
              "      <th>House Number</th>\n",
              "      <th>Street</th>\n",
              "      <th>First Name</th>\n",
              "      <th>Surname</th>\n",
              "      <th>Age</th>\n",
              "      <th>Relationship to Head of House</th>\n",
              "      <th>Marital Status</th>\n",
              "      <th>Gender</th>\n",
              "      <th>Occupation</th>\n",
              "      <th>Infirmity</th>\n",
              "      <th>Religion</th>\n",
              "    </tr>\n",
              "  </thead>\n",
              "  <tbody>\n",
              "    <tr>\n",
              "      <th>4716</th>\n",
              "      <td>72</td>\n",
              "      <td>Capricorn Road</td>\n",
              "      <td>toby</td>\n",
              "      <td>Walsh</td>\n",
              "      <td>38.0</td>\n",
              "      <td>head</td>\n",
              "      <td>single</td>\n",
              "      <td>male</td>\n",
              "      <td>Programme researcher, broadcasting/film/video</td>\n",
              "      <td>none</td>\n",
              "      <td>catholic</td>\n",
              "    </tr>\n",
              "    <tr>\n",
              "      <th>4717</th>\n",
              "      <td>72</td>\n",
              "      <td>Capricorn Road</td>\n",
              "      <td>joyce</td>\n",
              "      <td>Mellor</td>\n",
              "      <td>34.0</td>\n",
              "      <td></td>\n",
              "      <td>single</td>\n",
              "      <td>female</td>\n",
              "      <td>Horticulturist, amenity</td>\n",
              "      <td>none</td>\n",
              "      <td>none</td>\n",
              "    </tr>\n",
              "  </tbody>\n",
              "</table>\n",
              "</div>\n",
              "      <button class=\"colab-df-convert\" onclick=\"convertToInteractive('df-d49e34b1-765b-4013-9829-c8120329a927')\"\n",
              "              title=\"Convert this dataframe to an interactive table.\"\n",
              "              style=\"display:none;\">\n",
              "        \n",
              "  <svg xmlns=\"http://www.w3.org/2000/svg\" height=\"24px\"viewBox=\"0 0 24 24\"\n",
              "       width=\"24px\">\n",
              "    <path d=\"M0 0h24v24H0V0z\" fill=\"none\"/>\n",
              "    <path d=\"M18.56 5.44l.94 2.06.94-2.06 2.06-.94-2.06-.94-.94-2.06-.94 2.06-2.06.94zm-11 1L8.5 8.5l.94-2.06 2.06-.94-2.06-.94L8.5 2.5l-.94 2.06-2.06.94zm10 10l.94 2.06.94-2.06 2.06-.94-2.06-.94-.94-2.06-.94 2.06-2.06.94z\"/><path d=\"M17.41 7.96l-1.37-1.37c-.4-.4-.92-.59-1.43-.59-.52 0-1.04.2-1.43.59L10.3 9.45l-7.72 7.72c-.78.78-.78 2.05 0 2.83L4 21.41c.39.39.9.59 1.41.59.51 0 1.02-.2 1.41-.59l7.78-7.78 2.81-2.81c.8-.78.8-2.07 0-2.86zM5.41 20L4 18.59l7.72-7.72 1.47 1.35L5.41 20z\"/>\n",
              "  </svg>\n",
              "      </button>\n",
              "      \n",
              "  <style>\n",
              "    .colab-df-container {\n",
              "      display:flex;\n",
              "      flex-wrap:wrap;\n",
              "      gap: 12px;\n",
              "    }\n",
              "\n",
              "    .colab-df-convert {\n",
              "      background-color: #E8F0FE;\n",
              "      border: none;\n",
              "      border-radius: 50%;\n",
              "      cursor: pointer;\n",
              "      display: none;\n",
              "      fill: #1967D2;\n",
              "      height: 32px;\n",
              "      padding: 0 0 0 0;\n",
              "      width: 32px;\n",
              "    }\n",
              "\n",
              "    .colab-df-convert:hover {\n",
              "      background-color: #E2EBFA;\n",
              "      box-shadow: 0px 1px 2px rgba(60, 64, 67, 0.3), 0px 1px 3px 1px rgba(60, 64, 67, 0.15);\n",
              "      fill: #174EA6;\n",
              "    }\n",
              "\n",
              "    [theme=dark] .colab-df-convert {\n",
              "      background-color: #3B4455;\n",
              "      fill: #D2E3FC;\n",
              "    }\n",
              "\n",
              "    [theme=dark] .colab-df-convert:hover {\n",
              "      background-color: #434B5C;\n",
              "      box-shadow: 0px 1px 3px 1px rgba(0, 0, 0, 0.15);\n",
              "      filter: drop-shadow(0px 1px 2px rgba(0, 0, 0, 0.3));\n",
              "      fill: #FFFFFF;\n",
              "    }\n",
              "  </style>\n",
              "\n",
              "      <script>\n",
              "        const buttonEl =\n",
              "          document.querySelector('#df-d49e34b1-765b-4013-9829-c8120329a927 button.colab-df-convert');\n",
              "        buttonEl.style.display =\n",
              "          google.colab.kernel.accessAllowed ? 'block' : 'none';\n",
              "\n",
              "        async function convertToInteractive(key) {\n",
              "          const element = document.querySelector('#df-d49e34b1-765b-4013-9829-c8120329a927');\n",
              "          const dataTable =\n",
              "            await google.colab.kernel.invokeFunction('convertToInteractive',\n",
              "                                                     [key], {});\n",
              "          if (!dataTable) return;\n",
              "\n",
              "          const docLinkHtml = 'Like what you see? Visit the ' +\n",
              "            '<a target=\"_blank\" href=https://colab.research.google.com/notebooks/data_table.ipynb>data table notebook</a>'\n",
              "            + ' to learn more about interactive tables.';\n",
              "          element.innerHTML = '';\n",
              "          dataTable['output_type'] = 'display_data';\n",
              "          await google.colab.output.renderOutput(dataTable, element);\n",
              "          const docLink = document.createElement('div');\n",
              "          docLink.innerHTML = docLinkHtml;\n",
              "          element.appendChild(docLink);\n",
              "        }\n",
              "      </script>\n",
              "    </div>\n",
              "  </div>\n",
              "  "
            ]
          },
          "metadata": {},
          "execution_count": 61
        }
      ]
    },
    {
      "cell_type": "code",
      "source": [
        "#1 other person lives in house 72, since both are single setting relationship to none\n",
        "censusData.at[4718, 'Relationship to Head of House'] = 'none' # Set to none"
      ],
      "metadata": {
        "id": "Xn9sEzhT4h2m"
      },
      "execution_count": null,
      "outputs": []
    },
    {
      "cell_type": "code",
      "source": [
        "#For row 9009\n",
        "censusData.loc[(censusData['House Number'] == 146) & (censusData['Street'] == 'Slater Drive')]"
      ],
      "metadata": {
        "colab": {
          "base_uri": "https://localhost:8080/",
          "height": 175
        },
        "id": "BgNQKm3F6Uyu",
        "outputId": "5717d171-677a-476b-be68-72c53c4c22ee"
      },
      "execution_count": null,
      "outputs": [
        {
          "output_type": "execute_result",
          "data": {
            "text/plain": [
              "     House Number        Street First Name Surname   Age  \\\n",
              "9005          146  Slater Drive      lewis    King  52.0   \n",
              "9006          146  Slater Drive   rosemary    King  48.0   \n",
              "9007          146  Slater Drive      helen    King  13.0   \n",
              "9008          146  Slater Drive       jade    King  13.0   \n",
              "\n",
              "     Relationship to Head of House  Marital Status  Gender  \\\n",
              "9005                          head         married    male   \n",
              "9006                          wife         married  female   \n",
              "9007                                not applicable  female   \n",
              "9008                      daughter  not applicable  female   \n",
              "\n",
              "                     Occupation Infirmity        Religion  \n",
              "9005       Field trials officer      none            none  \n",
              "9006  Psychologist, educational      none            none  \n",
              "9007                    Student      none  not applicable  \n",
              "9008                    Student      none  not applicable  "
            ],
            "text/html": [
              "\n",
              "  <div id=\"df-6c0a7f7b-542b-49f9-872a-56ac3a325799\">\n",
              "    <div class=\"colab-df-container\">\n",
              "      <div>\n",
              "<style scoped>\n",
              "    .dataframe tbody tr th:only-of-type {\n",
              "        vertical-align: middle;\n",
              "    }\n",
              "\n",
              "    .dataframe tbody tr th {\n",
              "        vertical-align: top;\n",
              "    }\n",
              "\n",
              "    .dataframe thead th {\n",
              "        text-align: right;\n",
              "    }\n",
              "</style>\n",
              "<table border=\"1\" class=\"dataframe\">\n",
              "  <thead>\n",
              "    <tr style=\"text-align: right;\">\n",
              "      <th></th>\n",
              "      <th>House Number</th>\n",
              "      <th>Street</th>\n",
              "      <th>First Name</th>\n",
              "      <th>Surname</th>\n",
              "      <th>Age</th>\n",
              "      <th>Relationship to Head of House</th>\n",
              "      <th>Marital Status</th>\n",
              "      <th>Gender</th>\n",
              "      <th>Occupation</th>\n",
              "      <th>Infirmity</th>\n",
              "      <th>Religion</th>\n",
              "    </tr>\n",
              "  </thead>\n",
              "  <tbody>\n",
              "    <tr>\n",
              "      <th>9005</th>\n",
              "      <td>146</td>\n",
              "      <td>Slater Drive</td>\n",
              "      <td>lewis</td>\n",
              "      <td>King</td>\n",
              "      <td>52.0</td>\n",
              "      <td>head</td>\n",
              "      <td>married</td>\n",
              "      <td>male</td>\n",
              "      <td>Field trials officer</td>\n",
              "      <td>none</td>\n",
              "      <td>none</td>\n",
              "    </tr>\n",
              "    <tr>\n",
              "      <th>9006</th>\n",
              "      <td>146</td>\n",
              "      <td>Slater Drive</td>\n",
              "      <td>rosemary</td>\n",
              "      <td>King</td>\n",
              "      <td>48.0</td>\n",
              "      <td>wife</td>\n",
              "      <td>married</td>\n",
              "      <td>female</td>\n",
              "      <td>Psychologist, educational</td>\n",
              "      <td>none</td>\n",
              "      <td>none</td>\n",
              "    </tr>\n",
              "    <tr>\n",
              "      <th>9007</th>\n",
              "      <td>146</td>\n",
              "      <td>Slater Drive</td>\n",
              "      <td>helen</td>\n",
              "      <td>King</td>\n",
              "      <td>13.0</td>\n",
              "      <td></td>\n",
              "      <td>not applicable</td>\n",
              "      <td>female</td>\n",
              "      <td>Student</td>\n",
              "      <td>none</td>\n",
              "      <td>not applicable</td>\n",
              "    </tr>\n",
              "    <tr>\n",
              "      <th>9008</th>\n",
              "      <td>146</td>\n",
              "      <td>Slater Drive</td>\n",
              "      <td>jade</td>\n",
              "      <td>King</td>\n",
              "      <td>13.0</td>\n",
              "      <td>daughter</td>\n",
              "      <td>not applicable</td>\n",
              "      <td>female</td>\n",
              "      <td>Student</td>\n",
              "      <td>none</td>\n",
              "      <td>not applicable</td>\n",
              "    </tr>\n",
              "  </tbody>\n",
              "</table>\n",
              "</div>\n",
              "      <button class=\"colab-df-convert\" onclick=\"convertToInteractive('df-6c0a7f7b-542b-49f9-872a-56ac3a325799')\"\n",
              "              title=\"Convert this dataframe to an interactive table.\"\n",
              "              style=\"display:none;\">\n",
              "        \n",
              "  <svg xmlns=\"http://www.w3.org/2000/svg\" height=\"24px\"viewBox=\"0 0 24 24\"\n",
              "       width=\"24px\">\n",
              "    <path d=\"M0 0h24v24H0V0z\" fill=\"none\"/>\n",
              "    <path d=\"M18.56 5.44l.94 2.06.94-2.06 2.06-.94-2.06-.94-.94-2.06-.94 2.06-2.06.94zm-11 1L8.5 8.5l.94-2.06 2.06-.94-2.06-.94L8.5 2.5l-.94 2.06-2.06.94zm10 10l.94 2.06.94-2.06 2.06-.94-2.06-.94-.94-2.06-.94 2.06-2.06.94z\"/><path d=\"M17.41 7.96l-1.37-1.37c-.4-.4-.92-.59-1.43-.59-.52 0-1.04.2-1.43.59L10.3 9.45l-7.72 7.72c-.78.78-.78 2.05 0 2.83L4 21.41c.39.39.9.59 1.41.59.51 0 1.02-.2 1.41-.59l7.78-7.78 2.81-2.81c.8-.78.8-2.07 0-2.86zM5.41 20L4 18.59l7.72-7.72 1.47 1.35L5.41 20z\"/>\n",
              "  </svg>\n",
              "      </button>\n",
              "      \n",
              "  <style>\n",
              "    .colab-df-container {\n",
              "      display:flex;\n",
              "      flex-wrap:wrap;\n",
              "      gap: 12px;\n",
              "    }\n",
              "\n",
              "    .colab-df-convert {\n",
              "      background-color: #E8F0FE;\n",
              "      border: none;\n",
              "      border-radius: 50%;\n",
              "      cursor: pointer;\n",
              "      display: none;\n",
              "      fill: #1967D2;\n",
              "      height: 32px;\n",
              "      padding: 0 0 0 0;\n",
              "      width: 32px;\n",
              "    }\n",
              "\n",
              "    .colab-df-convert:hover {\n",
              "      background-color: #E2EBFA;\n",
              "      box-shadow: 0px 1px 2px rgba(60, 64, 67, 0.3), 0px 1px 3px 1px rgba(60, 64, 67, 0.15);\n",
              "      fill: #174EA6;\n",
              "    }\n",
              "\n",
              "    [theme=dark] .colab-df-convert {\n",
              "      background-color: #3B4455;\n",
              "      fill: #D2E3FC;\n",
              "    }\n",
              "\n",
              "    [theme=dark] .colab-df-convert:hover {\n",
              "      background-color: #434B5C;\n",
              "      box-shadow: 0px 1px 3px 1px rgba(0, 0, 0, 0.15);\n",
              "      filter: drop-shadow(0px 1px 2px rgba(0, 0, 0, 0.3));\n",
              "      fill: #FFFFFF;\n",
              "    }\n",
              "  </style>\n",
              "\n",
              "      <script>\n",
              "        const buttonEl =\n",
              "          document.querySelector('#df-6c0a7f7b-542b-49f9-872a-56ac3a325799 button.colab-df-convert');\n",
              "        buttonEl.style.display =\n",
              "          google.colab.kernel.accessAllowed ? 'block' : 'none';\n",
              "\n",
              "        async function convertToInteractive(key) {\n",
              "          const element = document.querySelector('#df-6c0a7f7b-542b-49f9-872a-56ac3a325799');\n",
              "          const dataTable =\n",
              "            await google.colab.kernel.invokeFunction('convertToInteractive',\n",
              "                                                     [key], {});\n",
              "          if (!dataTable) return;\n",
              "\n",
              "          const docLinkHtml = 'Like what you see? Visit the ' +\n",
              "            '<a target=\"_blank\" href=https://colab.research.google.com/notebooks/data_table.ipynb>data table notebook</a>'\n",
              "            + ' to learn more about interactive tables.';\n",
              "          element.innerHTML = '';\n",
              "          dataTable['output_type'] = 'display_data';\n",
              "          await google.colab.output.renderOutput(dataTable, element);\n",
              "          const docLink = document.createElement('div');\n",
              "          docLink.innerHTML = docLinkHtml;\n",
              "          element.appendChild(docLink);\n",
              "        }\n",
              "      </script>\n",
              "    </div>\n",
              "  </div>\n",
              "  "
            ]
          },
          "metadata": {},
          "execution_count": 63
        }
      ]
    },
    {
      "cell_type": "code",
      "source": [
        "#3 other person lives in house 146, judging from relationship and gender setting value daughter\n",
        "censusData.at[9009, 'Relationship to Head of House'] = 'daughter' # Set to sdaughter"
      ],
      "metadata": {
        "id": "LT2Uh8_j6Uvv"
      },
      "execution_count": null,
      "outputs": []
    },
    {
      "cell_type": "code",
      "execution_count": null,
      "metadata": {
        "colab": {
          "base_uri": "https://localhost:8080/",
          "height": 143
        },
        "id": "rWh66IRnikUB",
        "outputId": "02c24149-2bb8-4f4e-bd80-42d252235e9c"
      },
      "outputs": [
        {
          "output_type": "execute_result",
          "data": {
            "text/plain": [
              "     House Number              Street First Name Surname   Age  \\\n",
              "4322           21  Sheffield Parkways       tony   Jones  17.0   \n",
              "4632           21      Capricorn Road      janet   Brown  16.0   \n",
              "8661           10        Slater Drive   lorraine  Wright  17.0   \n",
              "\n",
              "     Relationship to Head of House Marital Status  Gender  Occupation  \\\n",
              "4322                          head         single    male  Unemployed   \n",
              "4632                          head         single  female  Unemployed   \n",
              "8661                          head        married  female     Student   \n",
              "\n",
              "     Infirmity        Religion  \n",
              "4322      none  not applicable  \n",
              "4632      none  not applicable  \n",
              "8661      none  not applicable  "
            ],
            "text/html": [
              "\n",
              "  <div id=\"df-1d2d1a23-9f5d-47c9-aa2c-f12d887f22ae\">\n",
              "    <div class=\"colab-df-container\">\n",
              "      <div>\n",
              "<style scoped>\n",
              "    .dataframe tbody tr th:only-of-type {\n",
              "        vertical-align: middle;\n",
              "    }\n",
              "\n",
              "    .dataframe tbody tr th {\n",
              "        vertical-align: top;\n",
              "    }\n",
              "\n",
              "    .dataframe thead th {\n",
              "        text-align: right;\n",
              "    }\n",
              "</style>\n",
              "<table border=\"1\" class=\"dataframe\">\n",
              "  <thead>\n",
              "    <tr style=\"text-align: right;\">\n",
              "      <th></th>\n",
              "      <th>House Number</th>\n",
              "      <th>Street</th>\n",
              "      <th>First Name</th>\n",
              "      <th>Surname</th>\n",
              "      <th>Age</th>\n",
              "      <th>Relationship to Head of House</th>\n",
              "      <th>Marital Status</th>\n",
              "      <th>Gender</th>\n",
              "      <th>Occupation</th>\n",
              "      <th>Infirmity</th>\n",
              "      <th>Religion</th>\n",
              "    </tr>\n",
              "  </thead>\n",
              "  <tbody>\n",
              "    <tr>\n",
              "      <th>4322</th>\n",
              "      <td>21</td>\n",
              "      <td>Sheffield Parkways</td>\n",
              "      <td>tony</td>\n",
              "      <td>Jones</td>\n",
              "      <td>17.0</td>\n",
              "      <td>head</td>\n",
              "      <td>single</td>\n",
              "      <td>male</td>\n",
              "      <td>Unemployed</td>\n",
              "      <td>none</td>\n",
              "      <td>not applicable</td>\n",
              "    </tr>\n",
              "    <tr>\n",
              "      <th>4632</th>\n",
              "      <td>21</td>\n",
              "      <td>Capricorn Road</td>\n",
              "      <td>janet</td>\n",
              "      <td>Brown</td>\n",
              "      <td>16.0</td>\n",
              "      <td>head</td>\n",
              "      <td>single</td>\n",
              "      <td>female</td>\n",
              "      <td>Unemployed</td>\n",
              "      <td>none</td>\n",
              "      <td>not applicable</td>\n",
              "    </tr>\n",
              "    <tr>\n",
              "      <th>8661</th>\n",
              "      <td>10</td>\n",
              "      <td>Slater Drive</td>\n",
              "      <td>lorraine</td>\n",
              "      <td>Wright</td>\n",
              "      <td>17.0</td>\n",
              "      <td>head</td>\n",
              "      <td>married</td>\n",
              "      <td>female</td>\n",
              "      <td>Student</td>\n",
              "      <td>none</td>\n",
              "      <td>not applicable</td>\n",
              "    </tr>\n",
              "  </tbody>\n",
              "</table>\n",
              "</div>\n",
              "      <button class=\"colab-df-convert\" onclick=\"convertToInteractive('df-1d2d1a23-9f5d-47c9-aa2c-f12d887f22ae')\"\n",
              "              title=\"Convert this dataframe to an interactive table.\"\n",
              "              style=\"display:none;\">\n",
              "        \n",
              "  <svg xmlns=\"http://www.w3.org/2000/svg\" height=\"24px\"viewBox=\"0 0 24 24\"\n",
              "       width=\"24px\">\n",
              "    <path d=\"M0 0h24v24H0V0z\" fill=\"none\"/>\n",
              "    <path d=\"M18.56 5.44l.94 2.06.94-2.06 2.06-.94-2.06-.94-.94-2.06-.94 2.06-2.06.94zm-11 1L8.5 8.5l.94-2.06 2.06-.94-2.06-.94L8.5 2.5l-.94 2.06-2.06.94zm10 10l.94 2.06.94-2.06 2.06-.94-2.06-.94-.94-2.06-.94 2.06-2.06.94z\"/><path d=\"M17.41 7.96l-1.37-1.37c-.4-.4-.92-.59-1.43-.59-.52 0-1.04.2-1.43.59L10.3 9.45l-7.72 7.72c-.78.78-.78 2.05 0 2.83L4 21.41c.39.39.9.59 1.41.59.51 0 1.02-.2 1.41-.59l7.78-7.78 2.81-2.81c.8-.78.8-2.07 0-2.86zM5.41 20L4 18.59l7.72-7.72 1.47 1.35L5.41 20z\"/>\n",
              "  </svg>\n",
              "      </button>\n",
              "      \n",
              "  <style>\n",
              "    .colab-df-container {\n",
              "      display:flex;\n",
              "      flex-wrap:wrap;\n",
              "      gap: 12px;\n",
              "    }\n",
              "\n",
              "    .colab-df-convert {\n",
              "      background-color: #E8F0FE;\n",
              "      border: none;\n",
              "      border-radius: 50%;\n",
              "      cursor: pointer;\n",
              "      display: none;\n",
              "      fill: #1967D2;\n",
              "      height: 32px;\n",
              "      padding: 0 0 0 0;\n",
              "      width: 32px;\n",
              "    }\n",
              "\n",
              "    .colab-df-convert:hover {\n",
              "      background-color: #E2EBFA;\n",
              "      box-shadow: 0px 1px 2px rgba(60, 64, 67, 0.3), 0px 1px 3px 1px rgba(60, 64, 67, 0.15);\n",
              "      fill: #174EA6;\n",
              "    }\n",
              "\n",
              "    [theme=dark] .colab-df-convert {\n",
              "      background-color: #3B4455;\n",
              "      fill: #D2E3FC;\n",
              "    }\n",
              "\n",
              "    [theme=dark] .colab-df-convert:hover {\n",
              "      background-color: #434B5C;\n",
              "      box-shadow: 0px 1px 3px 1px rgba(0, 0, 0, 0.15);\n",
              "      filter: drop-shadow(0px 1px 2px rgba(0, 0, 0, 0.3));\n",
              "      fill: #FFFFFF;\n",
              "    }\n",
              "  </style>\n",
              "\n",
              "      <script>\n",
              "        const buttonEl =\n",
              "          document.querySelector('#df-1d2d1a23-9f5d-47c9-aa2c-f12d887f22ae button.colab-df-convert');\n",
              "        buttonEl.style.display =\n",
              "          google.colab.kernel.accessAllowed ? 'block' : 'none';\n",
              "\n",
              "        async function convertToInteractive(key) {\n",
              "          const element = document.querySelector('#df-1d2d1a23-9f5d-47c9-aa2c-f12d887f22ae');\n",
              "          const dataTable =\n",
              "            await google.colab.kernel.invokeFunction('convertToInteractive',\n",
              "                                                     [key], {});\n",
              "          if (!dataTable) return;\n",
              "\n",
              "          const docLinkHtml = 'Like what you see? Visit the ' +\n",
              "            '<a target=\"_blank\" href=https://colab.research.google.com/notebooks/data_table.ipynb>data table notebook</a>'\n",
              "            + ' to learn more about interactive tables.';\n",
              "          element.innerHTML = '';\n",
              "          dataTable['output_type'] = 'display_data';\n",
              "          await google.colab.output.renderOutput(dataTable, element);\n",
              "          const docLink = document.createElement('div');\n",
              "          docLink.innerHTML = docLinkHtml;\n",
              "          element.appendChild(docLink);\n",
              "        }\n",
              "      </script>\n",
              "    </div>\n",
              "  </div>\n",
              "  "
            ]
          },
          "metadata": {},
          "execution_count": 65
        }
      ],
      "source": [
        "#Checking that head of each  household is over 18 \n",
        "isHeadofHousehold = censusData[censusData['Relationship to Head of House'].str.contains('Head|head')]\n",
        "isHeadofHousehold[isHeadofHousehold['Age']<18]"
      ]
    },
    {
      "cell_type": "code",
      "source": [
        "#Since head cant be under 18 so replacing with none\n",
        "censusData.at[4322, 'Relationship to Head of House'] = 'none'\n",
        "censusData.at[4632, 'Relationship to Head of House'] = 'none'\n",
        "censusData.at[8661, 'Relationship to Head of House'] = 'none'"
      ],
      "metadata": {
        "id": "bPOu7vMH79qT"
      },
      "execution_count": null,
      "outputs": []
    },
    {
      "cell_type": "code",
      "source": [
        "#Convert to lower\n",
        "conversion.convertToLower(censusData, 'Relationship to Head of House')"
      ],
      "metadata": {
        "id": "whz5Rhknj_c5"
      },
      "execution_count": null,
      "outputs": []
    },
    {
      "cell_type": "markdown",
      "metadata": {
        "id": "EM-yHxp7ikUC"
      },
      "source": [
        "### <b>Occupation</b>"
      ]
    },
    {
      "cell_type": "code",
      "source": [
        "#Convert to lower\n",
        "conversion.convertToLower(censusData, 'Occupation')"
      ],
      "metadata": {
        "id": "BLAyiuuOkKBe"
      },
      "execution_count": null,
      "outputs": []
    },
    {
      "cell_type": "code",
      "source": [
        "#Check for reasonable answers\n",
        "print(censusData['Occupation'].unique()) #no multiple forms found"
      ],
      "metadata": {
        "colab": {
          "base_uri": "https://localhost:8080/"
        },
        "id": "k-TqA10f-Bk4",
        "outputId": "7f46ce68-ba13-463e-fe27-e655ff5d2122"
      },
      "execution_count": null,
      "outputs": [
        {
          "output_type": "stream",
          "name": "stdout",
          "text": [
            "['public relations account executive' 'sports coach' 'student' ...\n",
            " 'retired teacher, special educational needs'\n",
            " 'retired designer, jewellery' 'retired equality and diversity officer']\n"
          ]
        }
      ]
    },
    {
      "cell_type": "code",
      "source": [
        "#Check Missing\n",
        "censusData[censusData['Occupation'] == ' ']"
      ],
      "metadata": {
        "colab": {
          "base_uri": "https://localhost:8080/",
          "height": 143
        },
        "id": "UmG5NQp8-Myf",
        "outputId": "1c81673b-4755-49b8-f33d-561ea741b831"
      },
      "execution_count": null,
      "outputs": [
        {
          "output_type": "execute_result",
          "data": {
            "text/plain": [
              "     House Number          Street First Name    Surname   Age  \\\n",
              "298             2       Henry Run        sam   Williams  40.0   \n",
              "2610           20  Tannery Street      sally  Wilkinson  38.0   \n",
              "9747           15  Hunter Prairie      shaun  Griffiths  27.0   \n",
              "\n",
              "     Relationship to Head of House Marital Status  Gender Occupation  \\\n",
              "298                        husband        married    male              \n",
              "2610                          head        married  female              \n",
              "9747                          head         single    male              \n",
              "\n",
              "     Infirmity   Religion  \n",
              "298       none  christian  \n",
              "2610      none  christian  \n",
              "9747      none  christian  "
            ],
            "text/html": [
              "\n",
              "  <div id=\"df-63870687-e382-4b0b-8b5d-e975e6a44cdd\">\n",
              "    <div class=\"colab-df-container\">\n",
              "      <div>\n",
              "<style scoped>\n",
              "    .dataframe tbody tr th:only-of-type {\n",
              "        vertical-align: middle;\n",
              "    }\n",
              "\n",
              "    .dataframe tbody tr th {\n",
              "        vertical-align: top;\n",
              "    }\n",
              "\n",
              "    .dataframe thead th {\n",
              "        text-align: right;\n",
              "    }\n",
              "</style>\n",
              "<table border=\"1\" class=\"dataframe\">\n",
              "  <thead>\n",
              "    <tr style=\"text-align: right;\">\n",
              "      <th></th>\n",
              "      <th>House Number</th>\n",
              "      <th>Street</th>\n",
              "      <th>First Name</th>\n",
              "      <th>Surname</th>\n",
              "      <th>Age</th>\n",
              "      <th>Relationship to Head of House</th>\n",
              "      <th>Marital Status</th>\n",
              "      <th>Gender</th>\n",
              "      <th>Occupation</th>\n",
              "      <th>Infirmity</th>\n",
              "      <th>Religion</th>\n",
              "    </tr>\n",
              "  </thead>\n",
              "  <tbody>\n",
              "    <tr>\n",
              "      <th>298</th>\n",
              "      <td>2</td>\n",
              "      <td>Henry Run</td>\n",
              "      <td>sam</td>\n",
              "      <td>Williams</td>\n",
              "      <td>40.0</td>\n",
              "      <td>husband</td>\n",
              "      <td>married</td>\n",
              "      <td>male</td>\n",
              "      <td></td>\n",
              "      <td>none</td>\n",
              "      <td>christian</td>\n",
              "    </tr>\n",
              "    <tr>\n",
              "      <th>2610</th>\n",
              "      <td>20</td>\n",
              "      <td>Tannery Street</td>\n",
              "      <td>sally</td>\n",
              "      <td>Wilkinson</td>\n",
              "      <td>38.0</td>\n",
              "      <td>head</td>\n",
              "      <td>married</td>\n",
              "      <td>female</td>\n",
              "      <td></td>\n",
              "      <td>none</td>\n",
              "      <td>christian</td>\n",
              "    </tr>\n",
              "    <tr>\n",
              "      <th>9747</th>\n",
              "      <td>15</td>\n",
              "      <td>Hunter Prairie</td>\n",
              "      <td>shaun</td>\n",
              "      <td>Griffiths</td>\n",
              "      <td>27.0</td>\n",
              "      <td>head</td>\n",
              "      <td>single</td>\n",
              "      <td>male</td>\n",
              "      <td></td>\n",
              "      <td>none</td>\n",
              "      <td>christian</td>\n",
              "    </tr>\n",
              "  </tbody>\n",
              "</table>\n",
              "</div>\n",
              "      <button class=\"colab-df-convert\" onclick=\"convertToInteractive('df-63870687-e382-4b0b-8b5d-e975e6a44cdd')\"\n",
              "              title=\"Convert this dataframe to an interactive table.\"\n",
              "              style=\"display:none;\">\n",
              "        \n",
              "  <svg xmlns=\"http://www.w3.org/2000/svg\" height=\"24px\"viewBox=\"0 0 24 24\"\n",
              "       width=\"24px\">\n",
              "    <path d=\"M0 0h24v24H0V0z\" fill=\"none\"/>\n",
              "    <path d=\"M18.56 5.44l.94 2.06.94-2.06 2.06-.94-2.06-.94-.94-2.06-.94 2.06-2.06.94zm-11 1L8.5 8.5l.94-2.06 2.06-.94-2.06-.94L8.5 2.5l-.94 2.06-2.06.94zm10 10l.94 2.06.94-2.06 2.06-.94-2.06-.94-.94-2.06-.94 2.06-2.06.94z\"/><path d=\"M17.41 7.96l-1.37-1.37c-.4-.4-.92-.59-1.43-.59-.52 0-1.04.2-1.43.59L10.3 9.45l-7.72 7.72c-.78.78-.78 2.05 0 2.83L4 21.41c.39.39.9.59 1.41.59.51 0 1.02-.2 1.41-.59l7.78-7.78 2.81-2.81c.8-.78.8-2.07 0-2.86zM5.41 20L4 18.59l7.72-7.72 1.47 1.35L5.41 20z\"/>\n",
              "  </svg>\n",
              "      </button>\n",
              "      \n",
              "  <style>\n",
              "    .colab-df-container {\n",
              "      display:flex;\n",
              "      flex-wrap:wrap;\n",
              "      gap: 12px;\n",
              "    }\n",
              "\n",
              "    .colab-df-convert {\n",
              "      background-color: #E8F0FE;\n",
              "      border: none;\n",
              "      border-radius: 50%;\n",
              "      cursor: pointer;\n",
              "      display: none;\n",
              "      fill: #1967D2;\n",
              "      height: 32px;\n",
              "      padding: 0 0 0 0;\n",
              "      width: 32px;\n",
              "    }\n",
              "\n",
              "    .colab-df-convert:hover {\n",
              "      background-color: #E2EBFA;\n",
              "      box-shadow: 0px 1px 2px rgba(60, 64, 67, 0.3), 0px 1px 3px 1px rgba(60, 64, 67, 0.15);\n",
              "      fill: #174EA6;\n",
              "    }\n",
              "\n",
              "    [theme=dark] .colab-df-convert {\n",
              "      background-color: #3B4455;\n",
              "      fill: #D2E3FC;\n",
              "    }\n",
              "\n",
              "    [theme=dark] .colab-df-convert:hover {\n",
              "      background-color: #434B5C;\n",
              "      box-shadow: 0px 1px 3px 1px rgba(0, 0, 0, 0.15);\n",
              "      filter: drop-shadow(0px 1px 2px rgba(0, 0, 0, 0.3));\n",
              "      fill: #FFFFFF;\n",
              "    }\n",
              "  </style>\n",
              "\n",
              "      <script>\n",
              "        const buttonEl =\n",
              "          document.querySelector('#df-63870687-e382-4b0b-8b5d-e975e6a44cdd button.colab-df-convert');\n",
              "        buttonEl.style.display =\n",
              "          google.colab.kernel.accessAllowed ? 'block' : 'none';\n",
              "\n",
              "        async function convertToInteractive(key) {\n",
              "          const element = document.querySelector('#df-63870687-e382-4b0b-8b5d-e975e6a44cdd');\n",
              "          const dataTable =\n",
              "            await google.colab.kernel.invokeFunction('convertToInteractive',\n",
              "                                                     [key], {});\n",
              "          if (!dataTable) return;\n",
              "\n",
              "          const docLinkHtml = 'Like what you see? Visit the ' +\n",
              "            '<a target=\"_blank\" href=https://colab.research.google.com/notebooks/data_table.ipynb>data table notebook</a>'\n",
              "            + ' to learn more about interactive tables.';\n",
              "          element.innerHTML = '';\n",
              "          dataTable['output_type'] = 'display_data';\n",
              "          await google.colab.output.renderOutput(dataTable, element);\n",
              "          const docLink = document.createElement('div');\n",
              "          docLink.innerHTML = docLinkHtml;\n",
              "          element.appendChild(docLink);\n",
              "        }\n",
              "      </script>\n",
              "    </div>\n",
              "  </div>\n",
              "  "
            ]
          },
          "metadata": {},
          "execution_count": 70
        }
      ]
    },
    {
      "cell_type": "code",
      "source": [
        "#We fill occupation with most common occupation of others of a similar age but in reality there is no way of knowing their true employement so,\n",
        "censusData.at[298, 'Occupation'] = 'not specified'\n",
        "censusData.at[2610, 'Occupation'] = 'not specified'\n",
        "censusData.at[9747, 'Occupation'] = 'not specified'"
      ],
      "metadata": {
        "id": "5R2eEON3AiGS"
      },
      "execution_count": null,
      "outputs": []
    },
    {
      "cell_type": "markdown",
      "metadata": {
        "id": "FdD6o0rBikUD"
      },
      "source": [
        "### <b>Street</b>"
      ]
    },
    {
      "cell_type": "code",
      "source": [
        "conversion.convertToLower(censusData, 'Street')"
      ],
      "metadata": {
        "id": "CF76BoktBx5k"
      },
      "execution_count": null,
      "outputs": []
    },
    {
      "cell_type": "code",
      "source": [
        "#Check Missing\n",
        "censusData[censusData['Street'] == ' ']"
      ],
      "metadata": {
        "colab": {
          "base_uri": "https://localhost:8080/",
          "height": 49
        },
        "id": "jlDyK4O4Bx3K",
        "outputId": "18101ee9-5b8f-4996-cbb5-baa4be783696"
      },
      "execution_count": null,
      "outputs": [
        {
          "output_type": "execute_result",
          "data": {
            "text/plain": [
              "Empty DataFrame\n",
              "Columns: [House Number, Street, First Name, Surname, Age, Relationship to Head of House, Marital Status, Gender, Occupation, Infirmity, Religion]\n",
              "Index: []"
            ],
            "text/html": [
              "\n",
              "  <div id=\"df-804c3141-e754-421e-98bd-397e17db0bc6\">\n",
              "    <div class=\"colab-df-container\">\n",
              "      <div>\n",
              "<style scoped>\n",
              "    .dataframe tbody tr th:only-of-type {\n",
              "        vertical-align: middle;\n",
              "    }\n",
              "\n",
              "    .dataframe tbody tr th {\n",
              "        vertical-align: top;\n",
              "    }\n",
              "\n",
              "    .dataframe thead th {\n",
              "        text-align: right;\n",
              "    }\n",
              "</style>\n",
              "<table border=\"1\" class=\"dataframe\">\n",
              "  <thead>\n",
              "    <tr style=\"text-align: right;\">\n",
              "      <th></th>\n",
              "      <th>House Number</th>\n",
              "      <th>Street</th>\n",
              "      <th>First Name</th>\n",
              "      <th>Surname</th>\n",
              "      <th>Age</th>\n",
              "      <th>Relationship to Head of House</th>\n",
              "      <th>Marital Status</th>\n",
              "      <th>Gender</th>\n",
              "      <th>Occupation</th>\n",
              "      <th>Infirmity</th>\n",
              "      <th>Religion</th>\n",
              "    </tr>\n",
              "  </thead>\n",
              "  <tbody>\n",
              "  </tbody>\n",
              "</table>\n",
              "</div>\n",
              "      <button class=\"colab-df-convert\" onclick=\"convertToInteractive('df-804c3141-e754-421e-98bd-397e17db0bc6')\"\n",
              "              title=\"Convert this dataframe to an interactive table.\"\n",
              "              style=\"display:none;\">\n",
              "        \n",
              "  <svg xmlns=\"http://www.w3.org/2000/svg\" height=\"24px\"viewBox=\"0 0 24 24\"\n",
              "       width=\"24px\">\n",
              "    <path d=\"M0 0h24v24H0V0z\" fill=\"none\"/>\n",
              "    <path d=\"M18.56 5.44l.94 2.06.94-2.06 2.06-.94-2.06-.94-.94-2.06-.94 2.06-2.06.94zm-11 1L8.5 8.5l.94-2.06 2.06-.94-2.06-.94L8.5 2.5l-.94 2.06-2.06.94zm10 10l.94 2.06.94-2.06 2.06-.94-2.06-.94-.94-2.06-.94 2.06-2.06.94z\"/><path d=\"M17.41 7.96l-1.37-1.37c-.4-.4-.92-.59-1.43-.59-.52 0-1.04.2-1.43.59L10.3 9.45l-7.72 7.72c-.78.78-.78 2.05 0 2.83L4 21.41c.39.39.9.59 1.41.59.51 0 1.02-.2 1.41-.59l7.78-7.78 2.81-2.81c.8-.78.8-2.07 0-2.86zM5.41 20L4 18.59l7.72-7.72 1.47 1.35L5.41 20z\"/>\n",
              "  </svg>\n",
              "      </button>\n",
              "      \n",
              "  <style>\n",
              "    .colab-df-container {\n",
              "      display:flex;\n",
              "      flex-wrap:wrap;\n",
              "      gap: 12px;\n",
              "    }\n",
              "\n",
              "    .colab-df-convert {\n",
              "      background-color: #E8F0FE;\n",
              "      border: none;\n",
              "      border-radius: 50%;\n",
              "      cursor: pointer;\n",
              "      display: none;\n",
              "      fill: #1967D2;\n",
              "      height: 32px;\n",
              "      padding: 0 0 0 0;\n",
              "      width: 32px;\n",
              "    }\n",
              "\n",
              "    .colab-df-convert:hover {\n",
              "      background-color: #E2EBFA;\n",
              "      box-shadow: 0px 1px 2px rgba(60, 64, 67, 0.3), 0px 1px 3px 1px rgba(60, 64, 67, 0.15);\n",
              "      fill: #174EA6;\n",
              "    }\n",
              "\n",
              "    [theme=dark] .colab-df-convert {\n",
              "      background-color: #3B4455;\n",
              "      fill: #D2E3FC;\n",
              "    }\n",
              "\n",
              "    [theme=dark] .colab-df-convert:hover {\n",
              "      background-color: #434B5C;\n",
              "      box-shadow: 0px 1px 3px 1px rgba(0, 0, 0, 0.15);\n",
              "      filter: drop-shadow(0px 1px 2px rgba(0, 0, 0, 0.3));\n",
              "      fill: #FFFFFF;\n",
              "    }\n",
              "  </style>\n",
              "\n",
              "      <script>\n",
              "        const buttonEl =\n",
              "          document.querySelector('#df-804c3141-e754-421e-98bd-397e17db0bc6 button.colab-df-convert');\n",
              "        buttonEl.style.display =\n",
              "          google.colab.kernel.accessAllowed ? 'block' : 'none';\n",
              "\n",
              "        async function convertToInteractive(key) {\n",
              "          const element = document.querySelector('#df-804c3141-e754-421e-98bd-397e17db0bc6');\n",
              "          const dataTable =\n",
              "            await google.colab.kernel.invokeFunction('convertToInteractive',\n",
              "                                                     [key], {});\n",
              "          if (!dataTable) return;\n",
              "\n",
              "          const docLinkHtml = 'Like what you see? Visit the ' +\n",
              "            '<a target=\"_blank\" href=https://colab.research.google.com/notebooks/data_table.ipynb>data table notebook</a>'\n",
              "            + ' to learn more about interactive tables.';\n",
              "          element.innerHTML = '';\n",
              "          dataTable['output_type'] = 'display_data';\n",
              "          await google.colab.output.renderOutput(dataTable, element);\n",
              "          const docLink = document.createElement('div');\n",
              "          docLink.innerHTML = docLinkHtml;\n",
              "          element.appendChild(docLink);\n",
              "        }\n",
              "      </script>\n",
              "    </div>\n",
              "  </div>\n",
              "  "
            ]
          },
          "metadata": {},
          "execution_count": 73
        }
      ]
    },
    {
      "cell_type": "markdown",
      "metadata": {
        "id": "fpSa9IglikUE"
      },
      "source": [
        "### <b>Surname</b>"
      ]
    },
    {
      "cell_type": "code",
      "source": [
        "conversion.convertToLower(censusData, 'Surname')"
      ],
      "metadata": {
        "id": "pBKUhAnNkijU"
      },
      "execution_count": null,
      "outputs": []
    },
    {
      "cell_type": "code",
      "source": [
        "#Check for empty\n",
        "censusData[censusData['Surname'] == ' ']"
      ],
      "metadata": {
        "colab": {
          "base_uri": "https://localhost:8080/",
          "height": 81
        },
        "id": "KO4brsJ-DHDU",
        "outputId": "94225047-74af-41cc-82f4-afbf1f345d29"
      },
      "execution_count": null,
      "outputs": [
        {
          "output_type": "execute_result",
          "data": {
            "text/plain": [
              "     House Number       Street First Name Surname   Age  \\\n",
              "7487           57  hazel creek     hannah          30.0   \n",
              "\n",
              "     Relationship to Head of House Marital Status  Gender  Occupation  \\\n",
              "7487                          head        married  female  unemployed   \n",
              "\n",
              "     Infirmity  Religion  \n",
              "7487      none  catholic  "
            ],
            "text/html": [
              "\n",
              "  <div id=\"df-0f8b2375-f937-4530-a0c7-28c5626ec22d\">\n",
              "    <div class=\"colab-df-container\">\n",
              "      <div>\n",
              "<style scoped>\n",
              "    .dataframe tbody tr th:only-of-type {\n",
              "        vertical-align: middle;\n",
              "    }\n",
              "\n",
              "    .dataframe tbody tr th {\n",
              "        vertical-align: top;\n",
              "    }\n",
              "\n",
              "    .dataframe thead th {\n",
              "        text-align: right;\n",
              "    }\n",
              "</style>\n",
              "<table border=\"1\" class=\"dataframe\">\n",
              "  <thead>\n",
              "    <tr style=\"text-align: right;\">\n",
              "      <th></th>\n",
              "      <th>House Number</th>\n",
              "      <th>Street</th>\n",
              "      <th>First Name</th>\n",
              "      <th>Surname</th>\n",
              "      <th>Age</th>\n",
              "      <th>Relationship to Head of House</th>\n",
              "      <th>Marital Status</th>\n",
              "      <th>Gender</th>\n",
              "      <th>Occupation</th>\n",
              "      <th>Infirmity</th>\n",
              "      <th>Religion</th>\n",
              "    </tr>\n",
              "  </thead>\n",
              "  <tbody>\n",
              "    <tr>\n",
              "      <th>7487</th>\n",
              "      <td>57</td>\n",
              "      <td>hazel creek</td>\n",
              "      <td>hannah</td>\n",
              "      <td></td>\n",
              "      <td>30.0</td>\n",
              "      <td>head</td>\n",
              "      <td>married</td>\n",
              "      <td>female</td>\n",
              "      <td>unemployed</td>\n",
              "      <td>none</td>\n",
              "      <td>catholic</td>\n",
              "    </tr>\n",
              "  </tbody>\n",
              "</table>\n",
              "</div>\n",
              "      <button class=\"colab-df-convert\" onclick=\"convertToInteractive('df-0f8b2375-f937-4530-a0c7-28c5626ec22d')\"\n",
              "              title=\"Convert this dataframe to an interactive table.\"\n",
              "              style=\"display:none;\">\n",
              "        \n",
              "  <svg xmlns=\"http://www.w3.org/2000/svg\" height=\"24px\"viewBox=\"0 0 24 24\"\n",
              "       width=\"24px\">\n",
              "    <path d=\"M0 0h24v24H0V0z\" fill=\"none\"/>\n",
              "    <path d=\"M18.56 5.44l.94 2.06.94-2.06 2.06-.94-2.06-.94-.94-2.06-.94 2.06-2.06.94zm-11 1L8.5 8.5l.94-2.06 2.06-.94-2.06-.94L8.5 2.5l-.94 2.06-2.06.94zm10 10l.94 2.06.94-2.06 2.06-.94-2.06-.94-.94-2.06-.94 2.06-2.06.94z\"/><path d=\"M17.41 7.96l-1.37-1.37c-.4-.4-.92-.59-1.43-.59-.52 0-1.04.2-1.43.59L10.3 9.45l-7.72 7.72c-.78.78-.78 2.05 0 2.83L4 21.41c.39.39.9.59 1.41.59.51 0 1.02-.2 1.41-.59l7.78-7.78 2.81-2.81c.8-.78.8-2.07 0-2.86zM5.41 20L4 18.59l7.72-7.72 1.47 1.35L5.41 20z\"/>\n",
              "  </svg>\n",
              "      </button>\n",
              "      \n",
              "  <style>\n",
              "    .colab-df-container {\n",
              "      display:flex;\n",
              "      flex-wrap:wrap;\n",
              "      gap: 12px;\n",
              "    }\n",
              "\n",
              "    .colab-df-convert {\n",
              "      background-color: #E8F0FE;\n",
              "      border: none;\n",
              "      border-radius: 50%;\n",
              "      cursor: pointer;\n",
              "      display: none;\n",
              "      fill: #1967D2;\n",
              "      height: 32px;\n",
              "      padding: 0 0 0 0;\n",
              "      width: 32px;\n",
              "    }\n",
              "\n",
              "    .colab-df-convert:hover {\n",
              "      background-color: #E2EBFA;\n",
              "      box-shadow: 0px 1px 2px rgba(60, 64, 67, 0.3), 0px 1px 3px 1px rgba(60, 64, 67, 0.15);\n",
              "      fill: #174EA6;\n",
              "    }\n",
              "\n",
              "    [theme=dark] .colab-df-convert {\n",
              "      background-color: #3B4455;\n",
              "      fill: #D2E3FC;\n",
              "    }\n",
              "\n",
              "    [theme=dark] .colab-df-convert:hover {\n",
              "      background-color: #434B5C;\n",
              "      box-shadow: 0px 1px 3px 1px rgba(0, 0, 0, 0.15);\n",
              "      filter: drop-shadow(0px 1px 2px rgba(0, 0, 0, 0.3));\n",
              "      fill: #FFFFFF;\n",
              "    }\n",
              "  </style>\n",
              "\n",
              "      <script>\n",
              "        const buttonEl =\n",
              "          document.querySelector('#df-0f8b2375-f937-4530-a0c7-28c5626ec22d button.colab-df-convert');\n",
              "        buttonEl.style.display =\n",
              "          google.colab.kernel.accessAllowed ? 'block' : 'none';\n",
              "\n",
              "        async function convertToInteractive(key) {\n",
              "          const element = document.querySelector('#df-0f8b2375-f937-4530-a0c7-28c5626ec22d');\n",
              "          const dataTable =\n",
              "            await google.colab.kernel.invokeFunction('convertToInteractive',\n",
              "                                                     [key], {});\n",
              "          if (!dataTable) return;\n",
              "\n",
              "          const docLinkHtml = 'Like what you see? Visit the ' +\n",
              "            '<a target=\"_blank\" href=https://colab.research.google.com/notebooks/data_table.ipynb>data table notebook</a>'\n",
              "            + ' to learn more about interactive tables.';\n",
              "          element.innerHTML = '';\n",
              "          dataTable['output_type'] = 'display_data';\n",
              "          await google.colab.output.renderOutput(dataTable, element);\n",
              "          const docLink = document.createElement('div');\n",
              "          docLink.innerHTML = docLinkHtml;\n",
              "          element.appendChild(docLink);\n",
              "        }\n",
              "      </script>\n",
              "    </div>\n",
              "  </div>\n",
              "  "
            ]
          },
          "metadata": {},
          "execution_count": 75
        }
      ]
    },
    {
      "cell_type": "code",
      "source": [
        "#57 hazel creek, hannah\t aged 30.0 missing a surname, find whoever lives at her house and see if its likely they share a name\n",
        "censusData.loc[(censusData['House Number'] == 57)&(censusData['Street'] == 'hazel creek')]"
      ],
      "metadata": {
        "colab": {
          "base_uri": "https://localhost:8080/",
          "height": 175
        },
        "id": "iV-POoL9DHAL",
        "outputId": "14206b49-00fa-48c2-e8ab-297719049880"
      },
      "execution_count": null,
      "outputs": [
        {
          "output_type": "execute_result",
          "data": {
            "text/plain": [
              "     House Number       Street First Name  Surname   Age  \\\n",
              "7487           57  hazel creek     hannah           30.0   \n",
              "7488           57  hazel creek    terence  brookes  27.0   \n",
              "7489           57  hazel creek    maurice  brookes   1.0   \n",
              "7490           57  hazel creek     julian   mclean  49.0   \n",
              "\n",
              "     Relationship to Head of House  Marital Status  Gender  \\\n",
              "7487                          head         married  female   \n",
              "7488                       husband         married    male   \n",
              "7489                           son  not applicable    male   \n",
              "7490                        lodger          single    male   \n",
              "\n",
              "                  Occupation Infirmity        Religion  \n",
              "7487              unemployed      none        catholic  \n",
              "7488       financial planner      none        catholic  \n",
              "7489                   child      none  not applicable  \n",
              "7490  conservator, furniture      none        catholic  "
            ],
            "text/html": [
              "\n",
              "  <div id=\"df-15222619-3cda-4ac7-991e-94c8ccb547a7\">\n",
              "    <div class=\"colab-df-container\">\n",
              "      <div>\n",
              "<style scoped>\n",
              "    .dataframe tbody tr th:only-of-type {\n",
              "        vertical-align: middle;\n",
              "    }\n",
              "\n",
              "    .dataframe tbody tr th {\n",
              "        vertical-align: top;\n",
              "    }\n",
              "\n",
              "    .dataframe thead th {\n",
              "        text-align: right;\n",
              "    }\n",
              "</style>\n",
              "<table border=\"1\" class=\"dataframe\">\n",
              "  <thead>\n",
              "    <tr style=\"text-align: right;\">\n",
              "      <th></th>\n",
              "      <th>House Number</th>\n",
              "      <th>Street</th>\n",
              "      <th>First Name</th>\n",
              "      <th>Surname</th>\n",
              "      <th>Age</th>\n",
              "      <th>Relationship to Head of House</th>\n",
              "      <th>Marital Status</th>\n",
              "      <th>Gender</th>\n",
              "      <th>Occupation</th>\n",
              "      <th>Infirmity</th>\n",
              "      <th>Religion</th>\n",
              "    </tr>\n",
              "  </thead>\n",
              "  <tbody>\n",
              "    <tr>\n",
              "      <th>7487</th>\n",
              "      <td>57</td>\n",
              "      <td>hazel creek</td>\n",
              "      <td>hannah</td>\n",
              "      <td></td>\n",
              "      <td>30.0</td>\n",
              "      <td>head</td>\n",
              "      <td>married</td>\n",
              "      <td>female</td>\n",
              "      <td>unemployed</td>\n",
              "      <td>none</td>\n",
              "      <td>catholic</td>\n",
              "    </tr>\n",
              "    <tr>\n",
              "      <th>7488</th>\n",
              "      <td>57</td>\n",
              "      <td>hazel creek</td>\n",
              "      <td>terence</td>\n",
              "      <td>brookes</td>\n",
              "      <td>27.0</td>\n",
              "      <td>husband</td>\n",
              "      <td>married</td>\n",
              "      <td>male</td>\n",
              "      <td>financial planner</td>\n",
              "      <td>none</td>\n",
              "      <td>catholic</td>\n",
              "    </tr>\n",
              "    <tr>\n",
              "      <th>7489</th>\n",
              "      <td>57</td>\n",
              "      <td>hazel creek</td>\n",
              "      <td>maurice</td>\n",
              "      <td>brookes</td>\n",
              "      <td>1.0</td>\n",
              "      <td>son</td>\n",
              "      <td>not applicable</td>\n",
              "      <td>male</td>\n",
              "      <td>child</td>\n",
              "      <td>none</td>\n",
              "      <td>not applicable</td>\n",
              "    </tr>\n",
              "    <tr>\n",
              "      <th>7490</th>\n",
              "      <td>57</td>\n",
              "      <td>hazel creek</td>\n",
              "      <td>julian</td>\n",
              "      <td>mclean</td>\n",
              "      <td>49.0</td>\n",
              "      <td>lodger</td>\n",
              "      <td>single</td>\n",
              "      <td>male</td>\n",
              "      <td>conservator, furniture</td>\n",
              "      <td>none</td>\n",
              "      <td>catholic</td>\n",
              "    </tr>\n",
              "  </tbody>\n",
              "</table>\n",
              "</div>\n",
              "      <button class=\"colab-df-convert\" onclick=\"convertToInteractive('df-15222619-3cda-4ac7-991e-94c8ccb547a7')\"\n",
              "              title=\"Convert this dataframe to an interactive table.\"\n",
              "              style=\"display:none;\">\n",
              "        \n",
              "  <svg xmlns=\"http://www.w3.org/2000/svg\" height=\"24px\"viewBox=\"0 0 24 24\"\n",
              "       width=\"24px\">\n",
              "    <path d=\"M0 0h24v24H0V0z\" fill=\"none\"/>\n",
              "    <path d=\"M18.56 5.44l.94 2.06.94-2.06 2.06-.94-2.06-.94-.94-2.06-.94 2.06-2.06.94zm-11 1L8.5 8.5l.94-2.06 2.06-.94-2.06-.94L8.5 2.5l-.94 2.06-2.06.94zm10 10l.94 2.06.94-2.06 2.06-.94-2.06-.94-.94-2.06-.94 2.06-2.06.94z\"/><path d=\"M17.41 7.96l-1.37-1.37c-.4-.4-.92-.59-1.43-.59-.52 0-1.04.2-1.43.59L10.3 9.45l-7.72 7.72c-.78.78-.78 2.05 0 2.83L4 21.41c.39.39.9.59 1.41.59.51 0 1.02-.2 1.41-.59l7.78-7.78 2.81-2.81c.8-.78.8-2.07 0-2.86zM5.41 20L4 18.59l7.72-7.72 1.47 1.35L5.41 20z\"/>\n",
              "  </svg>\n",
              "      </button>\n",
              "      \n",
              "  <style>\n",
              "    .colab-df-container {\n",
              "      display:flex;\n",
              "      flex-wrap:wrap;\n",
              "      gap: 12px;\n",
              "    }\n",
              "\n",
              "    .colab-df-convert {\n",
              "      background-color: #E8F0FE;\n",
              "      border: none;\n",
              "      border-radius: 50%;\n",
              "      cursor: pointer;\n",
              "      display: none;\n",
              "      fill: #1967D2;\n",
              "      height: 32px;\n",
              "      padding: 0 0 0 0;\n",
              "      width: 32px;\n",
              "    }\n",
              "\n",
              "    .colab-df-convert:hover {\n",
              "      background-color: #E2EBFA;\n",
              "      box-shadow: 0px 1px 2px rgba(60, 64, 67, 0.3), 0px 1px 3px 1px rgba(60, 64, 67, 0.15);\n",
              "      fill: #174EA6;\n",
              "    }\n",
              "\n",
              "    [theme=dark] .colab-df-convert {\n",
              "      background-color: #3B4455;\n",
              "      fill: #D2E3FC;\n",
              "    }\n",
              "\n",
              "    [theme=dark] .colab-df-convert:hover {\n",
              "      background-color: #434B5C;\n",
              "      box-shadow: 0px 1px 3px 1px rgba(0, 0, 0, 0.15);\n",
              "      filter: drop-shadow(0px 1px 2px rgba(0, 0, 0, 0.3));\n",
              "      fill: #FFFFFF;\n",
              "    }\n",
              "  </style>\n",
              "\n",
              "      <script>\n",
              "        const buttonEl =\n",
              "          document.querySelector('#df-15222619-3cda-4ac7-991e-94c8ccb547a7 button.colab-df-convert');\n",
              "        buttonEl.style.display =\n",
              "          google.colab.kernel.accessAllowed ? 'block' : 'none';\n",
              "\n",
              "        async function convertToInteractive(key) {\n",
              "          const element = document.querySelector('#df-15222619-3cda-4ac7-991e-94c8ccb547a7');\n",
              "          const dataTable =\n",
              "            await google.colab.kernel.invokeFunction('convertToInteractive',\n",
              "                                                     [key], {});\n",
              "          if (!dataTable) return;\n",
              "\n",
              "          const docLinkHtml = 'Like what you see? Visit the ' +\n",
              "            '<a target=\"_blank\" href=https://colab.research.google.com/notebooks/data_table.ipynb>data table notebook</a>'\n",
              "            + ' to learn more about interactive tables.';\n",
              "          element.innerHTML = '';\n",
              "          dataTable['output_type'] = 'display_data';\n",
              "          await google.colab.output.renderOutput(dataTable, element);\n",
              "          const docLink = document.createElement('div');\n",
              "          docLink.innerHTML = docLinkHtml;\n",
              "          element.appendChild(docLink);\n",
              "        }\n",
              "      </script>\n",
              "    </div>\n",
              "  </div>\n",
              "  "
            ]
          },
          "metadata": {},
          "execution_count": 76
        }
      ]
    },
    {
      "cell_type": "code",
      "execution_count": null,
      "metadata": {
        "id": "f4j6WYTpikUE"
      },
      "outputs": [],
      "source": [
        "#Looks to be one family where she is the head hence her surename most probaliy be brookes, other is alodger so ignoring him\n",
        "censusData.at[7487, 'Surname'] = 'brookes'"
      ]
    },
    {
      "cell_type": "markdown",
      "metadata": {
        "id": "2uwJhUfBikUF"
      },
      "source": [
        "### <b>Convert to strings</b>"
      ]
    },
    {
      "cell_type": "code",
      "execution_count": null,
      "metadata": {
        "colab": {
          "base_uri": "https://localhost:8080/"
        },
        "id": "opPaCK-yikUF",
        "outputId": "f8693b6e-4bce-4d59-8cf0-732c6fee3d0b"
      },
      "outputs": [
        {
          "output_type": "stream",
          "name": "stdout",
          "text": [
            "NUMBER OF ERRORS: 0\n",
            "NUMBER OF ERRORS: 0\n",
            "NUMBER OF ERRORS: 0\n",
            "NUMBER OF ERRORS: 0\n",
            "NUMBER OF ERRORS: 0\n",
            "NUMBER OF ERRORS: 0\n",
            "NUMBER OF ERRORS: 0\n",
            "NUMBER OF ERRORS: 0\n",
            "NUMBER OF ERRORS: 0\n"
          ]
        },
        {
          "output_type": "execute_result",
          "data": {
            "text/plain": [
              "[]"
            ]
          },
          "metadata": {},
          "execution_count": 78
        }
      ],
      "source": [
        "#Finally\n",
        "conversion.convertToString(censusData, 'Street')\n",
        "conversion.convertToString(censusData, 'First Name')\n",
        "conversion.convertToString(censusData, 'Surname')\n",
        "conversion.convertToString(censusData, 'Relationship to Head of House')\n",
        "conversion.convertToString(censusData, 'Marital Status')\n",
        "conversion.convertToString(censusData, 'Gender')\n",
        "conversion.convertToString(censusData, 'Occupation')\n",
        "conversion.convertToString(censusData, 'Infirmity')\n",
        "conversion.convertToString(censusData, 'Religion')"
      ]
    },
    {
      "cell_type": "markdown",
      "metadata": {
        "id": "xRhLFUe2ikUF"
      },
      "source": [
        "## **Step Three -  Analysis & Visualization**"
      ]
    },
    {
      "cell_type": "markdown",
      "metadata": {
        "id": "jWrfMWBFikUG"
      },
      "source": [
        "This step is split up into multiple parts; Age, Religion, Marriage, Housing, Student Data, Unemployment Data. \n",
        "There may also be some overlap in these areas. "
      ]
    },
    {
      "cell_type": "markdown",
      "metadata": {
        "id": "IFE70spbikUG"
      },
      "source": [
        "### <b>Age</b>"
      ]
    },
    {
      "cell_type": "code",
      "execution_count": null,
      "metadata": {
        "colab": {
          "base_uri": "https://localhost:8080/"
        },
        "id": "n4ASL8KfikUG",
        "outputId": "f751e8ac-110e-4ffa-beae-de6c65d7ed44"
      },
      "outputs": [
        {
          "output_type": "stream",
          "name": "stdout",
          "text": [
            "The Average age is: 36.62\n",
            "The most commonly occuring age is: 0    19.0\n",
            "dtype: object\n"
          ]
        }
      ],
      "source": [
        "#Calculate the average age\n",
        "averageAge = censusData['Age'].mean()\n",
        "print(f'The Average age is: {round(averageAge,2)}')\n",
        "\n",
        "#Find the most commonly occuring age\n",
        "modeAge = censusData['Age'].mode()\n",
        "print(f'The most commonly occuring age is: {modeAge}')"
      ]
    },
    {
      "cell_type": "code",
      "source": [
        "#The Number of people born this year\n",
        "underOne = censusData['Age'] < 1\n",
        "print(f'Amount of people born this year: {underOne.sum()}')\n",
        "\n",
        "\n",
        "#Birth Rate per 100,000 pop \n",
        "multiplier = 100000/len(censusData)\n",
        "birthRate = underOne.sum()*multiplier\n",
        "print(f'Birth rate per 100,000 population is: {round(birthRate,2)}')\n",
        "\n",
        "#Number of people born prev year\n",
        "oneToTwo = censusData['Age'].between(1,1.9)\n",
        "prevBirthRate = oneToTwo.sum()*multiplier\n",
        "print(f\"Previous year's birth rate is: {round(prevBirthRate,2)}\")\n",
        "\n",
        "#Number of people born 2 years ago \n",
        "twoToThree = censusData['Age'].between(2, 2.9)\n",
        "twoPrevBirthRate = twoToThree.sum()*multiplier\n",
        "print(f\"The Birth Rate 2 Years ago was: {round(twoPrevBirthRate,2)}\")\n",
        "\n",
        "#Number of people born 3 years ago \n",
        "threeToFour = censusData['Age'].between(3, 3.9)\n",
        "threePrevBirthRate = threeToFour.sum()*multiplier\n",
        "print(f\"The Birth Rate 3 Years ago was: {round(threePrevBirthRate,2)}\")\n",
        "\n",
        "#BirthRate Difference \n",
        "diff = birthRate - prevBirthRate\n",
        "pcDiff = (diff/prevBirthRate)*100\n",
        "print(f'The birth rate for this year is {round(pcDiff,2)}% different from last year')\n",
        "prevDiff = prevBirthRate - twoPrevBirthRate\n",
        "pcPrevDiff = (prevDiff/twoPrevBirthRate)*100\n",
        "print(f'The difference between the last two years birth rates is: {round(pcPrevDiff,2)}%')"
      ],
      "metadata": {
        "colab": {
          "base_uri": "https://localhost:8080/"
        },
        "id": "Q68Nj7WdlDh4",
        "outputId": "d8552e60-ad16-42ce-f628-59e4c5fba638"
      },
      "execution_count": null,
      "outputs": [
        {
          "output_type": "stream",
          "name": "stdout",
          "text": [
            "Amount of people born this year: 100\n",
            "Birth rate per 100,000 population is: 1006.54\n",
            "Previous year's birth rate is: 905.89\n",
            "The Birth Rate 2 Years ago was: 1056.87\n",
            "The Birth Rate 3 Years ago was: 1157.52\n",
            "The birth rate for this year is 11.11% different from last year\n",
            "The difference between the last two years birth rates is: -14.29%\n"
          ]
        }
      ]
    },
    {
      "cell_type": "code",
      "source": [
        "#Amount of School/College Aged children\n",
        "schoolAged = censusData['Age']<=16\n",
        "print(f'The amount of school aged children is: {schoolAged.sum()}')\n",
        "\n",
        "#Percentage of School aged children\n",
        "pcSchoolAged = (schoolAged.sum()/len(censusData))*100\n",
        "print(f'The percentage of people in the cenus who are aged to be at school: {round(pcSchoolAged,2)}%')"
      ],
      "metadata": {
        "colab": {
          "base_uri": "https://localhost:8080/"
        },
        "id": "km2itLCVlDfR",
        "outputId": "3c5f6b44-c5e7-42bb-f6fe-a1826110a088"
      },
      "execution_count": null,
      "outputs": [
        {
          "output_type": "stream",
          "name": "stdout",
          "text": [
            "The amount of school aged children is: 2129\n",
            "The percentage of people in the cenus who are aged to be at school: 21.43%\n"
          ]
        }
      ]
    },
    {
      "cell_type": "code",
      "source": [
        "elderAged = censusData['Age']>= 64 #assumming\n",
        "print(f'The amount of elders: {elderAged.sum()}')\n",
        "pcElder = (elderAged.sum()/len(censusData))*100\n",
        "print(f'Percentage of elders in this census: {round(pcElder,2)}%')\n",
        "\n",
        "#Want to see how many elders at next  census aprox, happens every 10 years, so from 54-64\n",
        "newElders = censusData['Age'].between(54, 64)\n",
        "print(f'In the next census there will be aprox {newElders.sum()} more elders')\n",
        "pcNewElder = (newElders.sum()/len(censusData))*100\n",
        "print(f'Percentage of new elders over next 10 years : {round(pcNewElder,2)}%')\n",
        "\n",
        "#uk average age of death is 81.16\n",
        "deathCandidates = censusData['Age'] >= 81\n",
        "print(f'Death count : {deathCandidates.sum()}')"
      ],
      "metadata": {
        "colab": {
          "base_uri": "https://localhost:8080/"
        },
        "id": "K2HL9S3slDck",
        "outputId": "dc290ccc-3cae-48d2-f88d-752623c416fc"
      },
      "execution_count": null,
      "outputs": [
        {
          "output_type": "stream",
          "name": "stdout",
          "text": [
            "The amount of elders: 1242\n",
            "Percentage of elders in this census: 12.5%\n",
            "In the next census there will be aprox 1111 more elders\n",
            "Percentage of new elders over next 10 years : 11.18%\n",
            "Death count : 239\n"
          ]
        }
      ]
    },
    {
      "cell_type": "code",
      "source": [
        "#Population over last few years\n",
        "\n",
        "x = [underOne.sum(), oneToTwo.sum(), twoToThree.sum(), threeToFour.sum()]\n",
        "y = ['This Year', 'Last Year', 'Two Years Ago', 'Three Years Ago']\n",
        "print(x)\n",
        "sns.barplot(x = y, y = x)"
      ],
      "metadata": {
        "colab": {
          "base_uri": "https://localhost:8080/",
          "height": 303
        },
        "id": "K0HcQk--Ed6g",
        "outputId": "9e014a41-137a-4434-ca2a-fe09641df5e9"
      },
      "execution_count": null,
      "outputs": [
        {
          "output_type": "stream",
          "name": "stdout",
          "text": [
            "[100, 90, 105, 115]\n"
          ]
        },
        {
          "output_type": "execute_result",
          "data": {
            "text/plain": [
              "<matplotlib.axes._subplots.AxesSubplot at 0x7fb027bb9d50>"
            ]
          },
          "metadata": {},
          "execution_count": 83
        },
        {
          "output_type": "display_data",
          "data": {
            "text/plain": [
              "<Figure size 432x288 with 1 Axes>"
            ],
            "image/png": "[encoded data removed]"
          },
          "metadata": {
            "needs_background": "light"
          }
        }
      ]
    },
    {
      "cell_type": "code",
      "source": [
        "#Ages of the population\n",
        "ages = sns.displot(censusData, x='Age', bins = 10, shrink = .9)"
      ],
      "metadata": {
        "colab": {
          "base_uri": "https://localhost:8080/",
          "height": 369
        },
        "id": "J6qAnFM4EllU",
        "outputId": "6da3b549-483a-4128-8c9c-1e289aefd223"
      },
      "execution_count": null,
      "outputs": [
        {
          "output_type": "display_data",
          "data": {
            "text/plain": [
              "<Figure size 360x360 with 1 Axes>"
            ],
            "image/png": "[encoded data removed]"
          },
          "metadata": {
            "needs_background": "light"
          }
        }
      ]
    },
    {
      "cell_type": "code",
      "source": [
        "#Ages by Gender\n",
        "sns.displot(censusData, x='Age', hue='Gender', bins = 10, shrink = .9, multiple = 'dodge')"
      ],
      "metadata": {
        "colab": {
          "base_uri": "https://localhost:8080/",
          "height": 386
        },
        "id": "bX0-QoRLElio",
        "outputId": "2348fdcb-c115-4d79-d7d0-b249ffe57f86"
      },
      "execution_count": null,
      "outputs": [
        {
          "output_type": "execute_result",
          "data": {
            "text/plain": [
              "<seaborn.axisgrid.FacetGrid at 0x7fb0279f21d0>"
            ]
          },
          "metadata": {},
          "execution_count": 85
        },
        {
          "output_type": "display_data",
          "data": {
            "text/plain": [
              "<Figure size 430.5x360 with 1 Axes>"
            ],
            "image/png": "[encoded data removed]"
          },
          "metadata": {
            "needs_background": "light"
          }
        }
      ]
    },
    {
      "cell_type": "markdown",
      "metadata": {
        "id": "pn2cUACgikUH"
      },
      "source": [
        "### <b>Religion</b>"
      ]
    },
    {
      "cell_type": "code",
      "source": [
        "#Most common religion\n",
        "mostCommon = censusData['Religion'].mode()\n",
        "print(f'The most common religion is: {mostCommon}')\n",
        "\n",
        "#Religion by count\n",
        "religionNumbers = censusData['Religion'].value_counts()\n",
        "print(f'Number of people per religion in census: \\n{religionNumbers}')"
      ],
      "metadata": {
        "colab": {
          "base_uri": "https://localhost:8080/"
        },
        "id": "VfUu8sSqm_Vc",
        "outputId": "dba6db14-3746-4d22-c086-1ebb3c61ca0a"
      },
      "execution_count": null,
      "outputs": [
        {
          "output_type": "stream",
          "name": "stdout",
          "text": [
            "The most common religion is: 0    none\n",
            "dtype: object\n",
            "Number of people per religion in census: \n",
            "none              3354\n",
            "not applicable    2301\n",
            "christian         2292\n",
            "catholic          1096\n",
            "methodist          668\n",
            "muslim             116\n",
            "sikh                60\n",
            "jewish              43\n",
            "private              1\n",
            "sith                 1\n",
            "jedi                 1\n",
            "quaker               1\n",
            "pagan                1\n",
            "Name: Religion, dtype: int64\n"
          ]
        }
      ]
    },
    {
      "cell_type": "code",
      "source": [
        "#Marriages per religion \n",
        "isMarried = censusData[censusData['Marital Status'].str.contains('married')]\n",
        "religionOfMarried = isMarried['Religion'].value_counts()\n",
        "print(f'Marriages per religion: \\n{religionOfMarried}')"
      ],
      "metadata": {
        "colab": {
          "base_uri": "https://localhost:8080/"
        },
        "id": "oawm2bhcm_TL",
        "outputId": "76f0a9cb-8991-475b-a277-d34527278dd6"
      },
      "execution_count": null,
      "outputs": [
        {
          "output_type": "stream",
          "name": "stdout",
          "text": [
            "Marriages per religion: \n",
            "none              1219\n",
            "christian          788\n",
            "catholic           382\n",
            "methodist          194\n",
            "muslim              25\n",
            "sikh                17\n",
            "jewish              13\n",
            "not applicable      10\n",
            "jedi                 1\n",
            "quaker               1\n",
            "pagan                1\n",
            "Name: Religion, dtype: int64\n"
          ]
        }
      ]
    },
    {
      "cell_type": "code",
      "execution_count": null,
      "metadata": {
        "colab": {
          "base_uri": "https://localhost:8080/"
        },
        "id": "sFJ29Dp5ikUH",
        "outputId": "07825576-f375-4f37-d7b5-d7ece3408915"
      },
      "outputs": [
        {
          "output_type": "stream",
          "name": "stdout",
          "text": [
            "Unmarried by Religion: \n",
            "not applicable    2291\n",
            "none              2135\n",
            "christian         1504\n",
            "catholic           714\n",
            "methodist          474\n",
            "muslim              91\n",
            "sikh                43\n",
            "jewish              30\n",
            "private              1\n",
            "sith                 1\n",
            "Name: Religion, dtype: int64\n"
          ]
        }
      ],
      "source": [
        "#Unmarried people per religion \n",
        "unmarried = censusData[censusData['Marital Status'].str.contains('single|divorced|widowed|not applicable')]\n",
        "unmarriedByReligion = unmarried['Religion'].value_counts()\n",
        "print(f'Unmarried by Religion: \\n{unmarriedByReligion}')"
      ]
    },
    {
      "cell_type": "code",
      "source": [
        "#Children Per Religion\n",
        "isChild = censusData[censusData['Age'] <= 18]\n",
        "childByReligion = isChild['Religion'].value_counts()\n",
        "print(f'Children per Religion: \\n{childByReligion}')"
      ],
      "metadata": {
        "colab": {
          "base_uri": "https://localhost:8080/"
        },
        "id": "kcfLuOvonSKC",
        "outputId": "f6818633-5e35-4cd8-c917-91f192e43a61"
      },
      "execution_count": null,
      "outputs": [
        {
          "output_type": "stream",
          "name": "stdout",
          "text": [
            "Children per Religion: \n",
            "not applicable    2291\n",
            "none                70\n",
            "christian           30\n",
            "catholic            19\n",
            "methodist            9\n",
            "sikh                 2\n",
            "muslim               1\n",
            "Name: Religion, dtype: int64\n"
          ]
        }
      ]
    },
    {
      "cell_type": "code",
      "source": [
        "sns.displot(censusData, x = 'Age', hue = 'Religion', bins = 10, multiple = \"dodge\")"
      ],
      "metadata": {
        "colab": {
          "base_uri": "https://localhost:8080/",
          "height": 386
        },
        "id": "kj4EJ6nME-Li",
        "outputId": "0d0e8f75-a1f0-469a-a3ff-2690810a0fd8"
      },
      "execution_count": null,
      "outputs": [
        {
          "output_type": "execute_result",
          "data": {
            "text/plain": [
              "<seaborn.axisgrid.FacetGrid at 0x7fb0279f6ad0>"
            ]
          },
          "metadata": {},
          "execution_count": 90
        },
        {
          "output_type": "display_data",
          "data": {
            "text/plain": [
              "<Figure size 466.625x360 with 1 Axes>"
            ],
            "image/png": "[encoded data removed]"
          },
          "metadata": {
            "needs_background": "light"
          }
        }
      ]
    },
    {
      "cell_type": "code",
      "source": [
        "plt.figure(figsize=(10,5))\n",
        "chart = sns.countplot(\n",
        "    data=censusData,\n",
        "    x='Religion',\n",
        "    palette='Set1'\n",
        ")\n",
        "chart.set_xticklabels(chart.get_xticklabels(), rotation=45)"
      ],
      "metadata": {
        "colab": {
          "base_uri": "https://localhost:8080/",
          "height": 609
        },
        "id": "9Q0cghPnpHs-",
        "outputId": "26b02300-4713-49e8-af6f-b9b81a88c4ae"
      },
      "execution_count": null,
      "outputs": [
        {
          "output_type": "execute_result",
          "data": {
            "text/plain": [
              "[Text(0, 0, 'methodist'),\n",
              " Text(0, 0, 'none'),\n",
              " Text(0, 0, 'not applicable'),\n",
              " Text(0, 0, 'christian'),\n",
              " Text(0, 0, 'catholic'),\n",
              " Text(0, 0, 'jewish'),\n",
              " Text(0, 0, 'muslim'),\n",
              " Text(0, 0, 'sikh'),\n",
              " Text(0, 0, 'private'),\n",
              " Text(0, 0, 'sith'),\n",
              " Text(0, 0, 'jedi'),\n",
              " Text(0, 0, 'quaker'),\n",
              " Text(0, 0, 'pagan')]"
            ]
          },
          "metadata": {},
          "execution_count": 91
        },
        {
          "output_type": "display_data",
          "data": {
            "text/plain": [
              "<Figure size 720x360 with 1 Axes>"
            ],
            "image/png": "[encoded data removed]"
          },
          "metadata": {
            "needs_background": "light"
          }
        }
      ]
    },
    {
      "cell_type": "code",
      "source": [
        "#Married people per religion\n",
        "sns.displot(censusData, x = 'Marital Status', shrink = .8, hue = 'Religion', multiple = \"dodge\")"
      ],
      "metadata": {
        "colab": {
          "base_uri": "https://localhost:8080/",
          "height": 386
        },
        "id": "hA1pgZDaFUNG",
        "outputId": "1632b453-122e-4bcd-9d69-fa572c44f871"
      },
      "execution_count": null,
      "outputs": [
        {
          "output_type": "execute_result",
          "data": {
            "text/plain": [
              "<seaborn.axisgrid.FacetGrid at 0x7fb0275a4550>"
            ]
          },
          "metadata": {},
          "execution_count": 92
        },
        {
          "output_type": "display_data",
          "data": {
            "text/plain": [
              "<Figure size 466.625x360 with 1 Axes>"
            ],
            "image/png": "[encoded data removed]"
          },
          "metadata": {
            "needs_background": "light"
          }
        }
      ]
    },
    {
      "cell_type": "markdown",
      "metadata": {
        "id": "E1h_s_IvikUI"
      },
      "source": [
        "### <b>Marital Status</b>"
      ]
    },
    {
      "cell_type": "code",
      "source": [
        "#Calculate the number of people married\n",
        "numberOfPeopleMarried = censusData['Marital Status'].str.contains('married')\n",
        "print(f'Number of people married: {numberOfPeopleMarried.sum()}')\n",
        "\n",
        "#Calculate percentage of people married\n",
        "pcMarried = (numberOfPeopleMarried.sum()/len(censusData))*100\n",
        "print(f'Percentage of census participants married: {round(pcMarried,2)}%')\n",
        "\n",
        "#Calculate the percentage of population married\n",
        "pcPopMarried= numberOfPeopleMarried.sum()*multiplier\n",
        "print(f'Population married per 100,000: {round(pcPopMarried,2)}')\n",
        "\n",
        "#Calculate the average age of married people \n",
        "isMarried = censusData[censusData['Marital Status'].str.contains('married')]\n",
        "agesOfMarried = isMarried['Age']\n",
        "print(f'The average age of someone married is: {round(agesOfMarried.mean(),2)}%')"
      ],
      "metadata": {
        "colab": {
          "base_uri": "https://localhost:8080/"
        },
        "id": "nqfO6T1Nqxan",
        "outputId": "abceddbb-473b-4c3b-9de7-cc76c087bb80"
      },
      "execution_count": null,
      "outputs": [
        {
          "output_type": "stream",
          "name": "stdout",
          "text": [
            "Number of people married: 2651\n",
            "Percentage of census participants married: 26.68%\n",
            "Population married per 100,000: 26683.44\n",
            "The average age of someone married is: 50.57%\n"
          ]
        }
      ]
    },
    {
      "cell_type": "code",
      "execution_count": null,
      "metadata": {
        "id": "MNtq6bulikUI",
        "outputId": "754811a4-3d55-4789-ad69-9156bfdf6039",
        "colab": {
          "base_uri": "https://localhost:8080/"
        }
      },
      "outputs": [
        {
          "output_type": "stream",
          "name": "stdout",
          "text": [
            "Number of people Divorced: 967\n",
            "Percentage of census participants divorced: 9.73\n",
            "The average age of someone divorced is: 43.64\n"
          ]
        }
      ],
      "source": [
        "#Calculate the amount of people Divorced\n",
        "numberDivorced = censusData['Marital Status'].str.contains('divorced')\n",
        "print(f'Number of people Divorced: {numberDivorced.sum()}')\n",
        "\n",
        "#Percentage of people divorced\n",
        "pcDivorced = (numberDivorced.sum()/len(censusData))*100\n",
        "print(f'Percentage of census participants divorced: {round(pcDivorced,2)}')\n",
        "\n",
        "#Calculate the average age of someone divorced\n",
        "isDivorced = censusData[censusData['Marital Status'].str.contains('divorced')]\n",
        "agesOfDivorced = isDivorced['Age']\n",
        "print(f'The average age of someone divorced is: {round(agesOfDivorced.mean(),2)}')\\"
      ]
    },
    {
      "cell_type": "code",
      "source": [
        "#Number of women widowed\n",
        "numberWidowed = censusData['Marital Status'].str.contains('widowed')\n",
        "print(f'Number of women Widowed: {numberWidowed.sum()}')"
      ],
      "metadata": {
        "colab": {
          "base_uri": "https://localhost:8080/"
        },
        "id": "ankt17mJrkm7",
        "outputId": "7e529438-9e68-4ce5-b6b0-ac4f870ee0b0"
      },
      "execution_count": null,
      "outputs": [
        {
          "output_type": "stream",
          "name": "stdout",
          "text": [
            "Number of women Widowed: 441\n"
          ]
        }
      ]
    },
    {
      "cell_type": "code",
      "source": [
        "plt.figure(figsize=(10,5))\n",
        "chart = sns.countplot(\n",
        "    data=censusData,\n",
        "    x='Marital Status',\n",
        "    palette='Set1'\n",
        ")\n",
        "chart.set_xticklabels(chart.get_xticklabels(), rotation=45)"
      ],
      "metadata": {
        "colab": {
          "base_uri": "https://localhost:8080/",
          "height": 468
        },
        "id": "UssQVqZar22o",
        "outputId": "06ba058c-615f-4447-aa23-41ca8cec2e09"
      },
      "execution_count": null,
      "outputs": [
        {
          "output_type": "execute_result",
          "data": {
            "text/plain": [
              "[Text(0, 0, 'single'),\n",
              " Text(0, 0, 'not applicable'),\n",
              " Text(0, 0, 'married'),\n",
              " Text(0, 0, 'divorced'),\n",
              " Text(0, 0, 'widowed')]"
            ]
          },
          "metadata": {},
          "execution_count": 96
        },
        {
          "output_type": "display_data",
          "data": {
            "text/plain": [
              "<Figure size 720x360 with 1 Axes>"
            ],
            "image/png": "[encoded data removed]"
          },
          "metadata": {
            "needs_background": "light"
          }
        }
      ]
    },
    {
      "cell_type": "code",
      "source": [
        "#Marital Status vs age\n",
        "sns.displot(censusData, x = 'Age', hue = 'Marital Status', bins = 10, shrink = .9 , multiple = 'dodge')"
      ],
      "metadata": {
        "colab": {
          "base_uri": "https://localhost:8080/",
          "height": 386
        },
        "id": "LCSxr9b-Fz8T",
        "outputId": "da27de3e-9139-424c-8967-37ecf32430d5"
      },
      "execution_count": null,
      "outputs": [
        {
          "output_type": "execute_result",
          "data": {
            "text/plain": [
              "<seaborn.axisgrid.FacetGrid at 0x7fb0274bf2d0>"
            ]
          },
          "metadata": {},
          "execution_count": 97
        },
        {
          "output_type": "display_data",
          "data": {
            "text/plain": [
              "<Figure size 466.625x360 with 1 Axes>"
            ],
            "image/png": "[encoded data removed]"
          },
          "metadata": {
            "needs_background": "light"
          }
        }
      ]
    },
    {
      "cell_type": "markdown",
      "metadata": {
        "id": "AVTeh7iWikUI"
      },
      "source": [
        "### <b>Housing</b>"
      ]
    },
    {
      "cell_type": "code",
      "source": [
        "#Calculate the streets with the most houses\n",
        "housing = censusData #Create a copy of censusData\n",
        "conversion.convertToString(housing, 'House Number') #convert to str so can be combined\n",
        "housing['Address'] = housing['House Number'] + housing['Street']\n",
        "streets = housing['Street'].value_counts()\n",
        "\n",
        "#Number of people per street\n",
        "print(f'Number of people per street: \\n{streets}')"
      ],
      "metadata": {
        "colab": {
          "base_uri": "https://localhost:8080/"
        },
        "id": "TRaDUFFrsAI9",
        "outputId": "b5469edb-7951-4b58-a837-9742ddc1c2b6"
      },
      "execution_count": null,
      "outputs": [
        {
          "output_type": "stream",
          "name": "stdout",
          "text": [
            "NUMBER OF ERRORS: 0\n",
            "Number of people per street: \n",
            "tannery street     1190\n",
            "hale street         705\n",
            "oak expressway      468\n",
            "slater drive        397\n",
            "ripon lane          387\n",
            "                   ... \n",
            "black farm            5\n",
            "wood folly            5\n",
            "taylor inn            5\n",
            "metropolis fort       5\n",
            "goodluck hold         1\n",
            "Name: Street, Length: 104, dtype: int64\n"
          ]
        }
      ]
    },
    {
      "cell_type": "code",
      "source": [
        "#Number of people per housse\n",
        "houses = housing['Address'].value_counts()\n",
        "print(f'Number of people per address: \\n{houses}')"
      ],
      "metadata": {
        "colab": {
          "base_uri": "https://localhost:8080/"
        },
        "id": "0p9z450nthRR",
        "outputId": "e052a94f-39ad-4226-917d-3c023aac994a"
      },
      "execution_count": null,
      "outputs": [
        {
          "output_type": "stream",
          "name": "stdout",
          "text": [
            "Number of people per address: \n",
            "17tannery street     22\n",
            "129tannery street    21\n",
            "39tannery street     20\n",
            "128tannery street    20\n",
            "10tannery street     19\n",
            "                     ..\n",
            "8white road           1\n",
            "7white road           1\n",
            "6white road           1\n",
            "14ripon lane          1\n",
            "7stoke track          1\n",
            "Name: Address, Length: 3718, dtype: int64\n"
          ]
        }
      ]
    },
    {
      "cell_type": "code",
      "execution_count": null,
      "metadata": {
        "scrolled": true,
        "id": "yf5WSmZ1ikUJ",
        "outputId": "a051137b-9232-416f-f1b1-97ece7604754",
        "colab": {
          "base_uri": "https://localhost:8080/"
        }
      },
      "outputs": [
        {
          "output_type": "stream",
          "name": "stdout",
          "text": [
            "Average amount of people per address: 2.67\n"
          ]
        }
      ],
      "source": [
        "avgHouseOccupancy = houses.mean()\n",
        "print(f'Average amount of people per address: {round(avgHouseOccupancy,2)}')"
      ]
    },
    {
      "cell_type": "code",
      "source": [
        "censusData.groupby(['Street'])['House Number'].mean() #checking mean age of divorced individuals"
      ],
      "metadata": {
        "colab": {
          "base_uri": "https://localhost:8080/"
        },
        "id": "bxhWTz2olDcw",
        "outputId": "918886e5-9f72-4b1c-bb98-3576bec38f55"
      },
      "execution_count": null,
      "outputs": [
        {
          "output_type": "execute_result",
          "data": {
            "text/plain": [
              "Street\n",
              "andrews lane         1.548523e+127\n",
              "april junction       1.547273e+142\n",
              "bank street           3.495241e+51\n",
              "barlow fortress       1.851850e+04\n",
              "bates springs        8.510102e+232\n",
              "                         ...      \n",
              "williams rectory      1.851850e+04\n",
              "wood folly            2.222200e+03\n",
              "woodward crossing    1.523761e+130\n",
              "wright glen           1.011112e+09\n",
              "yucca vista           1.223346e+08\n",
              "Name: House Number, Length: 104, dtype: float64"
            ]
          },
          "metadata": {},
          "execution_count": 145
        }
      ]
    },
    {
      "cell_type": "markdown",
      "metadata": {
        "id": "hpPASzLiikUJ"
      },
      "source": [
        "### <b>Students</b>"
      ]
    },
    {
      "cell_type": "code",
      "execution_count": null,
      "metadata": {
        "id": "bfCkoyxiikUK",
        "outputId": "2aa82cc3-b081-4529-a175-189e95751fba",
        "colab": {
          "base_uri": "https://localhost:8080/"
        }
      },
      "outputs": [
        {
          "output_type": "stream",
          "name": "stdout",
          "text": [
            "Number of students:  2529\n",
            "Percentage of census participants who are students: 25.46%\n"
          ]
        }
      ],
      "source": [
        "#Amount of students\n",
        "noOfStudents = censusData['Occupation'].str.contains('student')\n",
        "print('Number of students: ',noOfStudents.sum())\n",
        "\n",
        "StudentPc = (noOfStudents.sum()/len(censusData))*100\n",
        "print(f'Percentage of census participants who are students: {round(StudentPc,2)}%')"
      ]
    },
    {
      "cell_type": "code",
      "source": [
        "#Amount of students of university age\n",
        "students = censusData[censusData['Occupation'].str.contains('student')]\n",
        "uniAgeStudents = students['Age'] >= 18\n",
        "print(f'Number of university aged students: {uniAgeStudents.sum()}')\n",
        "\n",
        "#Students as a percentage of the population\n",
        "uniStudentPc = (uniAgeStudents.sum()/len(censusData))*100\n",
        "print(f'Percentage of census participants who are university aged students: {round(uniStudentPc,2)}%')"
      ],
      "metadata": {
        "colab": {
          "base_uri": "https://localhost:8080/"
        },
        "id": "OncTa7xit3F7",
        "outputId": "8e94a214-b7a0-4544-f624-b61ef4ab7818"
      },
      "execution_count": null,
      "outputs": [
        {
          "output_type": "stream",
          "name": "stdout",
          "text": [
            "Number of university aged students: 832\n",
            "Percentage of census participants who are university aged students: 8.37%\n"
          ]
        }
      ]
    },
    {
      "cell_type": "code",
      "source": [
        "Occupationplt = censusData\n",
        "Occupation = Occupationplt['Occupation'].value_counts()\n",
        "Occupation"
      ],
      "metadata": {
        "colab": {
          "base_uri": "https://localhost:8080/"
        },
        "id": "09tBk-Cmu3gW",
        "outputId": "f66ff39e-f4f8-4897-db45-d0aa7f60fdbe"
      },
      "execution_count": null,
      "outputs": [
        {
          "output_type": "execute_result",
          "data": {
            "text/plain": [
              "student                                             1834\n",
              "university student                                   678\n",
              "unemployed                                           623\n",
              "child                                                544\n",
              "medical physicist                                     20\n",
              "                                                    ... \n",
              "retired teacher, english as a foreign language         1\n",
              "retired conservation officer, historic buildings       1\n",
              "retired surveyor, minerals                             1\n",
              "retired therapist, occupational                        1\n",
              "retired equality and diversity officer                 1\n",
              "Name: Occupation, Length: 1129, dtype: int64"
            ]
          },
          "metadata": {},
          "execution_count": 103
        }
      ]
    },
    {
      "cell_type": "code",
      "source": [
        "Notstudent = censusData['Age']>= 25 #assumming\n",
        "print(f'The amount of Non-student: {Notstudent.sum()}')\n",
        "NotstudentPc = (Notstudent.sum()/len(censusData))*100\n",
        "print(f'Percentage of elders in this census: {round(NotstudentPc,2)}%')"
      ],
      "metadata": {
        "colab": {
          "base_uri": "https://localhost:8080/"
        },
        "id": "SYdVowx6jHf6",
        "outputId": "555a09db-fdb3-4852-c554-119a6f0630ba"
      },
      "execution_count": null,
      "outputs": [
        {
          "output_type": "stream",
          "name": "stdout",
          "text": [
            "The amount of Non-student: 6580\n",
            "Percentage of elders in this census: 66.23%\n"
          ]
        }
      ]
    },
    {
      "cell_type": "code",
      "source": [
        "# Student vs Not Student\n",
        "x = [StudentPc, NotstudentPc]\n",
        "y = ['Students', 'Not students']\n",
        "sns.barplot(x = y, y = x)"
      ],
      "metadata": {
        "colab": {
          "base_uri": "https://localhost:8080/",
          "height": 282
        },
        "id": "9NmGhIiyhNG2",
        "outputId": "0634e4d7-3b1a-4d09-8d2a-aa21d34d6fbf"
      },
      "execution_count": null,
      "outputs": [
        {
          "output_type": "execute_result",
          "data": {
            "text/plain": [
              "<matplotlib.axes._subplots.AxesSubplot at 0x7fb026a46a10>"
            ]
          },
          "metadata": {},
          "execution_count": 136
        },
        {
          "output_type": "display_data",
          "data": {
            "text/plain": [
              "<Figure size 432x288 with 1 Axes>"
            ],
            "image/png": "[encoded data removed]"
          },
          "metadata": {
            "needs_background": "light"
          }
        }
      ]
    },
    {
      "cell_type": "markdown",
      "metadata": {
        "id": "PwQqtJJPikUK"
      },
      "source": [
        "<b>Unemployment</b>"
      ]
    },
    {
      "cell_type": "code",
      "execution_count": null,
      "metadata": {
        "id": "EIApU9dUikUL",
        "outputId": "71877dd1-c1ed-4b05-bf5e-7de54ad28623",
        "colab": {
          "base_uri": "https://localhost:8080/"
        }
      },
      "outputs": [
        {
          "output_type": "stream",
          "name": "stdout",
          "text": [
            "No of people unemployed: 623\n",
            "Percentage of census participants who are unemployed : 6.27%\n",
            "Percentage of pop per 100,000: 6.27%\n"
          ]
        }
      ],
      "source": [
        "#amount of unemployed\n",
        "noUnemployed = censusData['Occupation'].str.contains('unemployed')\n",
        "print(f'No of people unemployed: {noUnemployed.sum()}')\n",
        "#percentage of pop unemployed\n",
        "unemployedPc = (noUnemployed.sum()/len(censusData))*100\n",
        "print(f'Percentage of census participants who are unemployed : {round(unemployedPc,2)}%')\n",
        "popUnemployed = noUnemployed.sum()*multiplier\n",
        "pcPopUnemployed = (popUnemployed/100000)*100\n",
        "print(f'Percentage of pop per 100,000: {round(pcPopUnemployed,2)}%')"
      ]
    },
    {
      "cell_type": "code",
      "source": [
        "#Careers \n",
        "#Employed, Unemployed, Student, Retired, Child\n",
        "employed = censusData[~censusData['Occupation'].str.contains('unemployed|student|child|retired')]\n",
        "retired = censusData['Occupation'].str.contains('retired')\n",
        "child = censusData['Occupation'].str.contains('child')\n",
        "\n",
        "employedCount = employed['Occupation'].count()\n",
        "unemployedCount = noUnemployed.sum()\n",
        "retiredCount = retired.sum()\n",
        "studentCount = noOfStudents.sum()\n",
        "childCount = child.sum()\n",
        "streetcount = len(censusData['Street'].unique())"
      ],
      "metadata": {
        "id": "x8g9mqvBypZq"
      },
      "execution_count": null,
      "outputs": []
    },
    {
      "cell_type": "code",
      "execution_count": null,
      "metadata": {
        "id": "2Q8cM4vRikUQ",
        "colab": {
          "base_uri": "https://localhost:8080/"
        },
        "outputId": "240d2a17-bc5f-48c2-c1ad-cb6691d2fbce"
      },
      "outputs": [
        {
          "output_type": "stream",
          "name": "stdout",
          "text": [
            "No of people employed: 5292\n",
            "Percentage of census participants who are employed : 53.27%\n"
          ]
        }
      ],
      "source": [
        "print(f'No of people employed: {employedCount.sum()}')\n",
        "#percentage of pop employed\n",
        "employedCountPc = (employedCount.sum()/len(censusData))*100\n",
        "print(f'Percentage of census participants who are employed : {round(employedCountPc,2)}%')"
      ]
    },
    {
      "cell_type": "code",
      "source": [
        "# unemployment vs employment\n",
        "x = [unemployedPc, employedCountPc]\n",
        "y = ['Unemployed', 'Employed']\n",
        "sns.barplot(x = y, y = x)"
      ],
      "metadata": {
        "colab": {
          "base_uri": "https://localhost:8080/",
          "height": 282
        },
        "id": "xPf0_I7mdpNz",
        "outputId": "c8b0f42c-8837-4b9d-f991-73cf8276a12b"
      },
      "execution_count": null,
      "outputs": [
        {
          "output_type": "execute_result",
          "data": {
            "text/plain": [
              "<matplotlib.axes._subplots.AxesSubplot at 0x7fb026c88dd0>"
            ]
          },
          "metadata": {},
          "execution_count": 128
        },
        {
          "output_type": "display_data",
          "data": {
            "text/plain": [
              "<Figure size 432x288 with 1 Axes>"
            ],
            "image/png": "[encoded data removed]"
          },
          "metadata": {
            "needs_background": "light"
          }
        }
      ]
    },
    {
      "cell_type": "code",
      "source": [
        "noUnemployed = censusData.loc[censusData['Occupation'] == 'unemployed']\n",
        "noUnemployed"
      ],
      "metadata": {
        "colab": {
          "base_uri": "https://localhost:8080/",
          "height": 424
        },
        "id": "ujmg9uTRlJNs",
        "outputId": "42c3f8f1-39ea-4743-c988-8df681b87d2c"
      },
      "execution_count": null,
      "outputs": [
        {
          "output_type": "execute_result",
          "data": {
            "text/plain": [
              "     House Number          Street   First Name         Surname   Age  \\\n",
              "7               4        may road        marie           james  54.0   \n",
              "25             10        may road       elliot         buckley  34.0   \n",
              "29             11        may road      charlie           smart  42.0   \n",
              "101            32        may road   jacqueline          porter  35.0   \n",
              "106            33        may road     beverley        mckenzie  30.0   \n",
              "...           ...             ...          ...             ...   ...   \n",
              "9826            2  gracebond lane       kirsty         holland  57.0   \n",
              "9831            5  gracebond lane         rita          cooper  59.0   \n",
              "9847            1  ebor warehouse      annette  thompson-jones  19.0   \n",
              "9894            1       east hold  christopher       whittaker  45.0   \n",
              "9919            1      taylor inn        abbie            wall  49.0   \n",
              "\n",
              "     Relationship to Head of House Marital Status  Gender  Occupation  \\\n",
              "7                             head        married  female  unemployed   \n",
              "25                         husband        married    male  unemployed   \n",
              "29                         husband        married    male  unemployed   \n",
              "101                           head       divorced  female  unemployed   \n",
              "106                           head       divorced  female  unemployed   \n",
              "...                            ...            ...     ...         ...   \n",
              "9826                        lodger         single  female  unemployed   \n",
              "9831                          head       divorced  female  unemployed   \n",
              "9847                      daughter         single  female  unemployed   \n",
              "9894                           son         single    male  unemployed   \n",
              "9919                          head         single  female  unemployed   \n",
              "\n",
              "     Infirmity   Religion          Address  \n",
              "7         none       none        4may road  \n",
              "25        none   catholic       10may road  \n",
              "29        none       none       11may road  \n",
              "101       none  methodist       32may road  \n",
              "106       none  methodist       33may road  \n",
              "...        ...        ...              ...  \n",
              "9826      none       none  2gracebond lane  \n",
              "9831      none       none  5gracebond lane  \n",
              "9847     blind  methodist  1ebor warehouse  \n",
              "9894      none  christian       1east hold  \n",
              "9919      none       none      1taylor inn  \n",
              "\n",
              "[623 rows x 12 columns]"
            ],
            "text/html": [
              "\n",
              "  <div id=\"df-bf7b10fc-5597-4542-88aa-55736ff281bb\">\n",
              "    <div class=\"colab-df-container\">\n",
              "      <div>\n",
              "<style scoped>\n",
              "    .dataframe tbody tr th:only-of-type {\n",
              "        vertical-align: middle;\n",
              "    }\n",
              "\n",
              "    .dataframe tbody tr th {\n",
              "        vertical-align: top;\n",
              "    }\n",
              "\n",
              "    .dataframe thead th {\n",
              "        text-align: right;\n",
              "    }\n",
              "</style>\n",
              "<table border=\"1\" class=\"dataframe\">\n",
              "  <thead>\n",
              "    <tr style=\"text-align: right;\">\n",
              "      <th></th>\n",
              "      <th>House Number</th>\n",
              "      <th>Street</th>\n",
              "      <th>First Name</th>\n",
              "      <th>Surname</th>\n",
              "      <th>Age</th>\n",
              "      <th>Relationship to Head of House</th>\n",
              "      <th>Marital Status</th>\n",
              "      <th>Gender</th>\n",
              "      <th>Occupation</th>\n",
              "      <th>Infirmity</th>\n",
              "      <th>Religion</th>\n",
              "      <th>Address</th>\n",
              "    </tr>\n",
              "  </thead>\n",
              "  <tbody>\n",
              "    <tr>\n",
              "      <th>7</th>\n",
              "      <td>4</td>\n",
              "      <td>may road</td>\n",
              "      <td>marie</td>\n",
              "      <td>james</td>\n",
              "      <td>54.0</td>\n",
              "      <td>head</td>\n",
              "      <td>married</td>\n",
              "      <td>female</td>\n",
              "      <td>unemployed</td>\n",
              "      <td>none</td>\n",
              "      <td>none</td>\n",
              "      <td>4may road</td>\n",
              "    </tr>\n",
              "    <tr>\n",
              "      <th>25</th>\n",
              "      <td>10</td>\n",
              "      <td>may road</td>\n",
              "      <td>elliot</td>\n",
              "      <td>buckley</td>\n",
              "      <td>34.0</td>\n",
              "      <td>husband</td>\n",
              "      <td>married</td>\n",
              "      <td>male</td>\n",
              "      <td>unemployed</td>\n",
              "      <td>none</td>\n",
              "      <td>catholic</td>\n",
              "      <td>10may road</td>\n",
              "    </tr>\n",
              "    <tr>\n",
              "      <th>29</th>\n",
              "      <td>11</td>\n",
              "      <td>may road</td>\n",
              "      <td>charlie</td>\n",
              "      <td>smart</td>\n",
              "      <td>42.0</td>\n",
              "      <td>husband</td>\n",
              "      <td>married</td>\n",
              "      <td>male</td>\n",
              "      <td>unemployed</td>\n",
              "      <td>none</td>\n",
              "      <td>none</td>\n",
              "      <td>11may road</td>\n",
              "    </tr>\n",
              "    <tr>\n",
              "      <th>101</th>\n",
              "      <td>32</td>\n",
              "      <td>may road</td>\n",
              "      <td>jacqueline</td>\n",
              "      <td>porter</td>\n",
              "      <td>35.0</td>\n",
              "      <td>head</td>\n",
              "      <td>divorced</td>\n",
              "      <td>female</td>\n",
              "      <td>unemployed</td>\n",
              "      <td>none</td>\n",
              "      <td>methodist</td>\n",
              "      <td>32may road</td>\n",
              "    </tr>\n",
              "    <tr>\n",
              "      <th>106</th>\n",
              "      <td>33</td>\n",
              "      <td>may road</td>\n",
              "      <td>beverley</td>\n",
              "      <td>mckenzie</td>\n",
              "      <td>30.0</td>\n",
              "      <td>head</td>\n",
              "      <td>divorced</td>\n",
              "      <td>female</td>\n",
              "      <td>unemployed</td>\n",
              "      <td>none</td>\n",
              "      <td>methodist</td>\n",
              "      <td>33may road</td>\n",
              "    </tr>\n",
              "    <tr>\n",
              "      <th>...</th>\n",
              "      <td>...</td>\n",
              "      <td>...</td>\n",
              "      <td>...</td>\n",
              "      <td>...</td>\n",
              "      <td>...</td>\n",
              "      <td>...</td>\n",
              "      <td>...</td>\n",
              "      <td>...</td>\n",
              "      <td>...</td>\n",
              "      <td>...</td>\n",
              "      <td>...</td>\n",
              "      <td>...</td>\n",
              "    </tr>\n",
              "    <tr>\n",
              "      <th>9826</th>\n",
              "      <td>2</td>\n",
              "      <td>gracebond lane</td>\n",
              "      <td>kirsty</td>\n",
              "      <td>holland</td>\n",
              "      <td>57.0</td>\n",
              "      <td>lodger</td>\n",
              "      <td>single</td>\n",
              "      <td>female</td>\n",
              "      <td>unemployed</td>\n",
              "      <td>none</td>\n",
              "      <td>none</td>\n",
              "      <td>2gracebond lane</td>\n",
              "    </tr>\n",
              "    <tr>\n",
              "      <th>9831</th>\n",
              "      <td>5</td>\n",
              "      <td>gracebond lane</td>\n",
              "      <td>rita</td>\n",
              "      <td>cooper</td>\n",
              "      <td>59.0</td>\n",
              "      <td>head</td>\n",
              "      <td>divorced</td>\n",
              "      <td>female</td>\n",
              "      <td>unemployed</td>\n",
              "      <td>none</td>\n",
              "      <td>none</td>\n",
              "      <td>5gracebond lane</td>\n",
              "    </tr>\n",
              "    <tr>\n",
              "      <th>9847</th>\n",
              "      <td>1</td>\n",
              "      <td>ebor warehouse</td>\n",
              "      <td>annette</td>\n",
              "      <td>thompson-jones</td>\n",
              "      <td>19.0</td>\n",
              "      <td>daughter</td>\n",
              "      <td>single</td>\n",
              "      <td>female</td>\n",
              "      <td>unemployed</td>\n",
              "      <td>blind</td>\n",
              "      <td>methodist</td>\n",
              "      <td>1ebor warehouse</td>\n",
              "    </tr>\n",
              "    <tr>\n",
              "      <th>9894</th>\n",
              "      <td>1</td>\n",
              "      <td>east hold</td>\n",
              "      <td>christopher</td>\n",
              "      <td>whittaker</td>\n",
              "      <td>45.0</td>\n",
              "      <td>son</td>\n",
              "      <td>single</td>\n",
              "      <td>male</td>\n",
              "      <td>unemployed</td>\n",
              "      <td>none</td>\n",
              "      <td>christian</td>\n",
              "      <td>1east hold</td>\n",
              "    </tr>\n",
              "    <tr>\n",
              "      <th>9919</th>\n",
              "      <td>1</td>\n",
              "      <td>taylor inn</td>\n",
              "      <td>abbie</td>\n",
              "      <td>wall</td>\n",
              "      <td>49.0</td>\n",
              "      <td>head</td>\n",
              "      <td>single</td>\n",
              "      <td>female</td>\n",
              "      <td>unemployed</td>\n",
              "      <td>none</td>\n",
              "      <td>none</td>\n",
              "      <td>1taylor inn</td>\n",
              "    </tr>\n",
              "  </tbody>\n",
              "</table>\n",
              "<p>623 rows × 12 columns</p>\n",
              "</div>\n",
              "      <button class=\"colab-df-convert\" onclick=\"convertToInteractive('df-bf7b10fc-5597-4542-88aa-55736ff281bb')\"\n",
              "              title=\"Convert this dataframe to an interactive table.\"\n",
              "              style=\"display:none;\">\n",
              "        \n",
              "  <svg xmlns=\"http://www.w3.org/2000/svg\" height=\"24px\"viewBox=\"0 0 24 24\"\n",
              "       width=\"24px\">\n",
              "    <path d=\"M0 0h24v24H0V0z\" fill=\"none\"/>\n",
              "    <path d=\"M18.56 5.44l.94 2.06.94-2.06 2.06-.94-2.06-.94-.94-2.06-.94 2.06-2.06.94zm-11 1L8.5 8.5l.94-2.06 2.06-.94-2.06-.94L8.5 2.5l-.94 2.06-2.06.94zm10 10l.94 2.06.94-2.06 2.06-.94-2.06-.94-.94-2.06-.94 2.06-2.06.94z\"/><path d=\"M17.41 7.96l-1.37-1.37c-.4-.4-.92-.59-1.43-.59-.52 0-1.04.2-1.43.59L10.3 9.45l-7.72 7.72c-.78.78-.78 2.05 0 2.83L4 21.41c.39.39.9.59 1.41.59.51 0 1.02-.2 1.41-.59l7.78-7.78 2.81-2.81c.8-.78.8-2.07 0-2.86zM5.41 20L4 18.59l7.72-7.72 1.47 1.35L5.41 20z\"/>\n",
              "  </svg>\n",
              "      </button>\n",
              "      \n",
              "  <style>\n",
              "    .colab-df-container {\n",
              "      display:flex;\n",
              "      flex-wrap:wrap;\n",
              "      gap: 12px;\n",
              "    }\n",
              "\n",
              "    .colab-df-convert {\n",
              "      background-color: #E8F0FE;\n",
              "      border: none;\n",
              "      border-radius: 50%;\n",
              "      cursor: pointer;\n",
              "      display: none;\n",
              "      fill: #1967D2;\n",
              "      height: 32px;\n",
              "      padding: 0 0 0 0;\n",
              "      width: 32px;\n",
              "    }\n",
              "\n",
              "    .colab-df-convert:hover {\n",
              "      background-color: #E2EBFA;\n",
              "      box-shadow: 0px 1px 2px rgba(60, 64, 67, 0.3), 0px 1px 3px 1px rgba(60, 64, 67, 0.15);\n",
              "      fill: #174EA6;\n",
              "    }\n",
              "\n",
              "    [theme=dark] .colab-df-convert {\n",
              "      background-color: #3B4455;\n",
              "      fill: #D2E3FC;\n",
              "    }\n",
              "\n",
              "    [theme=dark] .colab-df-convert:hover {\n",
              "      background-color: #434B5C;\n",
              "      box-shadow: 0px 1px 3px 1px rgba(0, 0, 0, 0.15);\n",
              "      filter: drop-shadow(0px 1px 2px rgba(0, 0, 0, 0.3));\n",
              "      fill: #FFFFFF;\n",
              "    }\n",
              "  </style>\n",
              "\n",
              "      <script>\n",
              "        const buttonEl =\n",
              "          document.querySelector('#df-bf7b10fc-5597-4542-88aa-55736ff281bb button.colab-df-convert');\n",
              "        buttonEl.style.display =\n",
              "          google.colab.kernel.accessAllowed ? 'block' : 'none';\n",
              "\n",
              "        async function convertToInteractive(key) {\n",
              "          const element = document.querySelector('#df-bf7b10fc-5597-4542-88aa-55736ff281bb');\n",
              "          const dataTable =\n",
              "            await google.colab.kernel.invokeFunction('convertToInteractive',\n",
              "                                                     [key], {});\n",
              "          if (!dataTable) return;\n",
              "\n",
              "          const docLinkHtml = 'Like what you see? Visit the ' +\n",
              "            '<a target=\"_blank\" href=https://colab.research.google.com/notebooks/data_table.ipynb>data table notebook</a>'\n",
              "            + ' to learn more about interactive tables.';\n",
              "          element.innerHTML = '';\n",
              "          dataTable['output_type'] = 'display_data';\n",
              "          await google.colab.output.renderOutput(dataTable, element);\n",
              "          const docLink = document.createElement('div');\n",
              "          docLink.innerHTML = docLinkHtml;\n",
              "          element.appendChild(docLink);\n",
              "        }\n",
              "      </script>\n",
              "    </div>\n",
              "  </div>\n",
              "  "
            ]
          },
          "metadata": {},
          "execution_count": 108
        }
      ]
    },
    {
      "cell_type": "code",
      "source": [
        "#Occupation with age\n",
        "sns.displot(noUnemployed, x = 'Age', hue = 'Occupation', bins = 10, shrink = .9 , multiple = 'dodge')"
      ],
      "metadata": {
        "colab": {
          "base_uri": "https://localhost:8080/",
          "height": 386
        },
        "id": "8nlC5Mhak-so",
        "outputId": "9eeccdb6-e0f2-40d6-d90f-2076882f751f"
      },
      "execution_count": null,
      "outputs": [
        {
          "output_type": "execute_result",
          "data": {
            "text/plain": [
              "<seaborn.axisgrid.FacetGrid at 0x7fb027167e10>"
            ]
          },
          "metadata": {},
          "execution_count": 109
        },
        {
          "output_type": "display_data",
          "data": {
            "text/plain": [
              "<Figure size 458x360 with 1 Axes>"
            ],
            "image/png": "[encoded data removed]"
          },
          "metadata": {
            "needs_background": "light"
          }
        }
      ]
    },
    {
      "cell_type": "markdown",
      "source": [
        "Ages between 25 and 55 are more likely to be unemployed than others. If we ignore childs, students and elders."
      ],
      "metadata": {
        "id": "F8KLn43BmzNA"
      }
    },
    {
      "cell_type": "markdown",
      "source": [
        "### **Infirmity**"
      ],
      "metadata": {
        "id": "gPZx7quwhwHF"
      }
    },
    {
      "cell_type": "code",
      "source": [
        "#Most common infirmity\n",
        "mostCommon = censusData['Infirmity'].mode()\n",
        "print(f'The most common infirmity is: {mostCommon}')\n",
        "\n",
        "#infirmity by count\n",
        "infirmityNumbers = censusData['Infirmity'].value_counts()\n",
        "print(f'Number of people per infirmity in census: \\n{infirmityNumbers}')"
      ],
      "metadata": {
        "colab": {
          "base_uri": "https://localhost:8080/"
        },
        "outputId": "86e01a92-2991-464b-d889-1c83c0c65084",
        "id": "ea7eu4DqjJOt"
      },
      "execution_count": null,
      "outputs": [
        {
          "output_type": "stream",
          "name": "stdout",
          "text": [
            "The most common infirmity is: 0    none\n",
            "dtype: object\n",
            "Number of people per infirmity in census: \n",
            "none                   9836\n",
            "physical disability      20\n",
            "deaf                     16\n",
            "not specified            15\n",
            "blind                    14\n",
            "mental disability        12\n",
            "disabled                 12\n",
            "unknown infection        10\n",
            "Name: Infirmity, dtype: int64\n"
          ]
        }
      ]
    },
    {
      "cell_type": "code",
      "source": [
        "infirmityNumberstPc = (infirmityNumbers/len(censusData))*100\n",
        "print(f'Percentage of census participants who are employed : {infirmityNumberstPc}%')"
      ],
      "metadata": {
        "colab": {
          "base_uri": "https://localhost:8080/"
        },
        "id": "sgZ8Duuzh1HN",
        "outputId": "23f7c732-21da-4cfd-dd0c-fb439e649120"
      },
      "execution_count": null,
      "outputs": [
        {
          "output_type": "stream",
          "name": "stdout",
          "text": [
            "Percentage of census participants who are employed : none                   99.003523\n",
            "physical disability     0.201309\n",
            "deaf                    0.161047\n",
            "not specified           0.150981\n",
            "blind                   0.140916\n",
            "mental disability       0.120785\n",
            "disabled                0.120785\n",
            "unknown infection       0.100654\n",
            "Name: Infirmity, dtype: float64%\n"
          ]
        }
      ]
    },
    {
      "cell_type": "markdown",
      "source": [
        "99 % people have no infirmity"
      ],
      "metadata": {
        "id": "9bdgUFNvzW9e"
      }
    },
    {
      "cell_type": "code",
      "source": [
        "infirmityNumberstPc.plot(kind='bar')\n",
        "plt.show()"
      ],
      "metadata": {
        "colab": {
          "base_uri": "https://localhost:8080/",
          "height": 347
        },
        "id": "yQvz4oC3nniQ",
        "outputId": "b468125c-32ff-4e14-f145-76c07e611808"
      },
      "execution_count": null,
      "outputs": [
        {
          "output_type": "display_data",
          "data": {
            "text/plain": [
              "<Figure size 432x288 with 1 Axes>"
            ],
            "image/png": "[encoded data removed]"
          },
          "metadata": {
            "needs_background": "light"
          }
        }
      ]
    },
    {
      "cell_type": "code",
      "source": [
        ""
      ],
      "metadata": {
        "id": "49ImoA4aA67v"
      },
      "execution_count": null,
      "outputs": []
    },
    {
      "cell_type": "markdown",
      "source": [
        "**From Above Extensive Analysis we can answer the following questions**"
      ],
      "metadata": {
        "id": "Osb1Cz2OnoJJ"
      }
    },
    {
      "cell_type": "markdown",
      "source": [
        "### **(a) What should be built on an unoccupied plot of land that the local government wishes to develop?**\n",
        "\t(i) High-density housing. This should be built if the population is significantly expanding.\n",
        "\t(ii) Low-density housing. This should be built if the population is “affluent” and there is demand for large family housing.\n",
        "\t(iii) Train station. There are potentially a lot of commuters in the town and building a train station could take pressure off the roads. But how will you identify commuters?\n",
        "\t(iv) Religious building. There is already one place of worship for Catholics in the town. Is there demand for a second Church (if so, which denomination?), or for a different religious building?\n",
        "\t(v) Emergency medical building. Not a full hospital, but a minor injuries centre. This should be built if there are many injuries or future pregnancies likely in the population. \n",
        "\t(vi) Something else? \n"
      ],
      "metadata": {
        "id": "yIBZEyV9ojl0"
      }
    },
    {
      "cell_type": "markdown",
      "source": [
        "“Unoccupied plot of land that the local government wishes to develop should be ‘Train Station’ as there are potentially a lot of commuters in the town and building a train station could take pressure off the roads.”"
      ],
      "metadata": {
        "id": "tCJv_L4sQv3N"
      }
    },
    {
      "cell_type": "markdown",
      "source": [
        "\n",
        "### **(b)Which one of the following options should be invested in?**\n",
        "\n",
        "\t(i) Employment and training. If there is evidence for a lot of unemployment, we should re-train people for new skills. \n",
        "\t(ii) Old age care. If there is evidence for increasing numbers of retired people in future years, the town will need to allocate more funding for end of life care. \n",
        "\t(iii) Increase spending for schooling. If there is evidence of a growing population of school-aged children (new births, or families moving in to the town), then schooling spend should increase. \n",
        "\t(iv) General infrastructure. If the town is expanding, then services (waste collection; road maintenance, etc.) will require more investment. \n"
      ],
      "metadata": {
        "id": "4ntJcobDQl88"
      }
    },
    {
      "cell_type": "code",
      "source": [
        "# unemployment vs retired people vs school-aged children vs infrastructure\n",
        "x = [unemployedCount, retiredCount, studentCount,streetcount]\n",
        "y = ['Unemployed', 'Retired', 'Student','Infrastructure']\n",
        "sns.barplot(x = y, y = x)"
      ],
      "metadata": {
        "colab": {
          "base_uri": "https://localhost:8080/",
          "height": 282
        },
        "id": "ePWN6Vd1V6t2",
        "outputId": "a67eef34-1b32-40a4-ea65-bccdf86d0430"
      },
      "execution_count": null,
      "outputs": [
        {
          "output_type": "execute_result",
          "data": {
            "text/plain": [
              "<matplotlib.axes._subplots.AxesSubplot at 0x7fb026a083d0>"
            ]
          },
          "metadata": {},
          "execution_count": 137
        },
        {
          "output_type": "display_data",
          "data": {
            "text/plain": [
              "<Figure size 432x288 with 1 Axes>"
            ],
            "image/png": "[encoded data removed]"
          },
          "metadata": {
            "needs_background": "light"
          }
        }
      ]
    },
    {
      "cell_type": "markdown",
      "source": [
        "“Increase spending for schooling should be invested in as population of school-aged children is increasing and their population is far above any other targeted population with an increase of 11% from past year”\n",
        "\n",
        "Above answer is concluded after extensive analysis and research of data for each choice given in the question.  Every important step and discovery from analytics of data is mentioned below with extensive details.\n"
      ],
      "metadata": {
        "id": "FRPj7bz5zdNg"
      }
    }
  ],
  "metadata": {
    "kernelspec": {
      "display_name": "Python 3",
      "language": "python",
      "name": "python3"
    },
    "language_info": {
      "codemirror_mode": {
        "name": "ipython",
        "version": 3
      },
      "file_extension": ".py",
      "mimetype": "text/x-python",
      "name": "python",
      "nbconvert_exporter": "python",
      "pygments_lexer": "ipython3",
      "version": "3.7.9"
    },
    "colab": {
      "name": "CensusAnalysis.ipynb",
      "provenance": [],
      "collapsed_sections": []
    }
  },
  "nbformat": 4,
  "nbformat_minor": 0
}